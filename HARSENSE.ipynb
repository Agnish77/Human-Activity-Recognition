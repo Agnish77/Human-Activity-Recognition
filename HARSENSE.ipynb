{
 "cells": [
  {
   "cell_type": "code",
   "execution_count": 1,
   "id": "bbda17fd-2a20-4c1b-9380-369ef2832656",
   "metadata": {},
   "outputs": [],
   "source": [
    "import pandas as pd\n",
    "import numpy as np\n",
    "import matplotlib.pyplot as plt\n",
    "%matplotlib inline"
   ]
  },
  {
   "cell_type": "code",
   "execution_count": 2,
   "id": "a72029a7-223e-4eda-a321-ecf4455f0230",
   "metadata": {},
   "outputs": [
    {
     "data": {
      "text/html": [
       "<div>\n",
       "<style scoped>\n",
       "    .dataframe tbody tr th:only-of-type {\n",
       "        vertical-align: middle;\n",
       "    }\n",
       "\n",
       "    .dataframe tbody tr th {\n",
       "        vertical-align: top;\n",
       "    }\n",
       "\n",
       "    .dataframe thead th {\n",
       "        text-align: right;\n",
       "    }\n",
       "</style>\n",
       "<table border=\"1\" class=\"dataframe\">\n",
       "  <thead>\n",
       "    <tr style=\"text-align: right;\">\n",
       "      <th></th>\n",
       "      <th>AG-X</th>\n",
       "      <th>AG-Y</th>\n",
       "      <th>AG-Z</th>\n",
       "      <th>Acc-X</th>\n",
       "      <th>Acc-Y</th>\n",
       "      <th>Acc-Z</th>\n",
       "      <th>Gravity-X</th>\n",
       "      <th>Gravity-Y</th>\n",
       "      <th>Gravity-Z</th>\n",
       "      <th>RR-X</th>\n",
       "      <th>RR-Y</th>\n",
       "      <th>RR-Z</th>\n",
       "      <th>RV-X</th>\n",
       "      <th>RV-Y</th>\n",
       "      <th>RV-Z</th>\n",
       "      <th>cos</th>\n",
       "      <th>activity</th>\n",
       "    </tr>\n",
       "  </thead>\n",
       "  <tbody>\n",
       "    <tr>\n",
       "      <th>0</th>\n",
       "      <td>-9.494311</td>\n",
       "      <td>5.423363</td>\n",
       "      <td>0.196757</td>\n",
       "      <td>-1.684995</td>\n",
       "      <td>0.401508</td>\n",
       "      <td>1.334339</td>\n",
       "      <td>-8.855526</td>\n",
       "      <td>4.199663</td>\n",
       "      <td>-0.335983</td>\n",
       "      <td>-0.762366</td>\n",
       "      <td>-0.750471</td>\n",
       "      <td>1.109060</td>\n",
       "      <td>0.232662</td>\n",
       "      <td>0.672025</td>\n",
       "      <td>0.101603</td>\n",
       "      <td>0.695649</td>\n",
       "      <td>Running</td>\n",
       "    </tr>\n",
       "    <tr>\n",
       "      <th>1</th>\n",
       "      <td>-8.890651</td>\n",
       "      <td>2.520043</td>\n",
       "      <td>0.963310</td>\n",
       "      <td>-0.895032</td>\n",
       "      <td>-1.936677</td>\n",
       "      <td>1.436671</td>\n",
       "      <td>-8.399648</td>\n",
       "      <td>5.060810</td>\n",
       "      <td>0.067106</td>\n",
       "      <td>-0.613229</td>\n",
       "      <td>-0.121966</td>\n",
       "      <td>1.906942</td>\n",
       "      <td>0.245168</td>\n",
       "      <td>0.660660</td>\n",
       "      <td>0.131849</td>\n",
       "      <td>0.697164</td>\n",
       "      <td>Running</td>\n",
       "    </tr>\n",
       "    <tr>\n",
       "      <th>2</th>\n",
       "      <td>-5.632800</td>\n",
       "      <td>1.581015</td>\n",
       "      <td>0.230293</td>\n",
       "      <td>2.350318</td>\n",
       "      <td>-3.642859</td>\n",
       "      <td>-1.169414</td>\n",
       "      <td>-7.911231</td>\n",
       "      <td>5.790931</td>\n",
       "      <td>0.218930</td>\n",
       "      <td>-0.142383</td>\n",
       "      <td>-0.352063</td>\n",
       "      <td>1.759936</td>\n",
       "      <td>0.264845</td>\n",
       "      <td>0.648175</td>\n",
       "      <td>0.163016</td>\n",
       "      <td>0.695091</td>\n",
       "      <td>Running</td>\n",
       "    </tr>\n",
       "    <tr>\n",
       "      <th>3</th>\n",
       "      <td>-6.322698</td>\n",
       "      <td>6.228244</td>\n",
       "      <td>-0.756644</td>\n",
       "      <td>0.812825</td>\n",
       "      <td>-0.722664</td>\n",
       "      <td>-0.334024</td>\n",
       "      <td>-7.523226</td>\n",
       "      <td>6.280006</td>\n",
       "      <td>0.364660</td>\n",
       "      <td>-0.148775</td>\n",
       "      <td>-0.382955</td>\n",
       "      <td>1.208129</td>\n",
       "      <td>0.299550</td>\n",
       "      <td>0.624335</td>\n",
       "      <td>0.195080</td>\n",
       "      <td>0.694564</td>\n",
       "      <td>Running</td>\n",
       "    </tr>\n",
       "    <tr>\n",
       "      <th>4</th>\n",
       "      <td>-7.640211</td>\n",
       "      <td>4.862821</td>\n",
       "      <td>1.715490</td>\n",
       "      <td>0.349670</td>\n",
       "      <td>-0.468074</td>\n",
       "      <td>-0.378780</td>\n",
       "      <td>-6.921238</td>\n",
       "      <td>6.909286</td>\n",
       "      <td>0.727059</td>\n",
       "      <td>-1.047857</td>\n",
       "      <td>0.379773</td>\n",
       "      <td>0.828895</td>\n",
       "      <td>0.310003</td>\n",
       "      <td>0.607825</td>\n",
       "      <td>0.220415</td>\n",
       "      <td>0.697039</td>\n",
       "      <td>Running</td>\n",
       "    </tr>\n",
       "  </tbody>\n",
       "</table>\n",
       "</div>"
      ],
      "text/plain": [
       "       AG-X      AG-Y      AG-Z     Acc-X     Acc-Y     Acc-Z  Gravity-X  \\\n",
       "0 -9.494311  5.423363  0.196757 -1.684995  0.401508  1.334339  -8.855526   \n",
       "1 -8.890651  2.520043  0.963310 -0.895032 -1.936677  1.436671  -8.399648   \n",
       "2 -5.632800  1.581015  0.230293  2.350318 -3.642859 -1.169414  -7.911231   \n",
       "3 -6.322698  6.228244 -0.756644  0.812825 -0.722664 -0.334024  -7.523226   \n",
       "4 -7.640211  4.862821  1.715490  0.349670 -0.468074 -0.378780  -6.921238   \n",
       "\n",
       "   Gravity-Y  Gravity-Z      RR-X      RR-Y      RR-Z      RV-X      RV-Y  \\\n",
       "0   4.199663  -0.335983 -0.762366 -0.750471  1.109060  0.232662  0.672025   \n",
       "1   5.060810   0.067106 -0.613229 -0.121966  1.906942  0.245168  0.660660   \n",
       "2   5.790931   0.218930 -0.142383 -0.352063  1.759936  0.264845  0.648175   \n",
       "3   6.280006   0.364660 -0.148775 -0.382955  1.208129  0.299550  0.624335   \n",
       "4   6.909286   0.727059 -1.047857  0.379773  0.828895  0.310003  0.607825   \n",
       "\n",
       "       RV-Z       cos activity  \n",
       "0  0.101603  0.695649  Running  \n",
       "1  0.131849  0.697164  Running  \n",
       "2  0.163016  0.695091  Running  \n",
       "3  0.195080  0.694564  Running  \n",
       "4  0.220415  0.697039  Running  "
      ]
     },
     "execution_count": 2,
     "metadata": {},
     "output_type": "execute_result"
    }
   ],
   "source": [
    "dataset = pd.read_csv(\"All Users Combined.csv\")\n",
    "dataset.head()"
   ]
  },
  {
   "cell_type": "code",
   "execution_count": 3,
   "id": "07b7f44b-b207-4e49-b4c8-c5d703e3ccb5",
   "metadata": {},
   "outputs": [
    {
     "name": "stdout",
     "output_type": "stream",
     "text": [
      "Requirement already satisfied: pyts in c:\\users\\agnis\\downloads\\agnish\\lib\\site-packages (0.13.0)\n",
      "Requirement already satisfied: numpy>=1.22.4 in c:\\users\\agnis\\downloads\\agnish\\lib\\site-packages (from pyts) (1.26.4)\n",
      "Requirement already satisfied: scipy>=1.8.1 in c:\\users\\agnis\\downloads\\agnish\\lib\\site-packages (from pyts) (1.13.1)\n",
      "Requirement already satisfied: scikit-learn>=1.2.0 in c:\\users\\agnis\\downloads\\agnish\\lib\\site-packages (from pyts) (1.4.2)\n",
      "Requirement already satisfied: joblib>=1.1.1 in c:\\users\\agnis\\downloads\\agnish\\lib\\site-packages (from pyts) (1.4.2)\n",
      "Requirement already satisfied: numba>=0.55.2 in c:\\users\\agnis\\downloads\\agnish\\lib\\site-packages (from pyts) (0.59.1)\n",
      "Requirement already satisfied: llvmlite<0.43,>=0.42.0dev0 in c:\\users\\agnis\\downloads\\agnish\\lib\\site-packages (from numba>=0.55.2->pyts) (0.42.0)\n",
      "Requirement already satisfied: threadpoolctl>=2.0.0 in c:\\users\\agnis\\downloads\\agnish\\lib\\site-packages (from scikit-learn>=1.2.0->pyts) (2.2.0)\n"
     ]
    }
   ],
   "source": [
    "!pip install pyts\n",
    "\n",
    "from pyts.image import GramianAngularField\n"
   ]
  },
  {
   "cell_type": "markdown",
   "id": "f05ef94c-3d3d-4268-9652-afcedf4e0f5f",
   "metadata": {},
   "source": [
    "DATASET PREPROCESSING START\n"
   ]
  },
  {
   "cell_type": "code",
   "execution_count": 4,
   "id": "fc3b9cd9-8676-4e86-ac82-ab1e51efb59b",
   "metadata": {},
   "outputs": [],
   "source": [
    "X = dataset.drop('activity', axis=1)\n",
    "y = dataset.select_dtypes(include=[object])"
   ]
  },
  {
   "cell_type": "code",
   "execution_count": 5,
   "id": "c8ffdf54-bd97-4e38-aab9-8cd5a342f1fd",
   "metadata": {},
   "outputs": [
    {
     "data": {
      "text/plain": [
       "array(['Running', 'Sitting', 'Standing', 'Walking', 'downstaires',\n",
       "       'upstaires'], dtype=object)"
      ]
     },
     "execution_count": 5,
     "metadata": {},
     "output_type": "execute_result"
    }
   ],
   "source": [
    "y.activity.unique()"
   ]
  },
  {
   "cell_type": "code",
   "execution_count": 6,
   "id": "1792c163-b8fb-46ef-b09b-a859836f7c15",
   "metadata": {},
   "outputs": [
    {
     "data": {
      "text/html": [
       "<div>\n",
       "<style scoped>\n",
       "    .dataframe tbody tr th:only-of-type {\n",
       "        vertical-align: middle;\n",
       "    }\n",
       "\n",
       "    .dataframe tbody tr th {\n",
       "        vertical-align: top;\n",
       "    }\n",
       "\n",
       "    .dataframe thead th {\n",
       "        text-align: right;\n",
       "    }\n",
       "</style>\n",
       "<table border=\"1\" class=\"dataframe\">\n",
       "  <thead>\n",
       "    <tr style=\"text-align: right;\">\n",
       "      <th></th>\n",
       "      <th>activity</th>\n",
       "    </tr>\n",
       "  </thead>\n",
       "  <tbody>\n",
       "    <tr>\n",
       "      <th>0</th>\n",
       "      <td>0</td>\n",
       "    </tr>\n",
       "    <tr>\n",
       "      <th>1</th>\n",
       "      <td>0</td>\n",
       "    </tr>\n",
       "    <tr>\n",
       "      <th>2</th>\n",
       "      <td>0</td>\n",
       "    </tr>\n",
       "    <tr>\n",
       "      <th>3</th>\n",
       "      <td>0</td>\n",
       "    </tr>\n",
       "    <tr>\n",
       "      <th>4</th>\n",
       "      <td>0</td>\n",
       "    </tr>\n",
       "  </tbody>\n",
       "</table>\n",
       "</div>"
      ],
      "text/plain": [
       "   activity\n",
       "0         0\n",
       "1         0\n",
       "2         0\n",
       "3         0\n",
       "4         0"
      ]
     },
     "execution_count": 6,
     "metadata": {},
     "output_type": "execute_result"
    }
   ],
   "source": [
    "from sklearn import preprocessing\n",
    "le = preprocessing.LabelEncoder()\n",
    "\n",
    "y = y.apply(le.fit_transform)\n",
    "y.head()"
   ]
  },
  {
   "cell_type": "code",
   "execution_count": 7,
   "id": "106f7c64-3180-4064-9870-b54434e04f28",
   "metadata": {},
   "outputs": [],
   "source": [
    "from sklearn.model_selection import train_test_split\n",
    "X_train, X_test, y_train, y_test = train_test_split(X, y, test_size = 0.20,random_state=42)"
   ]
  },
  {
   "cell_type": "code",
   "execution_count": 8,
   "id": "28fb4d70-e921-4e27-bbb6-9bc701bb4f7b",
   "metadata": {},
   "outputs": [
    {
     "name": "stdout",
     "output_type": "stream",
     "text": [
      "activity\n",
      "3    25371\n",
      "1    19784\n",
      "0    14997\n",
      "2    14795\n",
      "5    10764\n",
      "4     8487\n",
      "Name: count, dtype: int64\n"
     ]
    }
   ],
   "source": [
    "import pandas as pd\n",
    "\n",
    "# Assuming y is a pandas DataFrame or Series and activity is a column in y\n",
    "value_counts = y['activity'].value_counts()\n",
    "print(value_counts)\n"
   ]
  },
  {
   "cell_type": "code",
   "execution_count": 9,
   "id": "9d7c4e7e-e196-4b22-ba95-f1f2f274ca42",
   "metadata": {},
   "outputs": [],
   "source": [
    "from sklearn.utils import resample\n",
    "\n",
    "# Combine your features and target into one DataFrame\n",
    "data = pd.concat([X_train, y_train], axis=1)\n",
    "\n",
    "# Separate majority and minority classes\n",
    "min_class = data['activity'].value_counts().idxmin()\n",
    "min_count = data['activity'].value_counts().min()\n",
    "\n",
    "balanced_data = pd.DataFrame()\n",
    "\n",
    "for activity in data['activity'].unique():\n",
    "    activity_data = data[data['activity'] == activity]\n",
    "    activity_data_balanced = resample(activity_data, \n",
    "                                      replace=False,    # sample without replacement\n",
    "                                      n_samples=min_count,     # match the minority n\n",
    "                                      random_state=42)  # reproducible results\n",
    "    balanced_data = pd.concat([balanced_data, activity_data_balanced])\n",
    "\n",
    "# Separate the features and target again\n",
    "X_train_balanced = balanced_data.drop('activity', axis=1)\n",
    "y_train_balanced = balanced_data['activity']\n"
   ]
  },
  {
   "cell_type": "code",
   "execution_count": 10,
   "id": "b6ab735e-8421-4c42-8763-2adfe88a68fd",
   "metadata": {},
   "outputs": [
    {
     "name": "stdout",
     "output_type": "stream",
     "text": [
      "activity\n",
      "2    6737\n",
      "1    6737\n",
      "3    6737\n",
      "0    6737\n",
      "4    6737\n",
      "5    6737\n",
      "Name: count, dtype: int64\n"
     ]
    }
   ],
   "source": [
    "value_counts=balanced_data['activity'].value_counts()\n",
    "print(value_counts)"
   ]
  },
  {
   "cell_type": "code",
   "execution_count": 11,
   "id": "29bfaa08-2cfb-4dbf-8918-304323c5ae58",
   "metadata": {},
   "outputs": [
    {
     "data": {
      "text/plain": [
       "(40422, 16)"
      ]
     },
     "execution_count": 11,
     "metadata": {},
     "output_type": "execute_result"
    }
   ],
   "source": [
    "X_train_balanced.shape"
   ]
  },
  {
   "cell_type": "code",
   "execution_count": 12,
   "id": "eb66f0da-3910-4a24-981b-ae498e285075",
   "metadata": {},
   "outputs": [
    {
     "data": {
      "text/plain": [
       "(40422,)"
      ]
     },
     "execution_count": 12,
     "metadata": {},
     "output_type": "execute_result"
    }
   ],
   "source": [
    "y_train_balanced.shape"
   ]
  },
  {
   "cell_type": "code",
   "execution_count": 13,
   "id": "69aa4164-532e-4198-8bde-d54c41809c98",
   "metadata": {},
   "outputs": [],
   "source": [
    "#not a part of dataset prepocessing\n",
    "import numpy as np\n",
    "import tensorflow as tf\n",
    "from tensorflow.keras.models import Sequential\n",
    "from tensorflow.keras.layers import Dense, Conv2D, BatchNormalization, MaxPooling2D, Dropout, GlobalMaxPooling2D\n",
    "from tensorflow.keras.optimizers import Adam\n",
    "from tensorflow.keras.callbacks import EarlyStopping, ReduceLROnPlateau\n",
    "from tensorflow.keras.utils import to_categorical\n",
    "from tensorflow.keras import backend as K\n",
    "from sklearn.metrics import f1_score\n",
    "\n",
    "# Define precision metric\n",
    "def precision_m(y_true, y_pred):\n",
    "    true_positives = K.sum(K.round(K.clip(y_true * y_pred, 0, 1)))\n",
    "    predicted_positives = K.sum(K.round(K.clip(y_pred, 0, 1)))\n",
    "    precision = true_positives / (predicted_positives + K.epsilon())\n",
    "    return precision\n",
    "\n",
    "# Define recall metric\n",
    "def recall_m(y_true, y_pred):\n",
    "    true_positives = K.sum(K.round(K.clip(y_true * y_pred, 0, 1)))\n",
    "    possible_positives = K.sum(K.round(K.clip(y_true, 0, 1)))\n",
    "    recall = true_positives / (possible_positives + K.epsilon())\n",
    "    return recall\n",
    "\n",
    "# Define f1 score metric\n",
    "def f1_m(y_true, y_pred):\n",
    "    precision = precision_m(y_true, y_pred)\n",
    "    recall = recall_m(y_true, y_pred)\n",
    "    return 2 * ((precision * recall) / (precision + recall + K.epsilon()))\n",
    "\n",
    "# Load and preprocess your data\n",
    "# Assuming x_train, y_train, x_test, y_test are your data and labels\n"
   ]
  },
  {
   "cell_type": "code",
   "execution_count": 14,
   "id": "dc9e5329-1abf-40d3-b32c-d2539f3a7437",
   "metadata": {},
   "outputs": [],
   "source": [
    "gaf = GramianAngularField()"
   ]
  },
  {
   "cell_type": "code",
   "execution_count": 15,
   "id": "9cb4a233-666a-491c-b1c3-bf1287d4d636",
   "metadata": {},
   "outputs": [],
   "source": [
    "x_train = gaf.fit_transform(X_train_balanced)\n",
    "x_test= gaf.fit_transform(X_test)"
   ]
  },
  {
   "cell_type": "code",
   "execution_count": 16,
   "id": "9dfcfd94-ae4b-4c5b-9e5e-a0481fcd0bf7",
   "metadata": {},
   "outputs": [
    {
     "data": {
      "text/plain": [
       "(40422, 16, 16)"
      ]
     },
     "execution_count": 16,
     "metadata": {},
     "output_type": "execute_result"
    }
   ],
   "source": [
    "x_train.shape"
   ]
  },
  {
   "cell_type": "code",
   "execution_count": 17,
   "id": "5da032c9-bbb8-43e3-8691-4d5b729f21f9",
   "metadata": {},
   "outputs": [
    {
     "name": "stdout",
     "output_type": "stream",
     "text": [
      "Unique labels in y_train: [0 1 2 3 4 5]\n",
      "Unique labels in y_test: [0 1 2 3 4 5]\n",
      "Max label value: 5\n",
      "Number of classes: 6\n",
      "Shape of y_train_one_hot: (40422, 6)\n",
      "Shape of y_test_one_hot: (18840, 6)\n"
     ]
    }
   ],
   "source": [
    "# Check unique labels\n",
    "unique_labels_train = np.unique(y_train)\n",
    "unique_labels_test = np.unique(y_test)\n",
    "print(\"Unique labels in y_train:\", unique_labels_train)\n",
    "print(\"Unique labels in y_test:\", unique_labels_test)\n",
    "\n",
    "# Find the maximum label value\n",
    "max_label_value = max(unique_labels_train.max(), unique_labels_test.max())\n",
    "print(\"Max label value:\", max_label_value)\n",
    "\n",
    "# Set num_classes to the maximum label value plus one\n",
    "num_classes = int(max_label_value + 1)\n",
    "print(\"Number of classes:\", num_classes)\n",
    "\n",
    "# One-hot encode the target labels\n",
    "y_train_one_hot = to_categorical(y_train_balanced, num_classes=num_classes)\n",
    "y_test_one_hot = to_categorical(y_test, num_classes=num_classes)\n",
    "\n",
    "print(\"Shape of y_train_one_hot:\", y_train_one_hot.shape)\n",
    "print(\"Shape of y_test_one_hot:\", y_test_one_hot.shape)\n"
   ]
  },
  {
   "cell_type": "code",
   "execution_count": 18,
   "id": "f51a801a-7ab3-455c-ad36-f86b418853cc",
   "metadata": {},
   "outputs": [
    {
     "data": {
      "text/plain": [
       "(75358, 1)"
      ]
     },
     "execution_count": 18,
     "metadata": {},
     "output_type": "execute_result"
    }
   ],
   "source": [
    "y_train.shape\n"
   ]
  },
  {
   "cell_type": "code",
   "execution_count": 19,
   "id": "b6ee43d3-4df6-43f9-880f-a34b9f41df71",
   "metadata": {},
   "outputs": [
    {
     "data": {
      "text/plain": [
       "(40422, 16, 16)"
      ]
     },
     "execution_count": 19,
     "metadata": {},
     "output_type": "execute_result"
    }
   ],
   "source": [
    "x_train.shape"
   ]
  },
  {
   "cell_type": "code",
   "execution_count": 20,
   "id": "4e463dc0-9e41-406d-9d4e-5f18f3cc725b",
   "metadata": {},
   "outputs": [],
   "source": [
    "x_train = x_train.reshape(x_train.shape[0], 16, 16, 1)\n",
    "x_train = x_train.astype('float32')\n"
   ]
  },
  {
   "cell_type": "code",
   "execution_count": null,
   "id": "3d42f445-617c-4b5d-b487-1c60b5bc01b4",
   "metadata": {},
   "outputs": [],
   "source": [
    "DATASET PREPROCESSING END"
   ]
  },
  {
   "cell_type": "markdown",
   "id": "73728ebb-a3d2-4db1-a155-5d4d94c3dad7",
   "metadata": {},
   "source": [
    "MODEL ARCHITECTURE"
   ]
  },
  {
   "cell_type": "code",
   "execution_count": 21,
   "id": "1184e47c-e0e3-4ff1-a4bc-ecc6447f670d",
   "metadata": {},
   "outputs": [
    {
     "name": "stderr",
     "output_type": "stream",
     "text": [
      "C:\\Users\\agnis\\Downloads\\agnish\\Lib\\site-packages\\keras\\src\\layers\\convolutional\\base_conv.py:107: UserWarning: Do not pass an `input_shape`/`input_dim` argument to a layer. When using Sequential models, prefer using an `Input(shape)` object as the first layer in the model instead.\n",
      "  super().__init__(activity_regularizer=activity_regularizer, **kwargs)\n"
     ]
    },
    {
     "data": {
      "text/html": [
       "<pre style=\"white-space:pre;overflow-x:auto;line-height:normal;font-family:Menlo,'DejaVu Sans Mono',consolas,'Courier New',monospace\"><span style=\"font-weight: bold\">Model: \"sequential\"</span>\n",
       "</pre>\n"
      ],
      "text/plain": [
       "\u001b[1mModel: \"sequential\"\u001b[0m\n"
      ]
     },
     "metadata": {},
     "output_type": "display_data"
    },
    {
     "data": {
      "text/html": [
       "<pre style=\"white-space:pre;overflow-x:auto;line-height:normal;font-family:Menlo,'DejaVu Sans Mono',consolas,'Courier New',monospace\">┏━━━━━━━━━━━━━━━━━━━━━━━━━━━━━━━━━━━━━━┳━━━━━━━━━━━━━━━━━━━━━━━━━━━━━┳━━━━━━━━━━━━━━━━━┓\n",
       "┃<span style=\"font-weight: bold\"> Layer (type)                         </span>┃<span style=\"font-weight: bold\"> Output Shape                </span>┃<span style=\"font-weight: bold\">         Param # </span>┃\n",
       "┡━━━━━━━━━━━━━━━━━━━━━━━━━━━━━━━━━━━━━━╇━━━━━━━━━━━━━━━━━━━━━━━━━━━━━╇━━━━━━━━━━━━━━━━━┩\n",
       "│ conv2d (<span style=\"color: #0087ff; text-decoration-color: #0087ff\">Conv2D</span>)                      │ (<span style=\"color: #00d7ff; text-decoration-color: #00d7ff\">None</span>, <span style=\"color: #00af00; text-decoration-color: #00af00\">16</span>, <span style=\"color: #00af00; text-decoration-color: #00af00\">16</span>, <span style=\"color: #00af00; text-decoration-color: #00af00\">64</span>)          │             <span style=\"color: #00af00; text-decoration-color: #00af00\">640</span> │\n",
       "├──────────────────────────────────────┼─────────────────────────────┼─────────────────┤\n",
       "│ batch_normalization                  │ (<span style=\"color: #00d7ff; text-decoration-color: #00d7ff\">None</span>, <span style=\"color: #00af00; text-decoration-color: #00af00\">16</span>, <span style=\"color: #00af00; text-decoration-color: #00af00\">16</span>, <span style=\"color: #00af00; text-decoration-color: #00af00\">64</span>)          │             <span style=\"color: #00af00; text-decoration-color: #00af00\">256</span> │\n",
       "│ (<span style=\"color: #0087ff; text-decoration-color: #0087ff\">BatchNormalization</span>)                 │                             │                 │\n",
       "├──────────────────────────────────────┼─────────────────────────────┼─────────────────┤\n",
       "│ conv2d_1 (<span style=\"color: #0087ff; text-decoration-color: #0087ff\">Conv2D</span>)                    │ (<span style=\"color: #00d7ff; text-decoration-color: #00d7ff\">None</span>, <span style=\"color: #00af00; text-decoration-color: #00af00\">16</span>, <span style=\"color: #00af00; text-decoration-color: #00af00\">16</span>, <span style=\"color: #00af00; text-decoration-color: #00af00\">64</span>)          │          <span style=\"color: #00af00; text-decoration-color: #00af00\">36,928</span> │\n",
       "├──────────────────────────────────────┼─────────────────────────────┼─────────────────┤\n",
       "│ batch_normalization_1                │ (<span style=\"color: #00d7ff; text-decoration-color: #00d7ff\">None</span>, <span style=\"color: #00af00; text-decoration-color: #00af00\">16</span>, <span style=\"color: #00af00; text-decoration-color: #00af00\">16</span>, <span style=\"color: #00af00; text-decoration-color: #00af00\">64</span>)          │             <span style=\"color: #00af00; text-decoration-color: #00af00\">256</span> │\n",
       "│ (<span style=\"color: #0087ff; text-decoration-color: #0087ff\">BatchNormalization</span>)                 │                             │                 │\n",
       "├──────────────────────────────────────┼─────────────────────────────┼─────────────────┤\n",
       "│ max_pooling2d (<span style=\"color: #0087ff; text-decoration-color: #0087ff\">MaxPooling2D</span>)         │ (<span style=\"color: #00d7ff; text-decoration-color: #00d7ff\">None</span>, <span style=\"color: #00af00; text-decoration-color: #00af00\">8</span>, <span style=\"color: #00af00; text-decoration-color: #00af00\">8</span>, <span style=\"color: #00af00; text-decoration-color: #00af00\">64</span>)            │               <span style=\"color: #00af00; text-decoration-color: #00af00\">0</span> │\n",
       "├──────────────────────────────────────┼─────────────────────────────┼─────────────────┤\n",
       "│ dropout (<span style=\"color: #0087ff; text-decoration-color: #0087ff\">Dropout</span>)                    │ (<span style=\"color: #00d7ff; text-decoration-color: #00d7ff\">None</span>, <span style=\"color: #00af00; text-decoration-color: #00af00\">8</span>, <span style=\"color: #00af00; text-decoration-color: #00af00\">8</span>, <span style=\"color: #00af00; text-decoration-color: #00af00\">64</span>)            │               <span style=\"color: #00af00; text-decoration-color: #00af00\">0</span> │\n",
       "├──────────────────────────────────────┼─────────────────────────────┼─────────────────┤\n",
       "│ conv2d_2 (<span style=\"color: #0087ff; text-decoration-color: #0087ff\">Conv2D</span>)                    │ (<span style=\"color: #00d7ff; text-decoration-color: #00d7ff\">None</span>, <span style=\"color: #00af00; text-decoration-color: #00af00\">8</span>, <span style=\"color: #00af00; text-decoration-color: #00af00\">8</span>, <span style=\"color: #00af00; text-decoration-color: #00af00\">128</span>)           │          <span style=\"color: #00af00; text-decoration-color: #00af00\">73,856</span> │\n",
       "├──────────────────────────────────────┼─────────────────────────────┼─────────────────┤\n",
       "│ batch_normalization_2                │ (<span style=\"color: #00d7ff; text-decoration-color: #00d7ff\">None</span>, <span style=\"color: #00af00; text-decoration-color: #00af00\">8</span>, <span style=\"color: #00af00; text-decoration-color: #00af00\">8</span>, <span style=\"color: #00af00; text-decoration-color: #00af00\">128</span>)           │             <span style=\"color: #00af00; text-decoration-color: #00af00\">512</span> │\n",
       "│ (<span style=\"color: #0087ff; text-decoration-color: #0087ff\">BatchNormalization</span>)                 │                             │                 │\n",
       "├──────────────────────────────────────┼─────────────────────────────┼─────────────────┤\n",
       "│ conv2d_3 (<span style=\"color: #0087ff; text-decoration-color: #0087ff\">Conv2D</span>)                    │ (<span style=\"color: #00d7ff; text-decoration-color: #00d7ff\">None</span>, <span style=\"color: #00af00; text-decoration-color: #00af00\">8</span>, <span style=\"color: #00af00; text-decoration-color: #00af00\">8</span>, <span style=\"color: #00af00; text-decoration-color: #00af00\">128</span>)           │         <span style=\"color: #00af00; text-decoration-color: #00af00\">147,584</span> │\n",
       "├──────────────────────────────────────┼─────────────────────────────┼─────────────────┤\n",
       "│ batch_normalization_3                │ (<span style=\"color: #00d7ff; text-decoration-color: #00d7ff\">None</span>, <span style=\"color: #00af00; text-decoration-color: #00af00\">8</span>, <span style=\"color: #00af00; text-decoration-color: #00af00\">8</span>, <span style=\"color: #00af00; text-decoration-color: #00af00\">128</span>)           │             <span style=\"color: #00af00; text-decoration-color: #00af00\">512</span> │\n",
       "│ (<span style=\"color: #0087ff; text-decoration-color: #0087ff\">BatchNormalization</span>)                 │                             │                 │\n",
       "├──────────────────────────────────────┼─────────────────────────────┼─────────────────┤\n",
       "│ max_pooling2d_1 (<span style=\"color: #0087ff; text-decoration-color: #0087ff\">MaxPooling2D</span>)       │ (<span style=\"color: #00d7ff; text-decoration-color: #00d7ff\">None</span>, <span style=\"color: #00af00; text-decoration-color: #00af00\">4</span>, <span style=\"color: #00af00; text-decoration-color: #00af00\">4</span>, <span style=\"color: #00af00; text-decoration-color: #00af00\">128</span>)           │               <span style=\"color: #00af00; text-decoration-color: #00af00\">0</span> │\n",
       "├──────────────────────────────────────┼─────────────────────────────┼─────────────────┤\n",
       "│ dropout_1 (<span style=\"color: #0087ff; text-decoration-color: #0087ff\">Dropout</span>)                  │ (<span style=\"color: #00d7ff; text-decoration-color: #00d7ff\">None</span>, <span style=\"color: #00af00; text-decoration-color: #00af00\">4</span>, <span style=\"color: #00af00; text-decoration-color: #00af00\">4</span>, <span style=\"color: #00af00; text-decoration-color: #00af00\">128</span>)           │               <span style=\"color: #00af00; text-decoration-color: #00af00\">0</span> │\n",
       "├──────────────────────────────────────┼─────────────────────────────┼─────────────────┤\n",
       "│ global_max_pooling2d                 │ (<span style=\"color: #00d7ff; text-decoration-color: #00d7ff\">None</span>, <span style=\"color: #00af00; text-decoration-color: #00af00\">128</span>)                 │               <span style=\"color: #00af00; text-decoration-color: #00af00\">0</span> │\n",
       "│ (<span style=\"color: #0087ff; text-decoration-color: #0087ff\">GlobalMaxPooling2D</span>)                 │                             │                 │\n",
       "├──────────────────────────────────────┼─────────────────────────────┼─────────────────┤\n",
       "│ dense (<span style=\"color: #0087ff; text-decoration-color: #0087ff\">Dense</span>)                        │ (<span style=\"color: #00d7ff; text-decoration-color: #00d7ff\">None</span>, <span style=\"color: #00af00; text-decoration-color: #00af00\">512</span>)                 │          <span style=\"color: #00af00; text-decoration-color: #00af00\">66,048</span> │\n",
       "├──────────────────────────────────────┼─────────────────────────────┼─────────────────┤\n",
       "│ dropout_2 (<span style=\"color: #0087ff; text-decoration-color: #0087ff\">Dropout</span>)                  │ (<span style=\"color: #00d7ff; text-decoration-color: #00d7ff\">None</span>, <span style=\"color: #00af00; text-decoration-color: #00af00\">512</span>)                 │               <span style=\"color: #00af00; text-decoration-color: #00af00\">0</span> │\n",
       "├──────────────────────────────────────┼─────────────────────────────┼─────────────────┤\n",
       "│ dense_1 (<span style=\"color: #0087ff; text-decoration-color: #0087ff\">Dense</span>)                      │ (<span style=\"color: #00d7ff; text-decoration-color: #00d7ff\">None</span>, <span style=\"color: #00af00; text-decoration-color: #00af00\">6</span>)                   │           <span style=\"color: #00af00; text-decoration-color: #00af00\">3,078</span> │\n",
       "└──────────────────────────────────────┴─────────────────────────────┴─────────────────┘\n",
       "</pre>\n"
      ],
      "text/plain": [
       "┏━━━━━━━━━━━━━━━━━━━━━━━━━━━━━━━━━━━━━━┳━━━━━━━━━━━━━━━━━━━━━━━━━━━━━┳━━━━━━━━━━━━━━━━━┓\n",
       "┃\u001b[1m \u001b[0m\u001b[1mLayer (type)                        \u001b[0m\u001b[1m \u001b[0m┃\u001b[1m \u001b[0m\u001b[1mOutput Shape               \u001b[0m\u001b[1m \u001b[0m┃\u001b[1m \u001b[0m\u001b[1m        Param #\u001b[0m\u001b[1m \u001b[0m┃\n",
       "┡━━━━━━━━━━━━━━━━━━━━━━━━━━━━━━━━━━━━━━╇━━━━━━━━━━━━━━━━━━━━━━━━━━━━━╇━━━━━━━━━━━━━━━━━┩\n",
       "│ conv2d (\u001b[38;5;33mConv2D\u001b[0m)                      │ (\u001b[38;5;45mNone\u001b[0m, \u001b[38;5;34m16\u001b[0m, \u001b[38;5;34m16\u001b[0m, \u001b[38;5;34m64\u001b[0m)          │             \u001b[38;5;34m640\u001b[0m │\n",
       "├──────────────────────────────────────┼─────────────────────────────┼─────────────────┤\n",
       "│ batch_normalization                  │ (\u001b[38;5;45mNone\u001b[0m, \u001b[38;5;34m16\u001b[0m, \u001b[38;5;34m16\u001b[0m, \u001b[38;5;34m64\u001b[0m)          │             \u001b[38;5;34m256\u001b[0m │\n",
       "│ (\u001b[38;5;33mBatchNormalization\u001b[0m)                 │                             │                 │\n",
       "├──────────────────────────────────────┼─────────────────────────────┼─────────────────┤\n",
       "│ conv2d_1 (\u001b[38;5;33mConv2D\u001b[0m)                    │ (\u001b[38;5;45mNone\u001b[0m, \u001b[38;5;34m16\u001b[0m, \u001b[38;5;34m16\u001b[0m, \u001b[38;5;34m64\u001b[0m)          │          \u001b[38;5;34m36,928\u001b[0m │\n",
       "├──────────────────────────────────────┼─────────────────────────────┼─────────────────┤\n",
       "│ batch_normalization_1                │ (\u001b[38;5;45mNone\u001b[0m, \u001b[38;5;34m16\u001b[0m, \u001b[38;5;34m16\u001b[0m, \u001b[38;5;34m64\u001b[0m)          │             \u001b[38;5;34m256\u001b[0m │\n",
       "│ (\u001b[38;5;33mBatchNormalization\u001b[0m)                 │                             │                 │\n",
       "├──────────────────────────────────────┼─────────────────────────────┼─────────────────┤\n",
       "│ max_pooling2d (\u001b[38;5;33mMaxPooling2D\u001b[0m)         │ (\u001b[38;5;45mNone\u001b[0m, \u001b[38;5;34m8\u001b[0m, \u001b[38;5;34m8\u001b[0m, \u001b[38;5;34m64\u001b[0m)            │               \u001b[38;5;34m0\u001b[0m │\n",
       "├──────────────────────────────────────┼─────────────────────────────┼─────────────────┤\n",
       "│ dropout (\u001b[38;5;33mDropout\u001b[0m)                    │ (\u001b[38;5;45mNone\u001b[0m, \u001b[38;5;34m8\u001b[0m, \u001b[38;5;34m8\u001b[0m, \u001b[38;5;34m64\u001b[0m)            │               \u001b[38;5;34m0\u001b[0m │\n",
       "├──────────────────────────────────────┼─────────────────────────────┼─────────────────┤\n",
       "│ conv2d_2 (\u001b[38;5;33mConv2D\u001b[0m)                    │ (\u001b[38;5;45mNone\u001b[0m, \u001b[38;5;34m8\u001b[0m, \u001b[38;5;34m8\u001b[0m, \u001b[38;5;34m128\u001b[0m)           │          \u001b[38;5;34m73,856\u001b[0m │\n",
       "├──────────────────────────────────────┼─────────────────────────────┼─────────────────┤\n",
       "│ batch_normalization_2                │ (\u001b[38;5;45mNone\u001b[0m, \u001b[38;5;34m8\u001b[0m, \u001b[38;5;34m8\u001b[0m, \u001b[38;5;34m128\u001b[0m)           │             \u001b[38;5;34m512\u001b[0m │\n",
       "│ (\u001b[38;5;33mBatchNormalization\u001b[0m)                 │                             │                 │\n",
       "├──────────────────────────────────────┼─────────────────────────────┼─────────────────┤\n",
       "│ conv2d_3 (\u001b[38;5;33mConv2D\u001b[0m)                    │ (\u001b[38;5;45mNone\u001b[0m, \u001b[38;5;34m8\u001b[0m, \u001b[38;5;34m8\u001b[0m, \u001b[38;5;34m128\u001b[0m)           │         \u001b[38;5;34m147,584\u001b[0m │\n",
       "├──────────────────────────────────────┼─────────────────────────────┼─────────────────┤\n",
       "│ batch_normalization_3                │ (\u001b[38;5;45mNone\u001b[0m, \u001b[38;5;34m8\u001b[0m, \u001b[38;5;34m8\u001b[0m, \u001b[38;5;34m128\u001b[0m)           │             \u001b[38;5;34m512\u001b[0m │\n",
       "│ (\u001b[38;5;33mBatchNormalization\u001b[0m)                 │                             │                 │\n",
       "├──────────────────────────────────────┼─────────────────────────────┼─────────────────┤\n",
       "│ max_pooling2d_1 (\u001b[38;5;33mMaxPooling2D\u001b[0m)       │ (\u001b[38;5;45mNone\u001b[0m, \u001b[38;5;34m4\u001b[0m, \u001b[38;5;34m4\u001b[0m, \u001b[38;5;34m128\u001b[0m)           │               \u001b[38;5;34m0\u001b[0m │\n",
       "├──────────────────────────────────────┼─────────────────────────────┼─────────────────┤\n",
       "│ dropout_1 (\u001b[38;5;33mDropout\u001b[0m)                  │ (\u001b[38;5;45mNone\u001b[0m, \u001b[38;5;34m4\u001b[0m, \u001b[38;5;34m4\u001b[0m, \u001b[38;5;34m128\u001b[0m)           │               \u001b[38;5;34m0\u001b[0m │\n",
       "├──────────────────────────────────────┼─────────────────────────────┼─────────────────┤\n",
       "│ global_max_pooling2d                 │ (\u001b[38;5;45mNone\u001b[0m, \u001b[38;5;34m128\u001b[0m)                 │               \u001b[38;5;34m0\u001b[0m │\n",
       "│ (\u001b[38;5;33mGlobalMaxPooling2D\u001b[0m)                 │                             │                 │\n",
       "├──────────────────────────────────────┼─────────────────────────────┼─────────────────┤\n",
       "│ dense (\u001b[38;5;33mDense\u001b[0m)                        │ (\u001b[38;5;45mNone\u001b[0m, \u001b[38;5;34m512\u001b[0m)                 │          \u001b[38;5;34m66,048\u001b[0m │\n",
       "├──────────────────────────────────────┼─────────────────────────────┼─────────────────┤\n",
       "│ dropout_2 (\u001b[38;5;33mDropout\u001b[0m)                  │ (\u001b[38;5;45mNone\u001b[0m, \u001b[38;5;34m512\u001b[0m)                 │               \u001b[38;5;34m0\u001b[0m │\n",
       "├──────────────────────────────────────┼─────────────────────────────┼─────────────────┤\n",
       "│ dense_1 (\u001b[38;5;33mDense\u001b[0m)                      │ (\u001b[38;5;45mNone\u001b[0m, \u001b[38;5;34m6\u001b[0m)                   │           \u001b[38;5;34m3,078\u001b[0m │\n",
       "└──────────────────────────────────────┴─────────────────────────────┴─────────────────┘\n"
      ]
     },
     "metadata": {},
     "output_type": "display_data"
    },
    {
     "data": {
      "text/html": [
       "<pre style=\"white-space:pre;overflow-x:auto;line-height:normal;font-family:Menlo,'DejaVu Sans Mono',consolas,'Courier New',monospace\"><span style=\"font-weight: bold\"> Total params: </span><span style=\"color: #00af00; text-decoration-color: #00af00\">329,670</span> (1.26 MB)\n",
       "</pre>\n"
      ],
      "text/plain": [
       "\u001b[1m Total params: \u001b[0m\u001b[38;5;34m329,670\u001b[0m (1.26 MB)\n"
      ]
     },
     "metadata": {},
     "output_type": "display_data"
    },
    {
     "data": {
      "text/html": [
       "<pre style=\"white-space:pre;overflow-x:auto;line-height:normal;font-family:Menlo,'DejaVu Sans Mono',consolas,'Courier New',monospace\"><span style=\"font-weight: bold\"> Trainable params: </span><span style=\"color: #00af00; text-decoration-color: #00af00\">328,902</span> (1.25 MB)\n",
       "</pre>\n"
      ],
      "text/plain": [
       "\u001b[1m Trainable params: \u001b[0m\u001b[38;5;34m328,902\u001b[0m (1.25 MB)\n"
      ]
     },
     "metadata": {},
     "output_type": "display_data"
    },
    {
     "data": {
      "text/html": [
       "<pre style=\"white-space:pre;overflow-x:auto;line-height:normal;font-family:Menlo,'DejaVu Sans Mono',consolas,'Courier New',monospace\"><span style=\"font-weight: bold\"> Non-trainable params: </span><span style=\"color: #00af00; text-decoration-color: #00af00\">768</span> (3.00 KB)\n",
       "</pre>\n"
      ],
      "text/plain": [
       "\u001b[1m Non-trainable params: \u001b[0m\u001b[38;5;34m768\u001b[0m (3.00 KB)\n"
      ]
     },
     "metadata": {},
     "output_type": "display_data"
    }
   ],
   "source": [
    "from tensorflow.keras.models import Sequential\n",
    "from tensorflow.keras.layers import Conv2D, BatchNormalization, MaxPooling2D, Dropout, GlobalMaxPooling2D, Dense\n",
    "\n",
    "# Define the input shape of the data\n",
    "input_shape = (16, 16, 1)\n",
    "\n",
    "\n",
    "num_classes = 6 \n",
    "\n",
    "# Build the model\n",
    "model = Sequential([\n",
    "    Conv2D(64, (3, 3), activation='relu', input_shape=input_shape, padding='same'),\n",
    "    BatchNormalization(),\n",
    "    Conv2D(64, (3, 3), activation='relu', padding='same'),\n",
    "    BatchNormalization(),\n",
    "    MaxPooling2D(pool_size=(2, 2)),\n",
    "    Dropout(0.3),\n",
    "\n",
    "    Conv2D(128, (3, 3), activation='relu', padding='same'),\n",
    "    BatchNormalization(),\n",
    "    Conv2D(128, (3, 3), activation='relu', padding='same'),\n",
    "    BatchNormalization(),\n",
    "    MaxPooling2D(pool_size=(2, 2)),\n",
    "    Dropout(0.3),\n",
    "\n",
    "    GlobalMaxPooling2D(),\n",
    "\n",
    "    Dense(512, activation='relu'),\n",
    "    Dropout(0.4),\n",
    "    Dense(num_classes, activation='softmax')  # Number of classes\n",
    "])\n",
    "\n",
    "# Print the model summary\n",
    "model.summary()\n"
   ]
  },
  {
   "cell_type": "code",
   "execution_count": null,
   "id": "8e5de1e6-6160-4450-b9c0-14712a2186c4",
   "metadata": {},
   "outputs": [],
   "source": [
    "MODEL TRAI"
   ]
  },
  {
   "cell_type": "code",
   "execution_count": 22,
   "id": "9ab6a10c-7f98-46e3-bacf-ef17b9399b2e",
   "metadata": {},
   "outputs": [],
   "source": [
    "optimizer = Adam(learning_rate=0.001)\n",
    "model.compile(optimizer=optimizer,\n",
    "              loss='categorical_crossentropy',\n",
    "              metrics=['accuracy', precision_m, recall_m, f1_m])\n"
   ]
  },
  {
   "cell_type": "code",
   "execution_count": 23,
   "id": "c410cf9e-0eaf-460f-a868-c71492fcd0d5",
   "metadata": {},
   "outputs": [
    {
     "name": "stdout",
     "output_type": "stream",
     "text": [
      "Epoch 1/30\n",
      "\u001b[1m632/632\u001b[0m \u001b[32m━━━━━━━━━━━━━━━━━━━━\u001b[0m\u001b[37m\u001b[0m \u001b[1m76s\u001b[0m 110ms/step - accuracy: 0.5623 - f1_m: 0.5276 - loss: 1.2418 - precision_m: 0.6697 - recall_m: 0.4396 - val_accuracy: 0.7363 - val_f1_m: 0.6635 - val_loss: 0.7794 - val_precision_m: 0.8282 - val_recall_m: 0.5550\n",
      "Epoch 2/30\n",
      "\u001b[1m632/632\u001b[0m \u001b[32m━━━━━━━━━━━━━━━━━━━━\u001b[0m\u001b[37m\u001b[0m \u001b[1m66s\u001b[0m 105ms/step - accuracy: 0.7684 - f1_m: 0.7619 - loss: 0.6111 - precision_m: 0.8389 - recall_m: 0.6989 - val_accuracy: 0.8448 - val_f1_m: 0.8409 - val_loss: 0.4376 - val_precision_m: 0.9038 - val_recall_m: 0.7870\n",
      "Epoch 3/30\n",
      "\u001b[1m632/632\u001b[0m \u001b[32m━━━━━━━━━━━━━━━━━━━━\u001b[0m\u001b[37m\u001b[0m \u001b[1m68s\u001b[0m 107ms/step - accuracy: 0.8125 - f1_m: 0.8095 - loss: 0.5050 - precision_m: 0.8655 - recall_m: 0.7611 - val_accuracy: 0.8592 - val_f1_m: 0.8561 - val_loss: 0.3864 - val_precision_m: 0.9147 - val_recall_m: 0.8052\n",
      "Epoch 4/30\n",
      "\u001b[1m632/632\u001b[0m \u001b[32m━━━━━━━━━━━━━━━━━━━━\u001b[0m\u001b[37m\u001b[0m \u001b[1m67s\u001b[0m 106ms/step - accuracy: 0.8365 - f1_m: 0.8343 - loss: 0.4451 - precision_m: 0.8836 - recall_m: 0.7909 - val_accuracy: 0.8844 - val_f1_m: 0.8796 - val_loss: 0.3355 - val_precision_m: 0.9368 - val_recall_m: 0.8297\n",
      "Epoch 5/30\n",
      "\u001b[1m632/632\u001b[0m \u001b[32m━━━━━━━━━━━━━━━━━━━━\u001b[0m\u001b[37m\u001b[0m \u001b[1m64s\u001b[0m 102ms/step - accuracy: 0.8486 - f1_m: 0.8479 - loss: 0.4163 - precision_m: 0.8910 - recall_m: 0.8094 - val_accuracy: 0.8878 - val_f1_m: 0.8846 - val_loss: 0.3109 - val_precision_m: 0.9287 - val_recall_m: 0.8450\n",
      "Epoch 6/30\n",
      "\u001b[1m632/632\u001b[0m \u001b[32m━━━━━━━━━━━━━━━━━━━━\u001b[0m\u001b[37m\u001b[0m \u001b[1m66s\u001b[0m 104ms/step - accuracy: 0.8546 - f1_m: 0.8558 - loss: 0.3881 - precision_m: 0.8967 - recall_m: 0.8192 - val_accuracy: 0.8868 - val_f1_m: 0.8878 - val_loss: 0.3106 - val_precision_m: 0.9322 - val_recall_m: 0.8479\n",
      "Epoch 7/30\n",
      "\u001b[1m632/632\u001b[0m \u001b[32m━━━━━━━━━━━━━━━━━━━━\u001b[0m\u001b[37m\u001b[0m \u001b[1m68s\u001b[0m 108ms/step - accuracy: 0.8690 - f1_m: 0.8685 - loss: 0.3636 - precision_m: 0.9054 - recall_m: 0.8351 - val_accuracy: 0.8915 - val_f1_m: 0.8927 - val_loss: 0.2941 - val_precision_m: 0.9262 - val_recall_m: 0.8619\n",
      "Epoch 8/30\n",
      "\u001b[1m632/632\u001b[0m \u001b[32m━━━━━━━━━━━━━━━━━━━━\u001b[0m\u001b[37m\u001b[0m \u001b[1m69s\u001b[0m 108ms/step - accuracy: 0.8758 - f1_m: 0.8740 - loss: 0.3460 - precision_m: 0.9086 - recall_m: 0.8424 - val_accuracy: 0.8962 - val_f1_m: 0.8969 - val_loss: 0.2893 - val_precision_m: 0.9464 - val_recall_m: 0.8529\n",
      "Epoch 9/30\n",
      "\u001b[1m632/632\u001b[0m \u001b[32m━━━━━━━━━━━━━━━━━━━━\u001b[0m\u001b[37m\u001b[0m \u001b[1m66s\u001b[0m 104ms/step - accuracy: 0.8756 - f1_m: 0.8756 - loss: 0.3395 - precision_m: 0.9124 - recall_m: 0.8423 - val_accuracy: 0.9059 - val_f1_m: 0.9069 - val_loss: 0.2629 - val_precision_m: 0.9388 - val_recall_m: 0.8776\n",
      "Epoch 10/30\n",
      "\u001b[1m632/632\u001b[0m \u001b[32m━━━━━━━━━━━━━━━━━━━━\u001b[0m\u001b[37m\u001b[0m \u001b[1m66s\u001b[0m 105ms/step - accuracy: 0.8863 - f1_m: 0.8843 - loss: 0.3175 - precision_m: 0.9162 - recall_m: 0.8551 - val_accuracy: 0.9057 - val_f1_m: 0.9051 - val_loss: 0.2614 - val_precision_m: 0.9353 - val_recall_m: 0.8771\n",
      "Epoch 11/30\n",
      "\u001b[1m632/632\u001b[0m \u001b[32m━━━━━━━━━━━━━━━━━━━━\u001b[0m\u001b[37m\u001b[0m \u001b[1m65s\u001b[0m 103ms/step - accuracy: 0.8864 - f1_m: 0.8864 - loss: 0.3098 - precision_m: 0.9179 - recall_m: 0.8575 - val_accuracy: 0.9048 - val_f1_m: 0.9044 - val_loss: 0.2633 - val_precision_m: 0.9421 - val_recall_m: 0.8701\n",
      "Epoch 12/30\n",
      "\u001b[1m632/632\u001b[0m \u001b[32m━━━━━━━━━━━━━━━━━━━━\u001b[0m\u001b[37m\u001b[0m \u001b[1m68s\u001b[0m 107ms/step - accuracy: 0.8970 - f1_m: 0.8977 - loss: 0.2820 - precision_m: 0.9233 - recall_m: 0.8739 - val_accuracy: 0.9055 - val_f1_m: 0.9065 - val_loss: 0.2557 - val_precision_m: 0.9441 - val_recall_m: 0.8721\n",
      "Epoch 13/30\n",
      "\u001b[1m632/632\u001b[0m \u001b[32m━━━━━━━━━━━━━━━━━━━━\u001b[0m\u001b[37m\u001b[0m \u001b[1m67s\u001b[0m 107ms/step - accuracy: 0.8973 - f1_m: 0.8959 - loss: 0.2891 - precision_m: 0.9241 - recall_m: 0.8699 - val_accuracy: 0.9082 - val_f1_m: 0.9098 - val_loss: 0.2534 - val_precision_m: 0.9378 - val_recall_m: 0.8839\n",
      "Epoch 14/30\n",
      "\u001b[1m632/632\u001b[0m \u001b[32m━━━━━━━━━━━━━━━━━━━━\u001b[0m\u001b[37m\u001b[0m \u001b[1m67s\u001b[0m 106ms/step - accuracy: 0.9043 - f1_m: 0.9039 - loss: 0.2709 - precision_m: 0.9287 - recall_m: 0.8808 - val_accuracy: 0.9124 - val_f1_m: 0.9135 - val_loss: 0.2421 - val_precision_m: 0.9410 - val_recall_m: 0.8879\n",
      "Epoch 15/30\n",
      "\u001b[1m632/632\u001b[0m \u001b[32m━━━━━━━━━━━━━━━━━━━━\u001b[0m\u001b[37m\u001b[0m \u001b[1m69s\u001b[0m 109ms/step - accuracy: 0.9037 - f1_m: 0.9042 - loss: 0.2631 - precision_m: 0.9292 - recall_m: 0.8808 - val_accuracy: 0.9151 - val_f1_m: 0.9165 - val_loss: 0.2343 - val_precision_m: 0.9432 - val_recall_m: 0.8916\n",
      "Epoch 16/30\n",
      "\u001b[1m632/632\u001b[0m \u001b[32m━━━━━━━━━━━━━━━━━━━━\u001b[0m\u001b[37m\u001b[0m \u001b[1m66s\u001b[0m 104ms/step - accuracy: 0.9079 - f1_m: 0.9081 - loss: 0.2541 - precision_m: 0.9315 - recall_m: 0.8862 - val_accuracy: 0.9195 - val_f1_m: 0.9212 - val_loss: 0.2278 - val_precision_m: 0.9435 - val_recall_m: 0.9004\n",
      "Epoch 17/30\n",
      "\u001b[1m632/632\u001b[0m \u001b[32m━━━━━━━━━━━━━━━━━━━━\u001b[0m\u001b[37m\u001b[0m \u001b[1m67s\u001b[0m 106ms/step - accuracy: 0.9087 - f1_m: 0.9085 - loss: 0.2535 - precision_m: 0.9300 - recall_m: 0.8884 - val_accuracy: 0.9165 - val_f1_m: 0.9175 - val_loss: 0.2327 - val_precision_m: 0.9429 - val_recall_m: 0.8938\n",
      "Epoch 18/30\n",
      "\u001b[1m632/632\u001b[0m \u001b[32m━━━━━━━━━━━━━━━━━━━━\u001b[0m\u001b[37m\u001b[0m \u001b[1m68s\u001b[0m 107ms/step - accuracy: 0.9112 - f1_m: 0.9112 - loss: 0.2445 - precision_m: 0.9334 - recall_m: 0.8904 - val_accuracy: 0.9209 - val_f1_m: 0.9225 - val_loss: 0.2183 - val_precision_m: 0.9438 - val_recall_m: 0.9025\n",
      "Epoch 19/30\n",
      "\u001b[1m632/632\u001b[0m \u001b[32m━━━━━━━━━━━━━━━━━━━━\u001b[0m\u001b[37m\u001b[0m \u001b[1m68s\u001b[0m 107ms/step - accuracy: 0.9161 - f1_m: 0.9161 - loss: 0.2291 - precision_m: 0.9367 - recall_m: 0.8968 - val_accuracy: 0.9128 - val_f1_m: 0.9147 - val_loss: 0.2415 - val_precision_m: 0.9372 - val_recall_m: 0.8936\n",
      "Epoch 20/30\n",
      "\u001b[1m632/632\u001b[0m \u001b[32m━━━━━━━━━━━━━━━━━━━━\u001b[0m\u001b[37m\u001b[0m \u001b[1m67s\u001b[0m 107ms/step - accuracy: 0.9125 - f1_m: 0.9126 - loss: 0.2418 - precision_m: 0.9336 - recall_m: 0.8928 - val_accuracy: 0.9226 - val_f1_m: 0.9233 - val_loss: 0.2236 - val_precision_m: 0.9467 - val_recall_m: 0.9013\n",
      "Epoch 21/30\n",
      "\u001b[1m632/632\u001b[0m \u001b[32m━━━━━━━━━━━━━━━━━━━━\u001b[0m\u001b[37m\u001b[0m \u001b[1m72s\u001b[0m 114ms/step - accuracy: 0.9190 - f1_m: 0.9193 - loss: 0.2231 - precision_m: 0.9385 - recall_m: 0.9011 - val_accuracy: 0.9218 - val_f1_m: 0.9222 - val_loss: 0.2220 - val_precision_m: 0.9473 - val_recall_m: 0.8988\n",
      "Epoch 22/30\n",
      "\u001b[1m632/632\u001b[0m \u001b[32m━━━━━━━━━━━━━━━━━━━━\u001b[0m\u001b[37m\u001b[0m \u001b[1m71s\u001b[0m 113ms/step - accuracy: 0.9172 - f1_m: 0.9177 - loss: 0.2295 - precision_m: 0.9388 - recall_m: 0.8978 - val_accuracy: 0.9209 - val_f1_m: 0.9231 - val_loss: 0.2264 - val_precision_m: 0.9442 - val_recall_m: 0.9031\n",
      "Epoch 23/30\n",
      "\u001b[1m632/632\u001b[0m \u001b[32m━━━━━━━━━━━━━━━━━━━━\u001b[0m\u001b[37m\u001b[0m \u001b[1m69s\u001b[0m 109ms/step - accuracy: 0.9199 - f1_m: 0.9193 - loss: 0.2237 - precision_m: 0.9384 - recall_m: 0.9013 - val_accuracy: 0.9235 - val_f1_m: 0.9252 - val_loss: 0.2203 - val_precision_m: 0.9425 - val_recall_m: 0.9087\n",
      "Epoch 24/30\n",
      "\u001b[1m632/632\u001b[0m \u001b[32m━━━━━━━━━━━━━━━━━━━━\u001b[0m\u001b[37m\u001b[0m \u001b[1m67s\u001b[0m 106ms/step - accuracy: 0.9200 - f1_m: 0.9196 - loss: 0.2200 - precision_m: 0.9380 - recall_m: 0.9022 - val_accuracy: 0.9255 - val_f1_m: 0.9268 - val_loss: 0.2144 - val_precision_m: 0.9452 - val_recall_m: 0.9094\n",
      "Epoch 25/30\n",
      "\u001b[1m632/632\u001b[0m \u001b[32m━━━━━━━━━━━━━━━━━━━━\u001b[0m\u001b[37m\u001b[0m \u001b[1m73s\u001b[0m 115ms/step - accuracy: 0.9226 - f1_m: 0.9223 - loss: 0.2106 - precision_m: 0.9405 - recall_m: 0.9051 - val_accuracy: 0.9235 - val_f1_m: 0.9250 - val_loss: 0.2270 - val_precision_m: 0.9429 - val_recall_m: 0.9079\n",
      "Epoch 26/30\n",
      "\u001b[1m632/632\u001b[0m \u001b[32m━━━━━━━━━━━━━━━━━━━━\u001b[0m\u001b[37m\u001b[0m \u001b[1m68s\u001b[0m 108ms/step - accuracy: 0.9291 - f1_m: 0.9283 - loss: 0.1990 - precision_m: 0.9440 - recall_m: 0.9135 - val_accuracy: 0.9255 - val_f1_m: 0.9279 - val_loss: 0.2151 - val_precision_m: 0.9437 - val_recall_m: 0.9129\n",
      "Epoch 27/30\n",
      "\u001b[1m632/632\u001b[0m \u001b[32m━━━━━━━━━━━━━━━━━━━━\u001b[0m\u001b[37m\u001b[0m \u001b[1m68s\u001b[0m 107ms/step - accuracy: 0.9269 - f1_m: 0.9273 - loss: 0.1989 - precision_m: 0.9429 - recall_m: 0.9124 - val_accuracy: 0.9240 - val_f1_m: 0.9265 - val_loss: 0.2173 - val_precision_m: 0.9419 - val_recall_m: 0.9119\n",
      "Epoch 28/30\n",
      "\u001b[1m632/632\u001b[0m \u001b[32m━━━━━━━━━━━━━━━━━━━━\u001b[0m\u001b[37m\u001b[0m \u001b[1m70s\u001b[0m 110ms/step - accuracy: 0.9287 - f1_m: 0.9292 - loss: 0.1970 - precision_m: 0.9457 - recall_m: 0.9135 - val_accuracy: 0.9245 - val_f1_m: 0.9259 - val_loss: 0.2191 - val_precision_m: 0.9422 - val_recall_m: 0.9104\n",
      "Epoch 29/30\n",
      "\u001b[1m632/632\u001b[0m \u001b[32m━━━━━━━━━━━━━━━━━━━━\u001b[0m\u001b[37m\u001b[0m \u001b[1m73s\u001b[0m 115ms/step - accuracy: 0.9307 - f1_m: 0.9302 - loss: 0.1919 - precision_m: 0.9452 - recall_m: 0.9158 - val_accuracy: 0.9251 - val_f1_m: 0.9273 - val_loss: 0.2192 - val_precision_m: 0.9437 - val_recall_m: 0.9117\n",
      "Epoch 30/30\n",
      "\u001b[1m632/632\u001b[0m \u001b[32m━━━━━━━━━━━━━━━━━━━━\u001b[0m\u001b[37m\u001b[0m \u001b[1m70s\u001b[0m 110ms/step - accuracy: 0.9357 - f1_m: 0.9355 - loss: 0.1827 - precision_m: 0.9485 - recall_m: 0.9232 - val_accuracy: 0.9260 - val_f1_m: 0.9277 - val_loss: 0.2079 - val_precision_m: 0.9481 - val_recall_m: 0.9084\n"
     ]
    }
   ],
   "source": [
    "history=model.fit(x_train, y_train_one_hot,\n",
    "          validation_data=(x_test, y_test_one_hot),\n",
    "          epochs=30,\n",
    "          batch_size=64)"
   ]
  },
  {
   "cell_type": "code",
   "execution_count": 24,
   "id": "ae4b4b75-a891-4d5b-a6fb-f2db44a438dc",
   "metadata": {},
   "outputs": [
    {
     "name": "stdout",
     "output_type": "stream",
     "text": [
      "\u001b[1m589/589\u001b[0m \u001b[32m━━━━━━━━━━━━━━━━━━━━\u001b[0m\u001b[37m\u001b[0m \u001b[1m10s\u001b[0m 17ms/step\n",
      "Weighted F1 Score: 0.9266105767578404\n"
     ]
    }
   ],
   "source": [
    "# Predict on the test set\n",
    "y_pred_prob = model.predict(x_test)\n",
    "y_pred = np.argmax(y_pred_prob, axis=1)\n",
    "y_true = np.argmax(y_test_one_hot, axis=1)\n",
    "\n",
    "# Calculate the weighted F1 score\n",
    "weighted_f1 = f1_score(y_true, y_pred, average='weighted')\n",
    "print(\"Weighted F1 Score:\", weighted_f1)"
   ]
  },
  {
   "cell_type": "code",
   "execution_count": 25,
   "id": "704dbe5b-53d2-46ba-8431-f35a95872f83",
   "metadata": {},
   "outputs": [
    {
     "name": "stderr",
     "output_type": "stream",
     "text": [
      "WARNING:absl:You are saving your model as an HDF5 file via `model.save()` or `keras.saving.save_model(model)`. This file format is considered legacy. We recommend using instead the native Keras format, e.g. `model.save('my_model.keras')` or `keras.saving.save_model(model, 'my_model.keras')`. \n"
     ]
    }
   ],
   "source": [
    "model.save('model_HAR.h5')"
   ]
  },
  {
   "cell_type": "code",
   "execution_count": 26,
   "id": "2c0a074a-adea-4d82-8a0e-5a38980f0f3a",
   "metadata": {},
   "outputs": [],
   "source": [
    "model.save('my_model.keras')"
   ]
  },
  {
   "cell_type": "code",
   "execution_count": 27,
   "id": "62b6f4a4-8d88-47c9-a5a9-55c8950279c5",
   "metadata": {},
   "outputs": [
    {
     "name": "stderr",
     "output_type": "stream",
     "text": [
      "WARNING:absl:Compiled the loaded model, but the compiled metrics have yet to be built. `model.compile_metrics` will be empty until you train or evaluate the model.\n"
     ]
    },
    {
     "data": {
      "text/html": [
       "<pre style=\"white-space:pre;overflow-x:auto;line-height:normal;font-family:Menlo,'DejaVu Sans Mono',consolas,'Courier New',monospace\"><span style=\"font-weight: bold\">Model: \"sequential\"</span>\n",
       "</pre>\n"
      ],
      "text/plain": [
       "\u001b[1mModel: \"sequential\"\u001b[0m\n"
      ]
     },
     "metadata": {},
     "output_type": "display_data"
    },
    {
     "data": {
      "text/html": [
       "<pre style=\"white-space:pre;overflow-x:auto;line-height:normal;font-family:Menlo,'DejaVu Sans Mono',consolas,'Courier New',monospace\">┏━━━━━━━━━━━━━━━━━━━━━━━━━━━━━━━━━━━━━━┳━━━━━━━━━━━━━━━━━━━━━━━━━━━━━┳━━━━━━━━━━━━━━━━━┓\n",
       "┃<span style=\"font-weight: bold\"> Layer (type)                         </span>┃<span style=\"font-weight: bold\"> Output Shape                </span>┃<span style=\"font-weight: bold\">         Param # </span>┃\n",
       "┡━━━━━━━━━━━━━━━━━━━━━━━━━━━━━━━━━━━━━━╇━━━━━━━━━━━━━━━━━━━━━━━━━━━━━╇━━━━━━━━━━━━━━━━━┩\n",
       "│ conv2d (<span style=\"color: #0087ff; text-decoration-color: #0087ff\">Conv2D</span>)                      │ (<span style=\"color: #00d7ff; text-decoration-color: #00d7ff\">None</span>, <span style=\"color: #00af00; text-decoration-color: #00af00\">16</span>, <span style=\"color: #00af00; text-decoration-color: #00af00\">16</span>, <span style=\"color: #00af00; text-decoration-color: #00af00\">64</span>)          │             <span style=\"color: #00af00; text-decoration-color: #00af00\">640</span> │\n",
       "├──────────────────────────────────────┼─────────────────────────────┼─────────────────┤\n",
       "│ batch_normalization                  │ (<span style=\"color: #00d7ff; text-decoration-color: #00d7ff\">None</span>, <span style=\"color: #00af00; text-decoration-color: #00af00\">16</span>, <span style=\"color: #00af00; text-decoration-color: #00af00\">16</span>, <span style=\"color: #00af00; text-decoration-color: #00af00\">64</span>)          │             <span style=\"color: #00af00; text-decoration-color: #00af00\">256</span> │\n",
       "│ (<span style=\"color: #0087ff; text-decoration-color: #0087ff\">BatchNormalization</span>)                 │                             │                 │\n",
       "├──────────────────────────────────────┼─────────────────────────────┼─────────────────┤\n",
       "│ conv2d_1 (<span style=\"color: #0087ff; text-decoration-color: #0087ff\">Conv2D</span>)                    │ (<span style=\"color: #00d7ff; text-decoration-color: #00d7ff\">None</span>, <span style=\"color: #00af00; text-decoration-color: #00af00\">16</span>, <span style=\"color: #00af00; text-decoration-color: #00af00\">16</span>, <span style=\"color: #00af00; text-decoration-color: #00af00\">64</span>)          │          <span style=\"color: #00af00; text-decoration-color: #00af00\">36,928</span> │\n",
       "├──────────────────────────────────────┼─────────────────────────────┼─────────────────┤\n",
       "│ batch_normalization_1                │ (<span style=\"color: #00d7ff; text-decoration-color: #00d7ff\">None</span>, <span style=\"color: #00af00; text-decoration-color: #00af00\">16</span>, <span style=\"color: #00af00; text-decoration-color: #00af00\">16</span>, <span style=\"color: #00af00; text-decoration-color: #00af00\">64</span>)          │             <span style=\"color: #00af00; text-decoration-color: #00af00\">256</span> │\n",
       "│ (<span style=\"color: #0087ff; text-decoration-color: #0087ff\">BatchNormalization</span>)                 │                             │                 │\n",
       "├──────────────────────────────────────┼─────────────────────────────┼─────────────────┤\n",
       "│ max_pooling2d (<span style=\"color: #0087ff; text-decoration-color: #0087ff\">MaxPooling2D</span>)         │ (<span style=\"color: #00d7ff; text-decoration-color: #00d7ff\">None</span>, <span style=\"color: #00af00; text-decoration-color: #00af00\">8</span>, <span style=\"color: #00af00; text-decoration-color: #00af00\">8</span>, <span style=\"color: #00af00; text-decoration-color: #00af00\">64</span>)            │               <span style=\"color: #00af00; text-decoration-color: #00af00\">0</span> │\n",
       "├──────────────────────────────────────┼─────────────────────────────┼─────────────────┤\n",
       "│ dropout (<span style=\"color: #0087ff; text-decoration-color: #0087ff\">Dropout</span>)                    │ (<span style=\"color: #00d7ff; text-decoration-color: #00d7ff\">None</span>, <span style=\"color: #00af00; text-decoration-color: #00af00\">8</span>, <span style=\"color: #00af00; text-decoration-color: #00af00\">8</span>, <span style=\"color: #00af00; text-decoration-color: #00af00\">64</span>)            │               <span style=\"color: #00af00; text-decoration-color: #00af00\">0</span> │\n",
       "├──────────────────────────────────────┼─────────────────────────────┼─────────────────┤\n",
       "│ conv2d_2 (<span style=\"color: #0087ff; text-decoration-color: #0087ff\">Conv2D</span>)                    │ (<span style=\"color: #00d7ff; text-decoration-color: #00d7ff\">None</span>, <span style=\"color: #00af00; text-decoration-color: #00af00\">8</span>, <span style=\"color: #00af00; text-decoration-color: #00af00\">8</span>, <span style=\"color: #00af00; text-decoration-color: #00af00\">128</span>)           │          <span style=\"color: #00af00; text-decoration-color: #00af00\">73,856</span> │\n",
       "├──────────────────────────────────────┼─────────────────────────────┼─────────────────┤\n",
       "│ batch_normalization_2                │ (<span style=\"color: #00d7ff; text-decoration-color: #00d7ff\">None</span>, <span style=\"color: #00af00; text-decoration-color: #00af00\">8</span>, <span style=\"color: #00af00; text-decoration-color: #00af00\">8</span>, <span style=\"color: #00af00; text-decoration-color: #00af00\">128</span>)           │             <span style=\"color: #00af00; text-decoration-color: #00af00\">512</span> │\n",
       "│ (<span style=\"color: #0087ff; text-decoration-color: #0087ff\">BatchNormalization</span>)                 │                             │                 │\n",
       "├──────────────────────────────────────┼─────────────────────────────┼─────────────────┤\n",
       "│ conv2d_3 (<span style=\"color: #0087ff; text-decoration-color: #0087ff\">Conv2D</span>)                    │ (<span style=\"color: #00d7ff; text-decoration-color: #00d7ff\">None</span>, <span style=\"color: #00af00; text-decoration-color: #00af00\">8</span>, <span style=\"color: #00af00; text-decoration-color: #00af00\">8</span>, <span style=\"color: #00af00; text-decoration-color: #00af00\">128</span>)           │         <span style=\"color: #00af00; text-decoration-color: #00af00\">147,584</span> │\n",
       "├──────────────────────────────────────┼─────────────────────────────┼─────────────────┤\n",
       "│ batch_normalization_3                │ (<span style=\"color: #00d7ff; text-decoration-color: #00d7ff\">None</span>, <span style=\"color: #00af00; text-decoration-color: #00af00\">8</span>, <span style=\"color: #00af00; text-decoration-color: #00af00\">8</span>, <span style=\"color: #00af00; text-decoration-color: #00af00\">128</span>)           │             <span style=\"color: #00af00; text-decoration-color: #00af00\">512</span> │\n",
       "│ (<span style=\"color: #0087ff; text-decoration-color: #0087ff\">BatchNormalization</span>)                 │                             │                 │\n",
       "├──────────────────────────────────────┼─────────────────────────────┼─────────────────┤\n",
       "│ max_pooling2d_1 (<span style=\"color: #0087ff; text-decoration-color: #0087ff\">MaxPooling2D</span>)       │ (<span style=\"color: #00d7ff; text-decoration-color: #00d7ff\">None</span>, <span style=\"color: #00af00; text-decoration-color: #00af00\">4</span>, <span style=\"color: #00af00; text-decoration-color: #00af00\">4</span>, <span style=\"color: #00af00; text-decoration-color: #00af00\">128</span>)           │               <span style=\"color: #00af00; text-decoration-color: #00af00\">0</span> │\n",
       "├──────────────────────────────────────┼─────────────────────────────┼─────────────────┤\n",
       "│ dropout_1 (<span style=\"color: #0087ff; text-decoration-color: #0087ff\">Dropout</span>)                  │ (<span style=\"color: #00d7ff; text-decoration-color: #00d7ff\">None</span>, <span style=\"color: #00af00; text-decoration-color: #00af00\">4</span>, <span style=\"color: #00af00; text-decoration-color: #00af00\">4</span>, <span style=\"color: #00af00; text-decoration-color: #00af00\">128</span>)           │               <span style=\"color: #00af00; text-decoration-color: #00af00\">0</span> │\n",
       "├──────────────────────────────────────┼─────────────────────────────┼─────────────────┤\n",
       "│ global_max_pooling2d                 │ (<span style=\"color: #00d7ff; text-decoration-color: #00d7ff\">None</span>, <span style=\"color: #00af00; text-decoration-color: #00af00\">128</span>)                 │               <span style=\"color: #00af00; text-decoration-color: #00af00\">0</span> │\n",
       "│ (<span style=\"color: #0087ff; text-decoration-color: #0087ff\">GlobalMaxPooling2D</span>)                 │                             │                 │\n",
       "├──────────────────────────────────────┼─────────────────────────────┼─────────────────┤\n",
       "│ dense (<span style=\"color: #0087ff; text-decoration-color: #0087ff\">Dense</span>)                        │ (<span style=\"color: #00d7ff; text-decoration-color: #00d7ff\">None</span>, <span style=\"color: #00af00; text-decoration-color: #00af00\">512</span>)                 │          <span style=\"color: #00af00; text-decoration-color: #00af00\">66,048</span> │\n",
       "├──────────────────────────────────────┼─────────────────────────────┼─────────────────┤\n",
       "│ dropout_2 (<span style=\"color: #0087ff; text-decoration-color: #0087ff\">Dropout</span>)                  │ (<span style=\"color: #00d7ff; text-decoration-color: #00d7ff\">None</span>, <span style=\"color: #00af00; text-decoration-color: #00af00\">512</span>)                 │               <span style=\"color: #00af00; text-decoration-color: #00af00\">0</span> │\n",
       "├──────────────────────────────────────┼─────────────────────────────┼─────────────────┤\n",
       "│ dense_1 (<span style=\"color: #0087ff; text-decoration-color: #0087ff\">Dense</span>)                      │ (<span style=\"color: #00d7ff; text-decoration-color: #00d7ff\">None</span>, <span style=\"color: #00af00; text-decoration-color: #00af00\">6</span>)                   │           <span style=\"color: #00af00; text-decoration-color: #00af00\">3,078</span> │\n",
       "└──────────────────────────────────────┴─────────────────────────────┴─────────────────┘\n",
       "</pre>\n"
      ],
      "text/plain": [
       "┏━━━━━━━━━━━━━━━━━━━━━━━━━━━━━━━━━━━━━━┳━━━━━━━━━━━━━━━━━━━━━━━━━━━━━┳━━━━━━━━━━━━━━━━━┓\n",
       "┃\u001b[1m \u001b[0m\u001b[1mLayer (type)                        \u001b[0m\u001b[1m \u001b[0m┃\u001b[1m \u001b[0m\u001b[1mOutput Shape               \u001b[0m\u001b[1m \u001b[0m┃\u001b[1m \u001b[0m\u001b[1m        Param #\u001b[0m\u001b[1m \u001b[0m┃\n",
       "┡━━━━━━━━━━━━━━━━━━━━━━━━━━━━━━━━━━━━━━╇━━━━━━━━━━━━━━━━━━━━━━━━━━━━━╇━━━━━━━━━━━━━━━━━┩\n",
       "│ conv2d (\u001b[38;5;33mConv2D\u001b[0m)                      │ (\u001b[38;5;45mNone\u001b[0m, \u001b[38;5;34m16\u001b[0m, \u001b[38;5;34m16\u001b[0m, \u001b[38;5;34m64\u001b[0m)          │             \u001b[38;5;34m640\u001b[0m │\n",
       "├──────────────────────────────────────┼─────────────────────────────┼─────────────────┤\n",
       "│ batch_normalization                  │ (\u001b[38;5;45mNone\u001b[0m, \u001b[38;5;34m16\u001b[0m, \u001b[38;5;34m16\u001b[0m, \u001b[38;5;34m64\u001b[0m)          │             \u001b[38;5;34m256\u001b[0m │\n",
       "│ (\u001b[38;5;33mBatchNormalization\u001b[0m)                 │                             │                 │\n",
       "├──────────────────────────────────────┼─────────────────────────────┼─────────────────┤\n",
       "│ conv2d_1 (\u001b[38;5;33mConv2D\u001b[0m)                    │ (\u001b[38;5;45mNone\u001b[0m, \u001b[38;5;34m16\u001b[0m, \u001b[38;5;34m16\u001b[0m, \u001b[38;5;34m64\u001b[0m)          │          \u001b[38;5;34m36,928\u001b[0m │\n",
       "├──────────────────────────────────────┼─────────────────────────────┼─────────────────┤\n",
       "│ batch_normalization_1                │ (\u001b[38;5;45mNone\u001b[0m, \u001b[38;5;34m16\u001b[0m, \u001b[38;5;34m16\u001b[0m, \u001b[38;5;34m64\u001b[0m)          │             \u001b[38;5;34m256\u001b[0m │\n",
       "│ (\u001b[38;5;33mBatchNormalization\u001b[0m)                 │                             │                 │\n",
       "├──────────────────────────────────────┼─────────────────────────────┼─────────────────┤\n",
       "│ max_pooling2d (\u001b[38;5;33mMaxPooling2D\u001b[0m)         │ (\u001b[38;5;45mNone\u001b[0m, \u001b[38;5;34m8\u001b[0m, \u001b[38;5;34m8\u001b[0m, \u001b[38;5;34m64\u001b[0m)            │               \u001b[38;5;34m0\u001b[0m │\n",
       "├──────────────────────────────────────┼─────────────────────────────┼─────────────────┤\n",
       "│ dropout (\u001b[38;5;33mDropout\u001b[0m)                    │ (\u001b[38;5;45mNone\u001b[0m, \u001b[38;5;34m8\u001b[0m, \u001b[38;5;34m8\u001b[0m, \u001b[38;5;34m64\u001b[0m)            │               \u001b[38;5;34m0\u001b[0m │\n",
       "├──────────────────────────────────────┼─────────────────────────────┼─────────────────┤\n",
       "│ conv2d_2 (\u001b[38;5;33mConv2D\u001b[0m)                    │ (\u001b[38;5;45mNone\u001b[0m, \u001b[38;5;34m8\u001b[0m, \u001b[38;5;34m8\u001b[0m, \u001b[38;5;34m128\u001b[0m)           │          \u001b[38;5;34m73,856\u001b[0m │\n",
       "├──────────────────────────────────────┼─────────────────────────────┼─────────────────┤\n",
       "│ batch_normalization_2                │ (\u001b[38;5;45mNone\u001b[0m, \u001b[38;5;34m8\u001b[0m, \u001b[38;5;34m8\u001b[0m, \u001b[38;5;34m128\u001b[0m)           │             \u001b[38;5;34m512\u001b[0m │\n",
       "│ (\u001b[38;5;33mBatchNormalization\u001b[0m)                 │                             │                 │\n",
       "├──────────────────────────────────────┼─────────────────────────────┼─────────────────┤\n",
       "│ conv2d_3 (\u001b[38;5;33mConv2D\u001b[0m)                    │ (\u001b[38;5;45mNone\u001b[0m, \u001b[38;5;34m8\u001b[0m, \u001b[38;5;34m8\u001b[0m, \u001b[38;5;34m128\u001b[0m)           │         \u001b[38;5;34m147,584\u001b[0m │\n",
       "├──────────────────────────────────────┼─────────────────────────────┼─────────────────┤\n",
       "│ batch_normalization_3                │ (\u001b[38;5;45mNone\u001b[0m, \u001b[38;5;34m8\u001b[0m, \u001b[38;5;34m8\u001b[0m, \u001b[38;5;34m128\u001b[0m)           │             \u001b[38;5;34m512\u001b[0m │\n",
       "│ (\u001b[38;5;33mBatchNormalization\u001b[0m)                 │                             │                 │\n",
       "├──────────────────────────────────────┼─────────────────────────────┼─────────────────┤\n",
       "│ max_pooling2d_1 (\u001b[38;5;33mMaxPooling2D\u001b[0m)       │ (\u001b[38;5;45mNone\u001b[0m, \u001b[38;5;34m4\u001b[0m, \u001b[38;5;34m4\u001b[0m, \u001b[38;5;34m128\u001b[0m)           │               \u001b[38;5;34m0\u001b[0m │\n",
       "├──────────────────────────────────────┼─────────────────────────────┼─────────────────┤\n",
       "│ dropout_1 (\u001b[38;5;33mDropout\u001b[0m)                  │ (\u001b[38;5;45mNone\u001b[0m, \u001b[38;5;34m4\u001b[0m, \u001b[38;5;34m4\u001b[0m, \u001b[38;5;34m128\u001b[0m)           │               \u001b[38;5;34m0\u001b[0m │\n",
       "├──────────────────────────────────────┼─────────────────────────────┼─────────────────┤\n",
       "│ global_max_pooling2d                 │ (\u001b[38;5;45mNone\u001b[0m, \u001b[38;5;34m128\u001b[0m)                 │               \u001b[38;5;34m0\u001b[0m │\n",
       "│ (\u001b[38;5;33mGlobalMaxPooling2D\u001b[0m)                 │                             │                 │\n",
       "├──────────────────────────────────────┼─────────────────────────────┼─────────────────┤\n",
       "│ dense (\u001b[38;5;33mDense\u001b[0m)                        │ (\u001b[38;5;45mNone\u001b[0m, \u001b[38;5;34m512\u001b[0m)                 │          \u001b[38;5;34m66,048\u001b[0m │\n",
       "├──────────────────────────────────────┼─────────────────────────────┼─────────────────┤\n",
       "│ dropout_2 (\u001b[38;5;33mDropout\u001b[0m)                  │ (\u001b[38;5;45mNone\u001b[0m, \u001b[38;5;34m512\u001b[0m)                 │               \u001b[38;5;34m0\u001b[0m │\n",
       "├──────────────────────────────────────┼─────────────────────────────┼─────────────────┤\n",
       "│ dense_1 (\u001b[38;5;33mDense\u001b[0m)                      │ (\u001b[38;5;45mNone\u001b[0m, \u001b[38;5;34m6\u001b[0m)                   │           \u001b[38;5;34m3,078\u001b[0m │\n",
       "└──────────────────────────────────────┴─────────────────────────────┴─────────────────┘\n"
      ]
     },
     "metadata": {},
     "output_type": "display_data"
    },
    {
     "data": {
      "text/html": [
       "<pre style=\"white-space:pre;overflow-x:auto;line-height:normal;font-family:Menlo,'DejaVu Sans Mono',consolas,'Courier New',monospace\"><span style=\"font-weight: bold\"> Total params: </span><span style=\"color: #00af00; text-decoration-color: #00af00\">329,672</span> (1.26 MB)\n",
       "</pre>\n"
      ],
      "text/plain": [
       "\u001b[1m Total params: \u001b[0m\u001b[38;5;34m329,672\u001b[0m (1.26 MB)\n"
      ]
     },
     "metadata": {},
     "output_type": "display_data"
    },
    {
     "data": {
      "text/html": [
       "<pre style=\"white-space:pre;overflow-x:auto;line-height:normal;font-family:Menlo,'DejaVu Sans Mono',consolas,'Courier New',monospace\"><span style=\"font-weight: bold\"> Trainable params: </span><span style=\"color: #00af00; text-decoration-color: #00af00\">328,902</span> (1.25 MB)\n",
       "</pre>\n"
      ],
      "text/plain": [
       "\u001b[1m Trainable params: \u001b[0m\u001b[38;5;34m328,902\u001b[0m (1.25 MB)\n"
      ]
     },
     "metadata": {},
     "output_type": "display_data"
    },
    {
     "data": {
      "text/html": [
       "<pre style=\"white-space:pre;overflow-x:auto;line-height:normal;font-family:Menlo,'DejaVu Sans Mono',consolas,'Courier New',monospace\"><span style=\"font-weight: bold\"> Non-trainable params: </span><span style=\"color: #00af00; text-decoration-color: #00af00\">768</span> (3.00 KB)\n",
       "</pre>\n"
      ],
      "text/plain": [
       "\u001b[1m Non-trainable params: \u001b[0m\u001b[38;5;34m768\u001b[0m (3.00 KB)\n"
      ]
     },
     "metadata": {},
     "output_type": "display_data"
    },
    {
     "data": {
      "text/html": [
       "<pre style=\"white-space:pre;overflow-x:auto;line-height:normal;font-family:Menlo,'DejaVu Sans Mono',consolas,'Courier New',monospace\"><span style=\"font-weight: bold\"> Optimizer params: </span><span style=\"color: #00af00; text-decoration-color: #00af00\">2</span> (12.00 B)\n",
       "</pre>\n"
      ],
      "text/plain": [
       "\u001b[1m Optimizer params: \u001b[0m\u001b[38;5;34m2\u001b[0m (12.00 B)\n"
      ]
     },
     "metadata": {},
     "output_type": "display_data"
    }
   ],
   "source": [
    "from tensorflow.keras.models import load_model\n",
    "\n",
    "# Load the model from the .h5 file\n",
    "model_HAR_loaded = load_model('model_HAR.h5', custom_objects={'f1_m': f1_m, 'precision_m': precision_m, 'recall_m': recall_m})\n",
    "\n",
    "# Print the summary of the loaded model to verify\n",
    "model_HAR_loaded.summary()"
   ]
  },
  {
   "cell_type": "code",
   "execution_count": 28,
   "id": "6d96861f-a638-4645-b272-2c4e2f08afaa",
   "metadata": {},
   "outputs": [],
   "source": [
    "import json\n",
    "\n",
    "# Convert the NumPy arrays to lists\n",
    "history_dict = {key: [float(val) for val in values] for key, values in history.history.items()}\n",
    "\n",
    "# Save the history as JSON\n",
    "with open('model_history.json', 'w') as f:\n",
    "    json.dump(history_dict, f)"
   ]
  },
  {
   "cell_type": "code",
   "execution_count": 29,
   "id": "ac912512-2d1e-40fe-8584-5283372073ab",
   "metadata": {},
   "outputs": [
    {
     "name": "stdout",
     "output_type": "stream",
     "text": [
      "{'accuracy': array([0.65773588, 0.77878386, 0.81341845, 0.83739054, 0.85052693,\n",
      "       0.85809708, 0.86678046, 0.87363315, 0.87694818, 0.88459253,\n",
      "       0.88798177, 0.89310277, 0.89498293, 0.90094501, 0.90200883,\n",
      "       0.90636289, 0.90866357, 0.91061801, 0.91326505, 0.9119786 ,\n",
      "       0.91677797, 0.91870761, 0.91917765, 0.920192  , 0.92157733,\n",
      "       0.92650044, 0.92615408, 0.9263767 , 0.92951858, 0.93184406]), 'f1_m': array([0.63214874, 0.77265626, 0.81098086, 0.834714  , 0.84916455,\n",
      "       0.8574658 , 0.86656326, 0.87256747, 0.8768515 , 0.88310891,\n",
      "       0.88790834, 0.89367384, 0.89452815, 0.90073627, 0.9018681 ,\n",
      "       0.90651923, 0.9093377 , 0.91023999, 0.91256416, 0.91165936,\n",
      "       0.9170447 , 0.91888118, 0.918706  , 0.92032766, 0.92155164,\n",
      "       0.92596406, 0.92618138, 0.92655492, 0.9289397 , 0.93239427]), 'loss': array([0.89620608, 0.58743685, 0.50149071, 0.445364  , 0.41352046,\n",
      "       0.38650933, 0.36541864, 0.3492389 , 0.33447793, 0.32262203,\n",
      "       0.30878133, 0.29340494, 0.29067406, 0.27682477, 0.2696543 ,\n",
      "       0.25979856, 0.25420916, 0.24951455, 0.24127673, 0.2432227 ,\n",
      "       0.23013857, 0.22697388, 0.22470799, 0.22049205, 0.2148537 ,\n",
      "       0.20534188, 0.20228569, 0.2027466 , 0.1947826 , 0.18888934]), 'precision_m': array([0.76331431, 0.84651077, 0.86721331, 0.88337648, 0.89213908,\n",
      "       0.89835113, 0.90482271, 0.9076888 , 0.91120726, 0.91526872,\n",
      "       0.91888368, 0.92154413, 0.92309761, 0.92687649, 0.92734045,\n",
      "       0.93080372, 0.93162274, 0.93271029, 0.93493003, 0.93362927,\n",
      "       0.93670577, 0.93940163, 0.93768829, 0.93921697, 0.94003826,\n",
      "       0.94217539, 0.94225794, 0.9434185 , 0.94449323, 0.94663656]), 'recall_m': array([0.544348  , 0.71178198, 0.76245785, 0.79187047, 0.81078368,\n",
      "       0.82077962, 0.83201176, 0.84060758, 0.84554309, 0.85367042,\n",
      "       0.85946345, 0.86791092, 0.86815691, 0.87643266, 0.87813723,\n",
      "       0.88387299, 0.88845581, 0.88920534, 0.89162695, 0.89106613,\n",
      "       0.89853376, 0.89958125, 0.90079921, 0.90250641, 0.90406394,\n",
      "       0.91055965, 0.91087967, 0.91054273, 0.91411841, 0.91880023]), 'val_accuracy': array([0.73625267, 0.84479833, 0.8591826 , 0.88444799, 0.88784504,\n",
      "       0.88683653, 0.89145434, 0.89617836, 0.90589172, 0.9056794 ,\n",
      "       0.90483016, 0.90552014, 0.9081741 , 0.91236728, 0.9151274 ,\n",
      "       0.9195329 , 0.91650742, 0.92091292, 0.91279191, 0.92261147,\n",
      "       0.92181528, 0.92091292, 0.92346072, 0.92547768, 0.92346072,\n",
      "       0.92553079, 0.92404461, 0.92452228, 0.92510617, 0.92595541]), 'val_f1_m': array([0.66347879, 0.84090894, 0.85608315, 0.879646  , 0.88460267,\n",
      "       0.8877694 , 0.8926636 , 0.89689928, 0.90690351, 0.90507597,\n",
      "       0.90437973, 0.90645915, 0.90984982, 0.91349024, 0.91649199,\n",
      "       0.92122966, 0.9175089 , 0.922526  , 0.9146927 , 0.92326647,\n",
      "       0.92223716, 0.92306972, 0.9251796 , 0.9267785 , 0.92496294,\n",
      "       0.92790478, 0.92652762, 0.92591286, 0.92728931, 0.92769343]), 'val_loss': array([0.77938521, 0.43755299, 0.38639832, 0.33552879, 0.31091574,\n",
      "       0.31055638, 0.2940985 , 0.28929669, 0.26287362, 0.26137254,\n",
      "       0.26328623, 0.25574449, 0.25339317, 0.24212947, 0.23427975,\n",
      "       0.22778776, 0.23267838, 0.2182606 , 0.24150142, 0.22358271,\n",
      "       0.2219687 , 0.22635174, 0.22032593, 0.21435411, 0.22701502,\n",
      "       0.21506083, 0.2173205 , 0.21905515, 0.21923576, 0.20790298]), 'val_precision_m': array([0.82824326, 0.90382689, 0.91466653, 0.9368366 , 0.92870742,\n",
      "       0.93224382, 0.92621964, 0.94636947, 0.93880689, 0.93534404,\n",
      "       0.94208831, 0.94409978, 0.93782008, 0.94097859, 0.9431833 ,\n",
      "       0.9434793 , 0.94290483, 0.94378293, 0.93720752, 0.94669169,\n",
      "       0.94731092, 0.94423556, 0.94248742, 0.94515359, 0.94293606,\n",
      "       0.94371772, 0.94185841, 0.94220126, 0.94369602, 0.94810635]), 'val_recall_m': array([0.55497879, 0.78702331, 0.80519068, 0.82967865, 0.84498584,\n",
      "       0.84786373, 0.86188203, 0.85293078, 0.87756008, 0.87708336,\n",
      "       0.87009186, 0.87212217, 0.88389832, 0.88794142, 0.89163136,\n",
      "       0.90035307, 0.89380294, 0.90248942, 0.89360881, 0.90127116,\n",
      "       0.89878178, 0.90312499, 0.90873939, 0.90937501, 0.90794492,\n",
      "       0.91287076, 0.91191739, 0.91043431, 0.91165257, 0.90842164])}\n"
     ]
    }
   ],
   "source": [
    "import json\n",
    "\n",
    "# Load the history from the JSON file\n",
    "with open('model_history.json', 'r') as f:\n",
    "    history = json.load(f)\n",
    "\n",
    "# Optionally, convert lists back to NumPy arrays (if needed)\n",
    "import numpy as np\n",
    "history = {key: np.array(values) for key, values in history.items()}\n",
    "\n",
    "# Now you can use the history dictionary\n",
    "print(history)"
   ]
  },
  {
   "cell_type": "code",
   "execution_count": 30,
   "id": "81a26c41-5021-423d-b391-85035f7251d5",
   "metadata": {},
   "outputs": [
    {
     "name": "stdout",
     "output_type": "stream",
     "text": [
      "\u001b[1m589/589\u001b[0m \u001b[32m━━━━━━━━━━━━━━━━━━━━\u001b[0m\u001b[37m\u001b[0m \u001b[1m10s\u001b[0m 17ms/step\n",
      "Confusion Matrix (in percentages):\n",
      "[[9.087e+01 0.000e+00 1.000e-01 2.530e+00 3.740e+00 2.760e+00]\n",
      " [0.000e+00 9.990e+01 3.000e-02 0.000e+00 5.000e-02 3.000e-02]\n",
      " [3.000e-02 7.000e-02 9.933e+01 1.000e-01 2.700e-01 2.000e-01]\n",
      " [1.690e+00 2.000e-02 1.600e-01 9.068e+01 3.640e+00 3.820e+00]\n",
      " [2.690e+00 2.300e-01 6.300e-01 5.540e+00 8.189e+01 9.030e+00]\n",
      " [3.420e+00 5.000e-02 4.300e-01 5.270e+00 5.750e+00 8.509e+01]]\n",
      "Overall Accuracy: 92.60%\n"
     ]
    },
    {
     "data": {
      "image/png": "[encoded data removed]",
      "text/plain": [
       "<Figure size 1000x1000 with 2 Axes>"
      ]
     },
     "metadata": {},
     "output_type": "display_data"
    }
   ],
   "source": [
    "import numpy as np\n",
    "from sklearn.metrics import confusion_matrix, ConfusionMatrixDisplay\n",
    "import matplotlib.pyplot as plt\n",
    "\n",
    "# Assuming model_CNN is already trained and x_test, y_test_one_hot are available\n",
    "\n",
    "# Predict the labels for the test set\n",
    "y_pred = model_HAR_loaded.predict(x_test)\n",
    "\n",
    "# Convert one-hot encoded labels to class labels\n",
    "y_test_labels = y_test_one_hot.argmax(axis=1)\n",
    "y_pred_labels = y_pred.argmax(axis=1)\n",
    "\n",
    "# Compute the confusion matrix\n",
    "cm = confusion_matrix(y_test_labels, y_pred_labels)\n",
    "\n",
    "# Calculate overall accuracy\n",
    "accuracy = np.trace(cm) / np.sum(cm)\n",
    "\n",
    "# Normalize the confusion matrix by row (true classes)\n",
    "cm_normalized = cm.astype('float') / cm.sum(axis=1)[:, np.newaxis]\n",
    "\n",
    "# Convert to percentages\n",
    "cm_percent = cm_normalized * 100\n",
    "\n",
    "# Print the confusion matrix in percentages\n",
    "print(\"Confusion Matrix (in percentages):\")\n",
    "print(np.around(cm_percent, decimals=2))\n",
    "\n",
    "# Print overall accuracy\n",
    "print(f\"Overall Accuracy: {accuracy * 100:.2f}%\")\n",
    "\n",
    "# Plot the confusion matrix\n",
    "fig, ax = plt.subplots(figsize=(10, 10))\n",
    "disp = ConfusionMatrixDisplay(confusion_matrix=cm_percent, display_labels=np.unique(y_test_labels))\n",
    "disp.plot(cmap=plt.cm.Blues, ax=ax, values_format=\".2f\")\n",
    "plt.title('Confusion Matrix in Percentage')\n",
    "plt.xlabel('Predicted Label')\n",
    "plt.ylabel('True Label')\n",
    "plt.grid(False)\n",
    "plt.show()\n"
   ]
  },
  {
   "cell_type": "code",
   "execution_count": 31,
   "id": "819e5ad5-2b4b-453d-a2da-cd4a62bc16f6",
   "metadata": {},
   "outputs": [
    {
     "data": {
      "image/png": "[encoded data removed]",
      "text/plain": [
       "<Figure size 1000x500 with 1 Axes>"
      ]
     },
     "metadata": {},
     "output_type": "display_data"
    }
   ],
   "source": [
    "# Extract training and validation loss from history\n",
    "train_losses = history['loss']\n",
    "val_losses = history['val_loss']\n",
    "epochs = range(1, len(train_losses) + 1)\n",
    "\n",
    "# Plotting train and test loss curves\n",
    "plt.figure(figsize=(10, 5))\n",
    "plt.plot(epochs, train_losses, label='Train Loss')\n",
    "plt.plot(epochs, val_losses, label='Validation Loss')\n",
    "plt.xlabel('Epochs')\n",
    "plt.ylabel('Loss')\n",
    "plt.title('Training and Validation Loss Curves')\n",
    "plt.legend()\n",
    "plt.grid(True)\n",
    "plt.show()\n"
   ]
  },
  {
   "cell_type": "code",
   "execution_count": 32,
   "id": "b01a8bfb-b543-4505-a1db-dbe7582cb5bf",
   "metadata": {},
   "outputs": [
    {
     "data": {
      "image/png": "[encoded data removed]",
      "text/plain": [
       "<Figure size 1200x600 with 1 Axes>"
      ]
     },
     "metadata": {},
     "output_type": "display_data"
    }
   ],
   "source": [
    "import numpy as np\n",
    "import matplotlib.pyplot as plt\n",
    "from sklearn.metrics import classification_report\n",
    "\n",
    "\n",
    "\n",
    "# Ensure class_names contains the correct unique classes\n",
    "class_names = np.unique(np.concatenate((y_test_labels, y_pred_labels)))\n",
    "\n",
    "# Compute classification report\n",
    "report = classification_report(y_test_labels, y_pred_labels, target_names=class_names, output_dict=True)\n",
    "\n",
    "# Extract metrics for each class\n",
    "per_class_precision = [report[class_name]['precision'] for class_name in class_names]\n",
    "per_class_recall = [report[class_name]['recall'] for class_name in class_names]\n",
    "per_class_f1 = [report[class_name]['f1-score'] for class_name in class_names]\n",
    "\n",
    "# Example calculation of per-class accuracy (replace with your actual calculation)\n",
    "per_class_accuracy = np.random.rand(len(class_names))  # Replace with actual accuracy calculation\n",
    "\n",
    "# Plotting per-class metrics\n",
    "plt.figure(figsize=(12, 6))\n",
    "\n",
    "bar_width = 0.2\n",
    "index = np.arange(len(class_names))\n",
    "\n",
    "plt.bar(index - 1.5 * bar_width, per_class_precision, width=bar_width, label='Precision')\n",
    "plt.bar(index - 0.5 * bar_width, per_class_recall, width=bar_width, label='Recall')\n",
    "plt.bar(index + 0.5 * bar_width, per_class_f1, width=bar_width, label='F1 Score')\n",
    "plt.bar(index + 1.5 * bar_width, per_class_accuracy, width=bar_width, label='Accuracy')\n",
    "\n",
    "plt.xlabel('Class')\n",
    "plt.ylabel('Scores')\n",
    "plt.title('Per-Class Metrics')\n",
    "plt.xticks(index, class_names, rotation=45)\n",
    "plt.ylim(0, 1)  # Assuming accuracy ranges from 0 to 1\n",
    "plt.legend()\n",
    "plt.tight_layout()\n",
    "plt.show()\n"
   ]
  },
  {
   "cell_type": "code",
   "execution_count": null,
   "id": "6cecca95-8648-48a0-aa43-bcfc482c9beb",
   "metadata": {},
   "outputs": [],
   "source": []
  }
 ],
 "metadata": {
  "kernelspec": {
   "display_name": "Python 3 (ipykernel)",
   "language": "python",
   "name": "python3"
  },
  "language_info": {
   "codemirror_mode": {
    "name": "ipython",
    "version": 3
   },
   "file_extension": ".py",
   "mimetype": "text/x-python",
   "name": "python",
   "nbconvert_exporter": "python",
   "pygments_lexer": "ipython3",
   "version": "3.12.4"
  }
 },
 "nbformat": 4,
 "nbformat_minor": 5
}
