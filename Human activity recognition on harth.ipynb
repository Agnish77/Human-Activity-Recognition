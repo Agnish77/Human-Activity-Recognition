{
 "cells": [
  {
   "cell_type": "code",
   "execution_count": 1,
   "id": "738af09d",
   "metadata": {
    "id": "738af09d"
   },
   "outputs": [],
   "source": [
    "\n",
    "import pandas as pd\n",
    "import tensorflow as tf\n",
    "from tensorflow.keras.applications.vgg19 import preprocess_input\n",
    "import matplotlib.pyplot as plt\n",
    "import tensorflow\n",
    "from tensorflow.keras.preprocessing.image import ImageDataGenerator\n",
    "from tensorflow.keras.models import Sequential\n",
    "from tensorflow.keras.layers import InputLayer, BatchNormalization, Dropout, Flatten, Dense, Activation, MaxPool2D, Conv2D\n",
    "from tensorflow.keras.callbacks import EarlyStopping, ModelCheckpoint\n",
    "from tensorflow.keras.applications.vgg19 import VGG19\n",
    "from tensorflow.keras.preprocessing.image import load_img, img_to_array\n",
    "from keras.metrics import Recall,Precision\n",
    "%matplotlib inline\n",
    "import numpy as np\n",
    "import pandas as pd\n",
    "import matplotlib.pyplot as plt\n",
    "import seaborn as sns\n",
    "import os\n",
    "from keras import models, layers\n",
    "from keras.utils import to_categorical\n",
    "\n",
    "from sklearn.model_selection import train_test_split\n",
    "from pathlib import Path\n",
    "from sklearn.metrics import classification_report, confusion_matrix\n",
    "\n",
    "from IPython.core.interactiveshell import InteractiveShell\n",
    "InteractiveShell.ast_node_interactivity = 'all'\n"
   ]
  },
  {
   "cell_type": "code",
   "execution_count": null,
   "id": "73848559",
   "metadata": {
    "colab": {
     "base_uri": "https://localhost:8080/",
     "height": 35
    },
    "id": "73848559",
    "outputId": "adb80eb5-2a45-4741-f159-06c5d0d18250"
   },
   "outputs": [],
   "source": []
  },
  {
   "cell_type": "code",
   "execution_count": 2,
   "id": "fb561b91",
   "metadata": {
    "id": "fb561b91",
    "scrolled": true
   },
   "outputs": [],
   "source": [
    "a = pd.read_csv('harth.csv')\n"
   ]
  },
  {
   "cell_type": "markdown",
   "id": "m30gwgHfl8yX",
   "metadata": {
    "id": "m30gwgHfl8yX"
   },
   "source": []
  },
  {
   "cell_type": "code",
   "execution_count": 4,
   "id": "eLWKs2ij7NGD",
   "metadata": {
    "colab": {
     "base_uri": "https://localhost:8080/"
    },
    "id": "eLWKs2ij7NGD",
    "outputId": "c202435f-2a2a-4c1b-96f4-824868399fbd"
   },
   "outputs": [
    {
     "data": {
      "text/plain": [
       "(408709, 7)"
      ]
     },
     "execution_count": 4,
     "metadata": {},
     "output_type": "execute_result"
    }
   ],
   "source": [
    "a.shape"
   ]
  },
  {
   "cell_type": "code",
   "execution_count": 5,
   "id": "MT7-f8z0zAtn",
   "metadata": {
    "colab": {
     "base_uri": "https://localhost:8080/"
    },
    "id": "MT7-f8z0zAtn",
    "outputId": "126b5b67-5c8c-4ed9-bf75-7e2fb8150081"
   },
   "outputs": [
    {
     "name": "stdout",
     "output_type": "stream",
     "text": [
      "Requirement already satisfied: pyts in c:\\users\\agnis\\downloads\\agnish\\lib\\site-packages (0.13.0)\n",
      "Requirement already satisfied: numpy>=1.22.4 in c:\\users\\agnis\\downloads\\agnish\\lib\\site-packages (from pyts) (1.26.4)\n",
      "Requirement already satisfied: scipy>=1.8.1 in c:\\users\\agnis\\downloads\\agnish\\lib\\site-packages (from pyts) (1.13.1)\n",
      "Requirement already satisfied: scikit-learn>=1.2.0 in c:\\users\\agnis\\downloads\\agnish\\lib\\site-packages (from pyts) (1.4.2)\n",
      "Requirement already satisfied: joblib>=1.1.1 in c:\\users\\agnis\\downloads\\agnish\\lib\\site-packages (from pyts) (1.4.2)\n",
      "Requirement already satisfied: numba>=0.55.2 in c:\\users\\agnis\\downloads\\agnish\\lib\\site-packages (from pyts) (0.59.1)\n",
      "Requirement already satisfied: llvmlite<0.43,>=0.42.0dev0 in c:\\users\\agnis\\downloads\\agnish\\lib\\site-packages (from numba>=0.55.2->pyts) (0.42.0)\n",
      "Requirement already satisfied: threadpoolctl>=2.0.0 in c:\\users\\agnis\\downloads\\agnish\\lib\\site-packages (from scikit-learn>=1.2.0->pyts) (2.2.0)\n"
     ]
    }
   ],
   "source": [
    "!pip install pyts\n",
    "\n",
    "from pyts.image import GramianAngularField\n"
   ]
  },
  {
   "cell_type": "code",
   "execution_count": 6,
   "id": "TAghPZDsy0im",
   "metadata": {
    "id": "TAghPZDsy0im"
   },
   "outputs": [],
   "source": [
    "gaf = GramianAngularField()"
   ]
  },
  {
   "cell_type": "code",
   "execution_count": 7,
   "id": "MXpunELZz98y",
   "metadata": {
    "colab": {
     "base_uri": "https://localhost:8080/",
     "height": 224
    },
    "id": "MXpunELZz98y",
    "outputId": "99c4ffce-c424-4b3b-f414-ea3d2b24115e"
   },
   "outputs": [
    {
     "data": {
      "text/html": [
       "<div>\n",
       "<style scoped>\n",
       "    .dataframe tbody tr th:only-of-type {\n",
       "        vertical-align: middle;\n",
       "    }\n",
       "\n",
       "    .dataframe tbody tr th {\n",
       "        vertical-align: top;\n",
       "    }\n",
       "\n",
       "    .dataframe thead th {\n",
       "        text-align: right;\n",
       "    }\n",
       "</style>\n",
       "<table border=\"1\" class=\"dataframe\">\n",
       "  <thead>\n",
       "    <tr style=\"text-align: right;\">\n",
       "      <th></th>\n",
       "      <th>alx</th>\n",
       "      <th>aly</th>\n",
       "      <th>alz</th>\n",
       "      <th>arx</th>\n",
       "      <th>ary</th>\n",
       "      <th>arz</th>\n",
       "    </tr>\n",
       "  </thead>\n",
       "  <tbody>\n",
       "    <tr>\n",
       "      <th>0</th>\n",
       "      <td>-0.760242</td>\n",
       "      <td>0.299570</td>\n",
       "      <td>0.468570</td>\n",
       "      <td>-5.092732</td>\n",
       "      <td>-0.298644</td>\n",
       "      <td>0.709439</td>\n",
       "    </tr>\n",
       "    <tr>\n",
       "      <th>1</th>\n",
       "      <td>-0.530138</td>\n",
       "      <td>0.281880</td>\n",
       "      <td>0.319987</td>\n",
       "      <td>0.900547</td>\n",
       "      <td>0.286944</td>\n",
       "      <td>0.340309</td>\n",
       "    </tr>\n",
       "    <tr>\n",
       "      <th>2</th>\n",
       "      <td>-1.170922</td>\n",
       "      <td>0.186353</td>\n",
       "      <td>-0.167010</td>\n",
       "      <td>-0.035442</td>\n",
       "      <td>-0.078423</td>\n",
       "      <td>-0.515212</td>\n",
       "    </tr>\n",
       "    <tr>\n",
       "      <th>3</th>\n",
       "      <td>-0.648772</td>\n",
       "      <td>0.016579</td>\n",
       "      <td>-0.054284</td>\n",
       "      <td>-1.554248</td>\n",
       "      <td>-0.950978</td>\n",
       "      <td>-0.221140</td>\n",
       "    </tr>\n",
       "    <tr>\n",
       "      <th>4</th>\n",
       "      <td>-0.355071</td>\n",
       "      <td>-0.051831</td>\n",
       "      <td>-0.113419</td>\n",
       "      <td>-0.547471</td>\n",
       "      <td>0.140903</td>\n",
       "      <td>-0.653782</td>\n",
       "    </tr>\n",
       "  </tbody>\n",
       "</table>\n",
       "</div>"
      ],
      "text/plain": [
       "        alx       aly       alz       arx       ary       arz\n",
       "0 -0.760242  0.299570  0.468570 -5.092732 -0.298644  0.709439\n",
       "1 -0.530138  0.281880  0.319987  0.900547  0.286944  0.340309\n",
       "2 -1.170922  0.186353 -0.167010 -0.035442 -0.078423 -0.515212\n",
       "3 -0.648772  0.016579 -0.054284 -1.554248 -0.950978 -0.221140\n",
       "4 -0.355071 -0.051831 -0.113419 -0.547471  0.140903 -0.653782"
      ]
     },
     "execution_count": 7,
     "metadata": {},
     "output_type": "execute_result"
    },
    {
     "name": "stdout",
     "output_type": "stream",
     "text": [
      "6\n"
     ]
    }
   ],
   "source": [
    "X=a.drop(columns='activity')\n",
    "y=a['activity']\n",
    "X.head()\n",
    "print(y[0])"
   ]
  },
  {
   "cell_type": "code",
   "execution_count": 8,
   "id": "eH07EySs0umt",
   "metadata": {
    "id": "eH07EySs0umt"
   },
   "outputs": [],
   "source": [
    "x_train,x_test,y_train,y_test = train_test_split(X,y,test_size = 0.3,random_state = 42)"
   ]
  },
  {
   "cell_type": "code",
   "execution_count": 9,
   "id": "8f2f7C6T7Rop",
   "metadata": {
    "id": "8f2f7C6T7Rop"
   },
   "outputs": [],
   "source": [
    "x_train.fillna(x_train.mean(), inplace=True)\n",
    "x_test.fillna(x_test.mean(), inplace=True)"
   ]
  },
  {
   "cell_type": "code",
   "execution_count": 10,
   "id": "ZrIx6f7-2Fqz",
   "metadata": {
    "colab": {
     "base_uri": "https://localhost:8080/",
     "height": 243
    },
    "id": "ZrIx6f7-2Fqz",
    "outputId": "39a71fad-b4cd-4dd0-8f5b-a87298e01808"
   },
   "outputs": [
    {
     "data": {
      "text/plain": [
       "array([[0.62528265, 0.54611799, 0.13087461, 0.68503501, 0.59766214,\n",
       "        0.48267871],\n",
       "       [0.69382516, 0.55473331, 0.04791845, 0.68114104, 0.59174857,\n",
       "        0.48360236],\n",
       "       [0.68179554, 0.54023511, 0.05644231, 0.6875165 , 0.59547781,\n",
       "        0.48279735],\n",
       "       ...,\n",
       "       [0.57901164, 0.55628241, 0.43957907, 0.57731119, 0.59450604,\n",
       "        0.39142972],\n",
       "       [0.56795132, 0.56034243, 0.4310191 , 0.58425449, 0.59291082,\n",
       "        0.33170339],\n",
       "       [0.57266653, 0.58286969, 0.43593065, 0.58616246, 0.5825038 ,\n",
       "        0.3342312 ]])"
      ]
     },
     "metadata": {},
     "output_type": "display_data"
    }
   ],
   "source": [
    "from sklearn.preprocessing import MinMaxScaler\n",
    "\n",
    "# Initialize the Min-Max scaler\n",
    "scaler = MinMaxScaler()\n",
    "\n",
    "# Fit the scaler on the training data and transform both training and testing data\n",
    "x_train_normalized = scaler.fit_transform(x_train)\n",
    "x_test_normalized = scaler.transform(x_test)\n",
    "\n",
    "\n",
    "# Display the normalized training data\n",
    "display(x_train_normalized)\n"
   ]
  },
  {
   "cell_type": "code",
   "execution_count": 11,
   "id": "2yFu2n3G6QQm",
   "metadata": {
    "id": "2yFu2n3G6QQm"
   },
   "outputs": [],
   "source": [
    "x_train = gaf.fit_transform(x_train)\n",
    "x_test= gaf.fit_transform(x_test)"
   ]
  },
  {
   "cell_type": "code",
   "execution_count": 12,
   "id": "cn8Kz1Gp8Vf0",
   "metadata": {
    "colab": {
     "base_uri": "https://localhost:8080/"
    },
    "id": "cn8Kz1Gp8Vf0",
    "outputId": "7df9f084-bd78-42e4-acdc-95666da53892"
   },
   "outputs": [
    {
     "data": {
      "text/plain": [
       "399796     7\n",
       "236227     7\n",
       "162461     7\n",
       "93056      7\n",
       "318599    13\n",
       "          ..\n",
       "259178     6\n",
       "365838     3\n",
       "131932     1\n",
       "146867     6\n",
       "121958     6\n",
       "Name: activity, Length: 286096, dtype: int64"
      ]
     },
     "execution_count": 12,
     "metadata": {},
     "output_type": "execute_result"
    }
   ],
   "source": [
    "#y_train=y_train.to_numpy()\n",
    "y_train"
   ]
  },
  {
   "cell_type": "code",
   "execution_count": 13,
   "id": "qF6DleGB8kZg",
   "metadata": {
    "colab": {
     "base_uri": "https://localhost:8080/"
    },
    "id": "qF6DleGB8kZg",
    "outputId": "b22c80b8-c6d0-4d64-de39-a65b8f8a6f52"
   },
   "outputs": [
    {
     "data": {
      "text/plain": [
       "90448      7\n",
       "251195     7\n",
       "333584    13\n",
       "209297     7\n",
       "254703     1\n",
       "          ..\n",
       "271432     8\n",
       "372842     7\n",
       "241840     7\n",
       "285405     7\n",
       "28685      7\n",
       "Name: activity, Length: 122613, dtype: int64"
      ]
     },
     "execution_count": 13,
     "metadata": {},
     "output_type": "execute_result"
    }
   ],
   "source": [
    "y_test\n",
    "#=y_test.to_numpy()"
   ]
  },
  {
   "cell_type": "code",
   "execution_count": 14,
   "id": "4vD5rxVl80z2",
   "metadata": {
    "colab": {
     "base_uri": "https://localhost:8080/"
    },
    "id": "4vD5rxVl80z2",
    "outputId": "e718d0d3-6b79-4196-9257-d337e97076de"
   },
   "outputs": [
    {
     "name": "stdout",
     "output_type": "stream",
     "text": [
      "(286096,)\n"
     ]
    }
   ],
   "source": [
    "#y_train = y_train.reshape(y_train.shape[0],1)\n",
    "print(y_train.shape)"
   ]
  },
  {
   "cell_type": "code",
   "execution_count": 15,
   "id": "35f18740-28fc-40b1-a2ff-93881d59a6f8",
   "metadata": {},
   "outputs": [
    {
     "name": "stdout",
     "output_type": "stream",
     "text": [
      "(286096, 6, 6)\n"
     ]
    }
   ],
   "source": [
    "print(x_train.shape)"
   ]
  },
  {
   "cell_type": "code",
   "execution_count": 16,
   "id": "VR1398My8-Iy",
   "metadata": {
    "id": "VR1398My8-Iy"
   },
   "outputs": [],
   "source": [
    "x_train = x_train.reshape(x_train.shape[0],6,6,1)\n",
    "x_train = x_train.astype('float32')"
   ]
  },
  {
   "cell_type": "code",
   "execution_count": 17,
   "id": "csqYVi-0ASo_",
   "metadata": {
    "id": "csqYVi-0ASo_"
   },
   "outputs": [],
   "source": [
    "import keras"
   ]
  },
  {
   "cell_type": "code",
   "execution_count": 18,
   "id": "111srNX4AKwn",
   "metadata": {
    "colab": {
     "base_uri": "https://localhost:8080/"
    },
    "id": "111srNX4AKwn",
    "outputId": "e4170da8-f514-4deb-e11d-7b0ff58f7241"
   },
   "outputs": [
    {
     "name": "stdout",
     "output_type": "stream",
     "text": [
      "Number of classes: 10\n"
     ]
    }
   ],
   "source": [
    "# Assuming `labels` is a list or array containing the labels of your dataset\n",
    "labels = y# Your dataset labels here\n",
    "\n",
    "# Find unique labels\n",
    "unique_labels = set(labels)\n",
    "\n",
    "# Count the number of unique labels\n",
    "num_classes = len(unique_labels)\n",
    "\n",
    "print(\"Number of classes:\", num_classes)\n"
   ]
  },
  {
   "cell_type": "code",
   "execution_count": 19,
   "id": "sgng24QfhApj",
   "metadata": {
    "colab": {
     "base_uri": "https://localhost:8080/"
    },
    "id": "sgng24QfhApj",
    "outputId": "c277efcc-afbf-4af6-f9d1-527eae2bd7fb"
   },
   "outputs": [
    {
     "name": "stdout",
     "output_type": "stream",
     "text": [
      "Unique labels in y_train: [  1   3   4   5   6   7   8  13  14 130]\n",
      "Unique labels in y_test: [  1   3   4   5   6   7   8  13  14 130]\n",
      "Max label value: 130\n",
      "Number of classes: 131\n",
      "Shape of y_train_one_hot: (286096, 131)\n",
      "Shape of y_test_one_hot: (122613, 131)\n"
     ]
    },
    {
     "name": "stderr",
     "output_type": "stream",
     "text": [
      "C:\\Users\\agnis\\Downloads\\agnish\\Lib\\site-packages\\keras\\src\\layers\\convolutional\\base_conv.py:107: UserWarning: Do not pass an `input_shape`/`input_dim` argument to a layer. When using Sequential models, prefer using an `Input(shape)` object as the first layer in the model instead.\n",
      "  super().__init__(activity_regularizer=activity_regularizer, **kwargs)\n"
     ]
    },
    {
     "name": "stdout",
     "output_type": "stream",
     "text": [
      "x_train shape: (286096, 6, 6, 1)\n",
      "y_train_one_hot shape: (286096, 131)\n",
      "x_test shape: (122613, 6, 6)\n",
      "y_test_one_hot shape: (122613, 131)\n",
      "Adjusted x_test shape: (122613, 6, 6)\n",
      "y_test_one_hot shape: (122613, 131)\n",
      "Epoch 1/30\n",
      "\u001b[1m4471/4471\u001b[0m \u001b[32m━━━━━━━━━━━━━━━━━━━━\u001b[0m\u001b[37m\u001b[0m \u001b[1m222s\u001b[0m 46ms/step - accuracy: 0.8692 - f1_m: 0.8737 - loss: 0.4058 - precision_m: 0.9262 - recall_m: 0.8287 - val_accuracy: 0.8945 - val_f1_m: 0.8968 - val_loss: 0.3069 - val_precision_m: 0.9360 - val_recall_m: 0.8613\n",
      "Epoch 2/30\n",
      "\u001b[1m4471/4471\u001b[0m \u001b[32m━━━━━━━━━━━━━━━━━━━━\u001b[0m\u001b[37m\u001b[0m \u001b[1m198s\u001b[0m 44ms/step - accuracy: 0.8897 - f1_m: 0.8924 - loss: 0.3195 - precision_m: 0.9361 - recall_m: 0.8533 - val_accuracy: 0.8982 - val_f1_m: 0.9013 - val_loss: 0.2881 - val_precision_m: 0.9346 - val_recall_m: 0.8708\n",
      "Epoch 3/30\n",
      "\u001b[1m4471/4471\u001b[0m \u001b[32m━━━━━━━━━━━━━━━━━━━━\u001b[0m\u001b[37m\u001b[0m \u001b[1m145s\u001b[0m 32ms/step - accuracy: 0.8949 - f1_m: 0.8972 - loss: 0.3022 - precision_m: 0.9364 - recall_m: 0.8617 - val_accuracy: 0.8985 - val_f1_m: 0.9007 - val_loss: 0.2847 - val_precision_m: 0.9407 - val_recall_m: 0.8645\n",
      "Epoch 4/30\n",
      "\u001b[1m4471/4471\u001b[0m \u001b[32m━━━━━━━━━━━━━━━━━━━━\u001b[0m\u001b[37m\u001b[0m \u001b[1m122s\u001b[0m 27ms/step - accuracy: 0.8962 - f1_m: 0.8984 - loss: 0.2963 - precision_m: 0.9380 - recall_m: 0.8627 - val_accuracy: 0.8996 - val_f1_m: 0.9021 - val_loss: 0.2810 - val_precision_m: 0.9438 - val_recall_m: 0.8646\n",
      "Epoch 5/30\n",
      "\u001b[1m4471/4471\u001b[0m \u001b[32m━━━━━━━━━━━━━━━━━━━━\u001b[0m\u001b[37m\u001b[0m \u001b[1m124s\u001b[0m 28ms/step - accuracy: 0.8977 - f1_m: 0.9001 - loss: 0.2913 - precision_m: 0.9384 - recall_m: 0.8654 - val_accuracy: 0.9006 - val_f1_m: 0.9016 - val_loss: 0.2765 - val_precision_m: 0.9475 - val_recall_m: 0.8606\n",
      "Epoch 6/30\n",
      "\u001b[1m4471/4471\u001b[0m \u001b[32m━━━━━━━━━━━━━━━━━━━━\u001b[0m\u001b[37m\u001b[0m \u001b[1m126s\u001b[0m 28ms/step - accuracy: 0.8986 - f1_m: 0.9012 - loss: 0.2871 - precision_m: 0.9394 - recall_m: 0.8665 - val_accuracy: 0.9004 - val_f1_m: 0.9034 - val_loss: 0.2749 - val_precision_m: 0.9417 - val_recall_m: 0.8686\n",
      "Epoch 7/30\n",
      "\u001b[1m4471/4471\u001b[0m \u001b[32m━━━━━━━━━━━━━━━━━━━━\u001b[0m\u001b[37m\u001b[0m \u001b[1m124s\u001b[0m 28ms/step - accuracy: 0.8983 - f1_m: 0.9010 - loss: 0.2856 - precision_m: 0.9395 - recall_m: 0.8662 - val_accuracy: 0.9016 - val_f1_m: 0.9048 - val_loss: 0.2706 - val_precision_m: 0.9395 - val_recall_m: 0.8731\n",
      "Epoch 8/30\n",
      "\u001b[1m4471/4471\u001b[0m \u001b[32m━━━━━━━━━━━━━━━━━━━━\u001b[0m\u001b[37m\u001b[0m \u001b[1m132s\u001b[0m 29ms/step - accuracy: 0.8999 - f1_m: 0.9026 - loss: 0.2826 - precision_m: 0.9397 - recall_m: 0.8689 - val_accuracy: 0.9019 - val_f1_m: 0.9053 - val_loss: 0.2724 - val_precision_m: 0.9391 - val_recall_m: 0.8742\n",
      "Epoch 9/30\n",
      "\u001b[1m4471/4471\u001b[0m \u001b[32m━━━━━━━━━━━━━━━━━━━━\u001b[0m\u001b[37m\u001b[0m \u001b[1m134s\u001b[0m 30ms/step - accuracy: 0.9004 - f1_m: 0.9031 - loss: 0.2797 - precision_m: 0.9401 - recall_m: 0.8695 - val_accuracy: 0.9022 - val_f1_m: 0.9053 - val_loss: 0.2716 - val_precision_m: 0.9400 - val_recall_m: 0.8736\n",
      "Epoch 10/30\n",
      "\u001b[1m4471/4471\u001b[0m \u001b[32m━━━━━━━━━━━━━━━━━━━━\u001b[0m\u001b[37m\u001b[0m \u001b[1m136s\u001b[0m 31ms/step - accuracy: 0.9004 - f1_m: 0.9034 - loss: 0.2782 - precision_m: 0.9393 - recall_m: 0.8707 - val_accuracy: 0.9020 - val_f1_m: 0.9050 - val_loss: 0.2725 - val_precision_m: 0.9409 - val_recall_m: 0.8723\n",
      "Epoch 11/30\n",
      "\u001b[1m4471/4471\u001b[0m \u001b[32m━━━━━━━━━━━━━━━━━━━━\u001b[0m\u001b[37m\u001b[0m \u001b[1m136s\u001b[0m 30ms/step - accuracy: 0.9014 - f1_m: 0.9043 - loss: 0.2759 - precision_m: 0.9403 - recall_m: 0.8715 - val_accuracy: 0.9034 - val_f1_m: 0.9064 - val_loss: 0.2676 - val_precision_m: 0.9383 - val_recall_m: 0.8772\n",
      "Epoch 12/30\n",
      "\u001b[1m4471/4471\u001b[0m \u001b[32m━━━━━━━━━━━━━━━━━━━━\u001b[0m\u001b[37m\u001b[0m \u001b[1m135s\u001b[0m 30ms/step - accuracy: 0.9020 - f1_m: 0.9051 - loss: 0.2731 - precision_m: 0.9410 - recall_m: 0.8725 - val_accuracy: 0.9008 - val_f1_m: 0.9041 - val_loss: 0.2745 - val_precision_m: 0.9378 - val_recall_m: 0.8733\n",
      "Epoch 13/30\n",
      "\u001b[1m4471/4471\u001b[0m \u001b[32m━━━━━━━━━━━━━━━━━━━━\u001b[0m\u001b[37m\u001b[0m \u001b[1m137s\u001b[0m 31ms/step - accuracy: 0.9021 - f1_m: 0.9050 - loss: 0.2748 - precision_m: 0.9418 - recall_m: 0.8715 - val_accuracy: 0.9046 - val_f1_m: 0.9071 - val_loss: 0.2650 - val_precision_m: 0.9457 - val_recall_m: 0.8720\n",
      "Epoch 14/30\n",
      "\u001b[1m4471/4471\u001b[0m \u001b[32m━━━━━━━━━━━━━━━━━━━━\u001b[0m\u001b[37m\u001b[0m \u001b[1m140s\u001b[0m 31ms/step - accuracy: 0.9027 - f1_m: 0.9046 - loss: 0.2735 - precision_m: 0.9410 - recall_m: 0.8715 - val_accuracy: 0.9037 - val_f1_m: 0.9062 - val_loss: 0.2655 - val_precision_m: 0.9472 - val_recall_m: 0.8692\n",
      "Epoch 15/30\n",
      "\u001b[1m4471/4471\u001b[0m \u001b[32m━━━━━━━━━━━━━━━━━━━━\u001b[0m\u001b[37m\u001b[0m \u001b[1m143s\u001b[0m 32ms/step - accuracy: 0.9027 - f1_m: 0.9055 - loss: 0.2705 - precision_m: 0.9417 - recall_m: 0.8726 - val_accuracy: 0.9044 - val_f1_m: 0.9074 - val_loss: 0.2647 - val_precision_m: 0.9419 - val_recall_m: 0.8758\n",
      "Epoch 16/30\n",
      "\u001b[1m4471/4471\u001b[0m \u001b[32m━━━━━━━━━━━━━━━━━━━━\u001b[0m\u001b[37m\u001b[0m \u001b[1m145s\u001b[0m 32ms/step - accuracy: 0.9036 - f1_m: 0.9059 - loss: 0.2690 - precision_m: 0.9419 - recall_m: 0.8731 - val_accuracy: 0.9032 - val_f1_m: 0.9068 - val_loss: 0.2653 - val_precision_m: 0.9405 - val_recall_m: 0.8759\n",
      "Epoch 17/30\n",
      "\u001b[1m4471/4471\u001b[0m \u001b[32m━━━━━━━━━━━━━━━━━━━━\u001b[0m\u001b[37m\u001b[0m \u001b[1m149s\u001b[0m 33ms/step - accuracy: 0.9026 - f1_m: 0.9053 - loss: 0.2707 - precision_m: 0.9414 - recall_m: 0.8723 - val_accuracy: 0.9049 - val_f1_m: 0.9071 - val_loss: 0.2642 - val_precision_m: 0.9462 - val_recall_m: 0.8716\n",
      "Epoch 18/30\n",
      "\u001b[1m4471/4471\u001b[0m \u001b[32m━━━━━━━━━━━━━━━━━━━━\u001b[0m\u001b[37m\u001b[0m \u001b[1m158s\u001b[0m 35ms/step - accuracy: 0.9028 - f1_m: 0.9057 - loss: 0.2687 - precision_m: 0.9417 - recall_m: 0.8728 - val_accuracy: 0.9046 - val_f1_m: 0.9076 - val_loss: 0.2627 - val_precision_m: 0.9441 - val_recall_m: 0.8744\n",
      "Epoch 19/30\n",
      "\u001b[1m4471/4471\u001b[0m \u001b[32m━━━━━━━━━━━━━━━━━━━━\u001b[0m\u001b[37m\u001b[0m \u001b[1m223s\u001b[0m 50ms/step - accuracy: 0.9040 - f1_m: 0.9067 - loss: 0.2668 - precision_m: 0.9419 - recall_m: 0.8746 - val_accuracy: 0.9044 - val_f1_m: 0.9073 - val_loss: 0.2640 - val_precision_m: 0.9444 - val_recall_m: 0.8736\n",
      "Epoch 20/30\n",
      "\u001b[1m4471/4471\u001b[0m \u001b[32m━━━━━━━━━━━━━━━━━━━━\u001b[0m\u001b[37m\u001b[0m \u001b[1m294s\u001b[0m 66ms/step - accuracy: 0.9042 - f1_m: 0.9069 - loss: 0.2662 - precision_m: 0.9413 - recall_m: 0.8754 - val_accuracy: 0.9053 - val_f1_m: 0.9065 - val_loss: 0.2654 - val_precision_m: 0.9492 - val_recall_m: 0.8681\n",
      "Epoch 21/30\n",
      "\u001b[1m4471/4471\u001b[0m \u001b[32m━━━━━━━━━━━━━━━━━━━━\u001b[0m\u001b[37m\u001b[0m \u001b[1m308s\u001b[0m 69ms/step - accuracy: 0.9037 - f1_m: 0.9060 - loss: 0.2662 - precision_m: 0.9421 - recall_m: 0.8731 - val_accuracy: 0.9051 - val_f1_m: 0.9079 - val_loss: 0.2632 - val_precision_m: 0.9407 - val_recall_m: 0.8778\n",
      "Epoch 22/30\n",
      "\u001b[1m4471/4471\u001b[0m \u001b[32m━━━━━━━━━━━━━━━━━━━━\u001b[0m\u001b[37m\u001b[0m \u001b[1m327s\u001b[0m 73ms/step - accuracy: 0.9037 - f1_m: 0.9060 - loss: 0.2676 - precision_m: 0.9418 - recall_m: 0.8735 - val_accuracy: 0.9054 - val_f1_m: 0.9085 - val_loss: 0.2612 - val_precision_m: 0.9455 - val_recall_m: 0.8748\n",
      "Epoch 23/30\n",
      "\u001b[1m4471/4471\u001b[0m \u001b[32m━━━━━━━━━━━━━━━━━━━━\u001b[0m\u001b[37m\u001b[0m \u001b[1m341s\u001b[0m 76ms/step - accuracy: 0.9049 - f1_m: 0.9072 - loss: 0.2642 - precision_m: 0.9419 - recall_m: 0.8755 - val_accuracy: 0.9057 - val_f1_m: 0.9080 - val_loss: 0.2626 - val_precision_m: 0.9450 - val_recall_m: 0.8743\n",
      "Epoch 24/30\n",
      "\u001b[1m4471/4471\u001b[0m \u001b[32m━━━━━━━━━━━━━━━━━━━━\u001b[0m\u001b[37m\u001b[0m \u001b[1m344s\u001b[0m 77ms/step - accuracy: 0.9047 - f1_m: 0.9072 - loss: 0.2643 - precision_m: 0.9427 - recall_m: 0.8748 - val_accuracy: 0.9054 - val_f1_m: 0.9082 - val_loss: 0.2630 - val_precision_m: 0.9448 - val_recall_m: 0.8748\n",
      "Epoch 25/30\n",
      "\u001b[1m4471/4471\u001b[0m \u001b[32m━━━━━━━━━━━━━━━━━━━━\u001b[0m\u001b[37m\u001b[0m \u001b[1m390s\u001b[0m 79ms/step - accuracy: 0.9040 - f1_m: 0.9071 - loss: 0.2644 - precision_m: 0.9426 - recall_m: 0.8747 - val_accuracy: 0.9044 - val_f1_m: 0.9078 - val_loss: 0.2680 - val_precision_m: 0.9419 - val_recall_m: 0.8767\n",
      "Epoch 26/30\n",
      "\u001b[1m4471/4471\u001b[0m \u001b[32m━━━━━━━━━━━━━━━━━━━━\u001b[0m\u001b[37m\u001b[0m \u001b[1m360s\u001b[0m 80ms/step - accuracy: 0.9042 - f1_m: 0.9064 - loss: 0.2661 - precision_m: 0.9421 - recall_m: 0.8738 - val_accuracy: 0.9050 - val_f1_m: 0.9069 - val_loss: 0.2630 - val_precision_m: 0.9467 - val_recall_m: 0.8708\n",
      "Epoch 27/30\n",
      "\u001b[1m4471/4471\u001b[0m \u001b[32m━━━━━━━━━━━━━━━━━━━━\u001b[0m\u001b[37m\u001b[0m \u001b[1m370s\u001b[0m 83ms/step - accuracy: 0.9049 - f1_m: 0.9072 - loss: 0.2641 - precision_m: 0.9426 - recall_m: 0.8749 - val_accuracy: 0.9055 - val_f1_m: 0.9082 - val_loss: 0.2617 - val_precision_m: 0.9430 - val_recall_m: 0.8765\n",
      "Epoch 28/30\n",
      "\u001b[1m4471/4471\u001b[0m \u001b[32m━━━━━━━━━━━━━━━━━━━━\u001b[0m\u001b[37m\u001b[0m \u001b[1m380s\u001b[0m 85ms/step - accuracy: 0.9048 - f1_m: 0.9073 - loss: 0.2635 - precision_m: 0.9424 - recall_m: 0.8752 - val_accuracy: 0.9061 - val_f1_m: 0.9090 - val_loss: 0.2605 - val_precision_m: 0.9448 - val_recall_m: 0.8763\n",
      "Epoch 29/30\n",
      "\u001b[1m4471/4471\u001b[0m \u001b[32m━━━━━━━━━━━━━━━━━━━━\u001b[0m\u001b[37m\u001b[0m \u001b[1m413s\u001b[0m 92ms/step - accuracy: 0.9049 - f1_m: 0.9071 - loss: 0.2626 - precision_m: 0.9419 - recall_m: 0.8754 - val_accuracy: 0.9062 - val_f1_m: 0.9091 - val_loss: 0.2597 - val_precision_m: 0.9425 - val_recall_m: 0.8784\n",
      "Epoch 30/30\n",
      "\u001b[1m4471/4471\u001b[0m \u001b[32m━━━━━━━━━━━━━━━━━━━━\u001b[0m\u001b[37m\u001b[0m \u001b[1m11178s\u001b[0m 3s/step - accuracy: 0.9067 - f1_m: 0.9092 - loss: 0.2581 - precision_m: 0.9434 - recall_m: 0.8778 - val_accuracy: 0.9070 - val_f1_m: 0.9092 - val_loss: 0.2595 - val_precision_m: 0.9453 - val_recall_m: 0.8763\n",
      "\u001b[1m3832/3832\u001b[0m \u001b[32m━━━━━━━━━━━━━━━━━━━━\u001b[0m\u001b[37m\u001b[0m \u001b[1m53s\u001b[0m 14ms/step\n",
      "Weighted F1 Score: 0.9001082897061802\n"
     ]
    }
   ],
   "source": [
    "import numpy as np\n",
    "import tensorflow as tf\n",
    "from tensorflow.keras.models import Sequential\n",
    "from tensorflow.keras.layers import Dense, Conv2D, BatchNormalization, MaxPooling2D, Dropout, GlobalMaxPooling2D\n",
    "from tensorflow.keras.optimizers import Adam\n",
    "from tensorflow.keras.callbacks import EarlyStopping, ReduceLROnPlateau\n",
    "from tensorflow.keras.utils import to_categorical\n",
    "from tensorflow.keras import backend as K\n",
    "from sklearn.metrics import f1_score\n",
    "\n",
    "# Define precision metric\n",
    "def precision_m(y_true, y_pred):\n",
    "    true_positives = K.sum(K.round(K.clip(y_true * y_pred, 0, 1)))\n",
    "    predicted_positives = K.sum(K.round(K.clip(y_pred, 0, 1)))\n",
    "    precision = true_positives / (predicted_positives + K.epsilon())\n",
    "    return precision\n",
    "\n",
    "# Define recall metric\n",
    "def recall_m(y_true, y_pred):\n",
    "    true_positives = K.sum(K.round(K.clip(y_true * y_pred, 0, 1)))\n",
    "    possible_positives = K.sum(K.round(K.clip(y_true, 0, 1)))\n",
    "    recall = true_positives / (possible_positives + K.epsilon())\n",
    "    return recall\n",
    "\n",
    "# Define f1 score metric\n",
    "def f1_m(y_true, y_pred):\n",
    "    precision = precision_m(y_true, y_pred)\n",
    "    recall = recall_m(y_true, y_pred)\n",
    "    return 2 * ((precision * recall) / (precision + recall + K.epsilon()))\n",
    "\n",
    "\n",
    "\n",
    "\n",
    "# Check unique labels\n",
    "unique_labels_train = np.unique(y_train)\n",
    "unique_labels_test = np.unique(y_test)\n",
    "print(\"Unique labels in y_train:\", unique_labels_train)\n",
    "print(\"Unique labels in y_test:\", unique_labels_test)\n",
    "\n",
    "# Find the maximum label value\n",
    "max_label_value = max(unique_labels_train.max(), unique_labels_test.max())\n",
    "print(\"Max label value:\", max_label_value)\n",
    "\n",
    "# Set num_classes to the maximum label value plus one\n",
    "num_classes = int(max_label_value + 1)\n",
    "print(\"Number of classes:\", num_classes)\n",
    "\n",
    "# One-hot encode the target labels\n",
    "y_train_one_hot = to_categorical(y_train, num_classes=num_classes)\n",
    "y_test_one_hot = to_categorical(y_test, num_classes=num_classes)\n",
    "\n",
    "print(\"Shape of y_train_one_hot:\", y_train_one_hot.shape)\n",
    "print(\"Shape of y_test_one_hot:\", y_test_one_hot.shape)\n",
    "\n",
    "# Define the input shape of the data\n",
    "input_shape = (6, 6, 1)  \n",
    "\n",
    "# Build the model\n",
    "model = Sequential([\n",
    "    Conv2D(64, (3, 3), activation='relu', input_shape=input_shape, padding='same'),\n",
    "    BatchNormalization(),\n",
    "    Conv2D(64, (3, 3), activation='relu', padding='same'),\n",
    "    BatchNormalization(),\n",
    "    MaxPooling2D(pool_size=(2, 2)),\n",
    "    Dropout(0.3),\n",
    "\n",
    "    Conv2D(128, (3, 3), activation='relu', padding='same'),\n",
    "    BatchNormalization(),\n",
    "    Conv2D(128, (3, 3), activation='relu', padding='same'),\n",
    "    BatchNormalization(),\n",
    "    MaxPooling2D(pool_size=(2, 2)),\n",
    "    Dropout(0.3),\n",
    "\n",
    "    GlobalMaxPooling2D(),\n",
    "\n",
    "    Dense(512, activation='relu'),\n",
    "    Dropout(0.4),\n",
    "    Dense(num_classes, activation='softmax')  # Number of classes\n",
    "])\n",
    "# Print the shapes to understand the mismatch\n",
    "print(f\"x_train shape: {x_train.shape}\")\n",
    "print(f\"y_train_one_hot shape: {y_train_one_hot.shape}\")\n",
    "print(f\"x_test shape: {x_test.shape}\")\n",
    "print(f\"y_test_one_hot shape: {y_test_one_hot.shape}\")\n",
    "\n",
    "# Assuming x_test is larger by one sample, we truncate it\n",
    "if x_test.shape[0] > y_test_one_hot.shape[0]:\n",
    "    x_test = x_test[:y_test_one_hot.shape[0]]\n",
    "\n",
    "# Verify the shapes again\n",
    "print(f\"Adjusted x_test shape: {x_test.shape}\")\n",
    "print(f\"y_test_one_hot shape: {y_test_one_hot.shape}\")\n",
    "\n",
    "\n",
    "\n",
    "# Compile the model with custom metrics\n",
    "optimizer = Adam(learning_rate=0.001)\n",
    "model.compile(optimizer=optimizer,\n",
    "              loss='categorical_crossentropy',\n",
    "              metrics=['accuracy', precision_m, recall_m, f1_m])\n",
    "\n",
    "# Callbacks\n",
    "early_stopping = EarlyStopping(monitor='val_loss', patience=10, restore_best_weights=True)\n",
    "\n",
    "\n",
    "# Train the model\n",
    "history=model.fit(x_train, y_train_one_hot,\n",
    "          validation_data=(x_test, y_test_one_hot),\n",
    "          epochs=30,\n",
    "          batch_size=64,\n",
    "          callbacks=[early_stopping])\n",
    "\n",
    "# Predict on the test set\n",
    "y_pred_prob = model.predict(x_test)\n",
    "y_pred = np.argmax(y_pred_prob, axis=1)\n",
    "y_true = np.argmax(y_test_one_hot, axis=1)\n",
    "\n",
    "# Calculate the weighted F1 score\n",
    "weighted_f1 = f1_score(y_true, y_pred, average='weighted')\n",
    "print(\"Weighted F1 Score:\", weighted_f1)\n",
    "\n"
   ]
  },
  {
   "cell_type": "code",
   "execution_count": 20,
   "id": "5UKZDb6hyCEj",
   "metadata": {
    "colab": {
     "base_uri": "https://localhost:8080/"
    },
    "id": "5UKZDb6hyCEj",
    "outputId": "8c99ae42-e3e6-4413-94a5-92b6c4d927cc",
    "scrolled": true
   },
   "outputs": [
    {
     "name": "stderr",
     "output_type": "stream",
     "text": [
      "WARNING:absl:You are saving your model as an HDF5 file via `model.save()` or `keras.saving.save_model(model)`. This file format is considered legacy. We recommend using instead the native Keras format, e.g. `model.save('my_model.keras')` or `keras.saving.save_model(model, 'my_model.keras')`. \n"
     ]
    }
   ],
   "source": [
    "model.save('model_HAR.h5')"
   ]
  },
  {
   "cell_type": "code",
   "execution_count": 21,
   "id": "iygt6-_K44qW",
   "metadata": {
    "colab": {
     "base_uri": "https://localhost:8080/"
    },
    "id": "iygt6-_K44qW",
    "outputId": "f23d0bf4-b7af-4543-8619-a272c85dd2a3"
   },
   "outputs": [
    {
     "name": "stderr",
     "output_type": "stream",
     "text": [
      "WARNING:absl:Compiled the loaded model, but the compiled metrics have yet to be built. `model.compile_metrics` will be empty until you train or evaluate the model.\n"
     ]
    },
    {
     "data": {
      "text/html": [
       "<pre style=\"white-space:pre;overflow-x:auto;line-height:normal;font-family:Menlo,'DejaVu Sans Mono',consolas,'Courier New',monospace\"><span style=\"font-weight: bold\">Model: \"sequential\"</span>\n",
       "</pre>\n"
      ],
      "text/plain": [
       "\u001b[1mModel: \"sequential\"\u001b[0m\n"
      ]
     },
     "metadata": {},
     "output_type": "display_data"
    },
    {
     "data": {
      "text/html": [
       "<pre style=\"white-space:pre;overflow-x:auto;line-height:normal;font-family:Menlo,'DejaVu Sans Mono',consolas,'Courier New',monospace\">┏━━━━━━━━━━━━━━━━━━━━━━━━━━━━━━━━━━━━━━┳━━━━━━━━━━━━━━━━━━━━━━━━━━━━━┳━━━━━━━━━━━━━━━━━┓\n",
       "┃<span style=\"font-weight: bold\"> Layer (type)                         </span>┃<span style=\"font-weight: bold\"> Output Shape                </span>┃<span style=\"font-weight: bold\">         Param # </span>┃\n",
       "┡━━━━━━━━━━━━━━━━━━━━━━━━━━━━━━━━━━━━━━╇━━━━━━━━━━━━━━━━━━━━━━━━━━━━━╇━━━━━━━━━━━━━━━━━┩\n",
       "│ conv2d (<span style=\"color: #0087ff; text-decoration-color: #0087ff\">Conv2D</span>)                      │ (<span style=\"color: #00d7ff; text-decoration-color: #00d7ff\">None</span>, <span style=\"color: #00af00; text-decoration-color: #00af00\">6</span>, <span style=\"color: #00af00; text-decoration-color: #00af00\">6</span>, <span style=\"color: #00af00; text-decoration-color: #00af00\">64</span>)            │             <span style=\"color: #00af00; text-decoration-color: #00af00\">640</span> │\n",
       "├──────────────────────────────────────┼─────────────────────────────┼─────────────────┤\n",
       "│ batch_normalization                  │ (<span style=\"color: #00d7ff; text-decoration-color: #00d7ff\">None</span>, <span style=\"color: #00af00; text-decoration-color: #00af00\">6</span>, <span style=\"color: #00af00; text-decoration-color: #00af00\">6</span>, <span style=\"color: #00af00; text-decoration-color: #00af00\">64</span>)            │             <span style=\"color: #00af00; text-decoration-color: #00af00\">256</span> │\n",
       "│ (<span style=\"color: #0087ff; text-decoration-color: #0087ff\">BatchNormalization</span>)                 │                             │                 │\n",
       "├──────────────────────────────────────┼─────────────────────────────┼─────────────────┤\n",
       "│ conv2d_1 (<span style=\"color: #0087ff; text-decoration-color: #0087ff\">Conv2D</span>)                    │ (<span style=\"color: #00d7ff; text-decoration-color: #00d7ff\">None</span>, <span style=\"color: #00af00; text-decoration-color: #00af00\">6</span>, <span style=\"color: #00af00; text-decoration-color: #00af00\">6</span>, <span style=\"color: #00af00; text-decoration-color: #00af00\">64</span>)            │          <span style=\"color: #00af00; text-decoration-color: #00af00\">36,928</span> │\n",
       "├──────────────────────────────────────┼─────────────────────────────┼─────────────────┤\n",
       "│ batch_normalization_1                │ (<span style=\"color: #00d7ff; text-decoration-color: #00d7ff\">None</span>, <span style=\"color: #00af00; text-decoration-color: #00af00\">6</span>, <span style=\"color: #00af00; text-decoration-color: #00af00\">6</span>, <span style=\"color: #00af00; text-decoration-color: #00af00\">64</span>)            │             <span style=\"color: #00af00; text-decoration-color: #00af00\">256</span> │\n",
       "│ (<span style=\"color: #0087ff; text-decoration-color: #0087ff\">BatchNormalization</span>)                 │                             │                 │\n",
       "├──────────────────────────────────────┼─────────────────────────────┼─────────────────┤\n",
       "│ max_pooling2d (<span style=\"color: #0087ff; text-decoration-color: #0087ff\">MaxPooling2D</span>)         │ (<span style=\"color: #00d7ff; text-decoration-color: #00d7ff\">None</span>, <span style=\"color: #00af00; text-decoration-color: #00af00\">3</span>, <span style=\"color: #00af00; text-decoration-color: #00af00\">3</span>, <span style=\"color: #00af00; text-decoration-color: #00af00\">64</span>)            │               <span style=\"color: #00af00; text-decoration-color: #00af00\">0</span> │\n",
       "├──────────────────────────────────────┼─────────────────────────────┼─────────────────┤\n",
       "│ dropout (<span style=\"color: #0087ff; text-decoration-color: #0087ff\">Dropout</span>)                    │ (<span style=\"color: #00d7ff; text-decoration-color: #00d7ff\">None</span>, <span style=\"color: #00af00; text-decoration-color: #00af00\">3</span>, <span style=\"color: #00af00; text-decoration-color: #00af00\">3</span>, <span style=\"color: #00af00; text-decoration-color: #00af00\">64</span>)            │               <span style=\"color: #00af00; text-decoration-color: #00af00\">0</span> │\n",
       "├──────────────────────────────────────┼─────────────────────────────┼─────────────────┤\n",
       "│ conv2d_2 (<span style=\"color: #0087ff; text-decoration-color: #0087ff\">Conv2D</span>)                    │ (<span style=\"color: #00d7ff; text-decoration-color: #00d7ff\">None</span>, <span style=\"color: #00af00; text-decoration-color: #00af00\">3</span>, <span style=\"color: #00af00; text-decoration-color: #00af00\">3</span>, <span style=\"color: #00af00; text-decoration-color: #00af00\">128</span>)           │          <span style=\"color: #00af00; text-decoration-color: #00af00\">73,856</span> │\n",
       "├──────────────────────────────────────┼─────────────────────────────┼─────────────────┤\n",
       "│ batch_normalization_2                │ (<span style=\"color: #00d7ff; text-decoration-color: #00d7ff\">None</span>, <span style=\"color: #00af00; text-decoration-color: #00af00\">3</span>, <span style=\"color: #00af00; text-decoration-color: #00af00\">3</span>, <span style=\"color: #00af00; text-decoration-color: #00af00\">128</span>)           │             <span style=\"color: #00af00; text-decoration-color: #00af00\">512</span> │\n",
       "│ (<span style=\"color: #0087ff; text-decoration-color: #0087ff\">BatchNormalization</span>)                 │                             │                 │\n",
       "├──────────────────────────────────────┼─────────────────────────────┼─────────────────┤\n",
       "│ conv2d_3 (<span style=\"color: #0087ff; text-decoration-color: #0087ff\">Conv2D</span>)                    │ (<span style=\"color: #00d7ff; text-decoration-color: #00d7ff\">None</span>, <span style=\"color: #00af00; text-decoration-color: #00af00\">3</span>, <span style=\"color: #00af00; text-decoration-color: #00af00\">3</span>, <span style=\"color: #00af00; text-decoration-color: #00af00\">128</span>)           │         <span style=\"color: #00af00; text-decoration-color: #00af00\">147,584</span> │\n",
       "├──────────────────────────────────────┼─────────────────────────────┼─────────────────┤\n",
       "│ batch_normalization_3                │ (<span style=\"color: #00d7ff; text-decoration-color: #00d7ff\">None</span>, <span style=\"color: #00af00; text-decoration-color: #00af00\">3</span>, <span style=\"color: #00af00; text-decoration-color: #00af00\">3</span>, <span style=\"color: #00af00; text-decoration-color: #00af00\">128</span>)           │             <span style=\"color: #00af00; text-decoration-color: #00af00\">512</span> │\n",
       "│ (<span style=\"color: #0087ff; text-decoration-color: #0087ff\">BatchNormalization</span>)                 │                             │                 │\n",
       "├──────────────────────────────────────┼─────────────────────────────┼─────────────────┤\n",
       "│ max_pooling2d_1 (<span style=\"color: #0087ff; text-decoration-color: #0087ff\">MaxPooling2D</span>)       │ (<span style=\"color: #00d7ff; text-decoration-color: #00d7ff\">None</span>, <span style=\"color: #00af00; text-decoration-color: #00af00\">1</span>, <span style=\"color: #00af00; text-decoration-color: #00af00\">1</span>, <span style=\"color: #00af00; text-decoration-color: #00af00\">128</span>)           │               <span style=\"color: #00af00; text-decoration-color: #00af00\">0</span> │\n",
       "├──────────────────────────────────────┼─────────────────────────────┼─────────────────┤\n",
       "│ dropout_1 (<span style=\"color: #0087ff; text-decoration-color: #0087ff\">Dropout</span>)                  │ (<span style=\"color: #00d7ff; text-decoration-color: #00d7ff\">None</span>, <span style=\"color: #00af00; text-decoration-color: #00af00\">1</span>, <span style=\"color: #00af00; text-decoration-color: #00af00\">1</span>, <span style=\"color: #00af00; text-decoration-color: #00af00\">128</span>)           │               <span style=\"color: #00af00; text-decoration-color: #00af00\">0</span> │\n",
       "├──────────────────────────────────────┼─────────────────────────────┼─────────────────┤\n",
       "│ global_max_pooling2d                 │ (<span style=\"color: #00d7ff; text-decoration-color: #00d7ff\">None</span>, <span style=\"color: #00af00; text-decoration-color: #00af00\">128</span>)                 │               <span style=\"color: #00af00; text-decoration-color: #00af00\">0</span> │\n",
       "│ (<span style=\"color: #0087ff; text-decoration-color: #0087ff\">GlobalMaxPooling2D</span>)                 │                             │                 │\n",
       "├──────────────────────────────────────┼─────────────────────────────┼─────────────────┤\n",
       "│ dense (<span style=\"color: #0087ff; text-decoration-color: #0087ff\">Dense</span>)                        │ (<span style=\"color: #00d7ff; text-decoration-color: #00d7ff\">None</span>, <span style=\"color: #00af00; text-decoration-color: #00af00\">512</span>)                 │          <span style=\"color: #00af00; text-decoration-color: #00af00\">66,048</span> │\n",
       "├──────────────────────────────────────┼─────────────────────────────┼─────────────────┤\n",
       "│ dropout_2 (<span style=\"color: #0087ff; text-decoration-color: #0087ff\">Dropout</span>)                  │ (<span style=\"color: #00d7ff; text-decoration-color: #00d7ff\">None</span>, <span style=\"color: #00af00; text-decoration-color: #00af00\">512</span>)                 │               <span style=\"color: #00af00; text-decoration-color: #00af00\">0</span> │\n",
       "├──────────────────────────────────────┼─────────────────────────────┼─────────────────┤\n",
       "│ dense_1 (<span style=\"color: #0087ff; text-decoration-color: #0087ff\">Dense</span>)                      │ (<span style=\"color: #00d7ff; text-decoration-color: #00d7ff\">None</span>, <span style=\"color: #00af00; text-decoration-color: #00af00\">131</span>)                 │          <span style=\"color: #00af00; text-decoration-color: #00af00\">67,203</span> │\n",
       "└──────────────────────────────────────┴─────────────────────────────┴─────────────────┘\n",
       "</pre>\n"
      ],
      "text/plain": [
       "┏━━━━━━━━━━━━━━━━━━━━━━━━━━━━━━━━━━━━━━┳━━━━━━━━━━━━━━━━━━━━━━━━━━━━━┳━━━━━━━━━━━━━━━━━┓\n",
       "┃\u001b[1m \u001b[0m\u001b[1mLayer (type)                        \u001b[0m\u001b[1m \u001b[0m┃\u001b[1m \u001b[0m\u001b[1mOutput Shape               \u001b[0m\u001b[1m \u001b[0m┃\u001b[1m \u001b[0m\u001b[1m        Param #\u001b[0m\u001b[1m \u001b[0m┃\n",
       "┡━━━━━━━━━━━━━━━━━━━━━━━━━━━━━━━━━━━━━━╇━━━━━━━━━━━━━━━━━━━━━━━━━━━━━╇━━━━━━━━━━━━━━━━━┩\n",
       "│ conv2d (\u001b[38;5;33mConv2D\u001b[0m)                      │ (\u001b[38;5;45mNone\u001b[0m, \u001b[38;5;34m6\u001b[0m, \u001b[38;5;34m6\u001b[0m, \u001b[38;5;34m64\u001b[0m)            │             \u001b[38;5;34m640\u001b[0m │\n",
       "├──────────────────────────────────────┼─────────────────────────────┼─────────────────┤\n",
       "│ batch_normalization                  │ (\u001b[38;5;45mNone\u001b[0m, \u001b[38;5;34m6\u001b[0m, \u001b[38;5;34m6\u001b[0m, \u001b[38;5;34m64\u001b[0m)            │             \u001b[38;5;34m256\u001b[0m │\n",
       "│ (\u001b[38;5;33mBatchNormalization\u001b[0m)                 │                             │                 │\n",
       "├──────────────────────────────────────┼─────────────────────────────┼─────────────────┤\n",
       "│ conv2d_1 (\u001b[38;5;33mConv2D\u001b[0m)                    │ (\u001b[38;5;45mNone\u001b[0m, \u001b[38;5;34m6\u001b[0m, \u001b[38;5;34m6\u001b[0m, \u001b[38;5;34m64\u001b[0m)            │          \u001b[38;5;34m36,928\u001b[0m │\n",
       "├──────────────────────────────────────┼─────────────────────────────┼─────────────────┤\n",
       "│ batch_normalization_1                │ (\u001b[38;5;45mNone\u001b[0m, \u001b[38;5;34m6\u001b[0m, \u001b[38;5;34m6\u001b[0m, \u001b[38;5;34m64\u001b[0m)            │             \u001b[38;5;34m256\u001b[0m │\n",
       "│ (\u001b[38;5;33mBatchNormalization\u001b[0m)                 │                             │                 │\n",
       "├──────────────────────────────────────┼─────────────────────────────┼─────────────────┤\n",
       "│ max_pooling2d (\u001b[38;5;33mMaxPooling2D\u001b[0m)         │ (\u001b[38;5;45mNone\u001b[0m, \u001b[38;5;34m3\u001b[0m, \u001b[38;5;34m3\u001b[0m, \u001b[38;5;34m64\u001b[0m)            │               \u001b[38;5;34m0\u001b[0m │\n",
       "├──────────────────────────────────────┼─────────────────────────────┼─────────────────┤\n",
       "│ dropout (\u001b[38;5;33mDropout\u001b[0m)                    │ (\u001b[38;5;45mNone\u001b[0m, \u001b[38;5;34m3\u001b[0m, \u001b[38;5;34m3\u001b[0m, \u001b[38;5;34m64\u001b[0m)            │               \u001b[38;5;34m0\u001b[0m │\n",
       "├──────────────────────────────────────┼─────────────────────────────┼─────────────────┤\n",
       "│ conv2d_2 (\u001b[38;5;33mConv2D\u001b[0m)                    │ (\u001b[38;5;45mNone\u001b[0m, \u001b[38;5;34m3\u001b[0m, \u001b[38;5;34m3\u001b[0m, \u001b[38;5;34m128\u001b[0m)           │          \u001b[38;5;34m73,856\u001b[0m │\n",
       "├──────────────────────────────────────┼─────────────────────────────┼─────────────────┤\n",
       "│ batch_normalization_2                │ (\u001b[38;5;45mNone\u001b[0m, \u001b[38;5;34m3\u001b[0m, \u001b[38;5;34m3\u001b[0m, \u001b[38;5;34m128\u001b[0m)           │             \u001b[38;5;34m512\u001b[0m │\n",
       "│ (\u001b[38;5;33mBatchNormalization\u001b[0m)                 │                             │                 │\n",
       "├──────────────────────────────────────┼─────────────────────────────┼─────────────────┤\n",
       "│ conv2d_3 (\u001b[38;5;33mConv2D\u001b[0m)                    │ (\u001b[38;5;45mNone\u001b[0m, \u001b[38;5;34m3\u001b[0m, \u001b[38;5;34m3\u001b[0m, \u001b[38;5;34m128\u001b[0m)           │         \u001b[38;5;34m147,584\u001b[0m │\n",
       "├──────────────────────────────────────┼─────────────────────────────┼─────────────────┤\n",
       "│ batch_normalization_3                │ (\u001b[38;5;45mNone\u001b[0m, \u001b[38;5;34m3\u001b[0m, \u001b[38;5;34m3\u001b[0m, \u001b[38;5;34m128\u001b[0m)           │             \u001b[38;5;34m512\u001b[0m │\n",
       "│ (\u001b[38;5;33mBatchNormalization\u001b[0m)                 │                             │                 │\n",
       "├──────────────────────────────────────┼─────────────────────────────┼─────────────────┤\n",
       "│ max_pooling2d_1 (\u001b[38;5;33mMaxPooling2D\u001b[0m)       │ (\u001b[38;5;45mNone\u001b[0m, \u001b[38;5;34m1\u001b[0m, \u001b[38;5;34m1\u001b[0m, \u001b[38;5;34m128\u001b[0m)           │               \u001b[38;5;34m0\u001b[0m │\n",
       "├──────────────────────────────────────┼─────────────────────────────┼─────────────────┤\n",
       "│ dropout_1 (\u001b[38;5;33mDropout\u001b[0m)                  │ (\u001b[38;5;45mNone\u001b[0m, \u001b[38;5;34m1\u001b[0m, \u001b[38;5;34m1\u001b[0m, \u001b[38;5;34m128\u001b[0m)           │               \u001b[38;5;34m0\u001b[0m │\n",
       "├──────────────────────────────────────┼─────────────────────────────┼─────────────────┤\n",
       "│ global_max_pooling2d                 │ (\u001b[38;5;45mNone\u001b[0m, \u001b[38;5;34m128\u001b[0m)                 │               \u001b[38;5;34m0\u001b[0m │\n",
       "│ (\u001b[38;5;33mGlobalMaxPooling2D\u001b[0m)                 │                             │                 │\n",
       "├──────────────────────────────────────┼─────────────────────────────┼─────────────────┤\n",
       "│ dense (\u001b[38;5;33mDense\u001b[0m)                        │ (\u001b[38;5;45mNone\u001b[0m, \u001b[38;5;34m512\u001b[0m)                 │          \u001b[38;5;34m66,048\u001b[0m │\n",
       "├──────────────────────────────────────┼─────────────────────────────┼─────────────────┤\n",
       "│ dropout_2 (\u001b[38;5;33mDropout\u001b[0m)                  │ (\u001b[38;5;45mNone\u001b[0m, \u001b[38;5;34m512\u001b[0m)                 │               \u001b[38;5;34m0\u001b[0m │\n",
       "├──────────────────────────────────────┼─────────────────────────────┼─────────────────┤\n",
       "│ dense_1 (\u001b[38;5;33mDense\u001b[0m)                      │ (\u001b[38;5;45mNone\u001b[0m, \u001b[38;5;34m131\u001b[0m)                 │          \u001b[38;5;34m67,203\u001b[0m │\n",
       "└──────────────────────────────────────┴─────────────────────────────┴─────────────────┘\n"
      ]
     },
     "metadata": {},
     "output_type": "display_data"
    },
    {
     "data": {
      "text/html": [
       "<pre style=\"white-space:pre;overflow-x:auto;line-height:normal;font-family:Menlo,'DejaVu Sans Mono',consolas,'Courier New',monospace\"><span style=\"font-weight: bold\"> Total params: </span><span style=\"color: #00af00; text-decoration-color: #00af00\">393,797</span> (1.50 MB)\n",
       "</pre>\n"
      ],
      "text/plain": [
       "\u001b[1m Total params: \u001b[0m\u001b[38;5;34m393,797\u001b[0m (1.50 MB)\n"
      ]
     },
     "metadata": {},
     "output_type": "display_data"
    },
    {
     "data": {
      "text/html": [
       "<pre style=\"white-space:pre;overflow-x:auto;line-height:normal;font-family:Menlo,'DejaVu Sans Mono',consolas,'Courier New',monospace\"><span style=\"font-weight: bold\"> Trainable params: </span><span style=\"color: #00af00; text-decoration-color: #00af00\">393,027</span> (1.50 MB)\n",
       "</pre>\n"
      ],
      "text/plain": [
       "\u001b[1m Trainable params: \u001b[0m\u001b[38;5;34m393,027\u001b[0m (1.50 MB)\n"
      ]
     },
     "metadata": {},
     "output_type": "display_data"
    },
    {
     "data": {
      "text/html": [
       "<pre style=\"white-space:pre;overflow-x:auto;line-height:normal;font-family:Menlo,'DejaVu Sans Mono',consolas,'Courier New',monospace\"><span style=\"font-weight: bold\"> Non-trainable params: </span><span style=\"color: #00af00; text-decoration-color: #00af00\">768</span> (3.00 KB)\n",
       "</pre>\n"
      ],
      "text/plain": [
       "\u001b[1m Non-trainable params: \u001b[0m\u001b[38;5;34m768\u001b[0m (3.00 KB)\n"
      ]
     },
     "metadata": {},
     "output_type": "display_data"
    },
    {
     "data": {
      "text/html": [
       "<pre style=\"white-space:pre;overflow-x:auto;line-height:normal;font-family:Menlo,'DejaVu Sans Mono',consolas,'Courier New',monospace\"><span style=\"font-weight: bold\"> Optimizer params: </span><span style=\"color: #00af00; text-decoration-color: #00af00\">2</span> (12.00 B)\n",
       "</pre>\n"
      ],
      "text/plain": [
       "\u001b[1m Optimizer params: \u001b[0m\u001b[38;5;34m2\u001b[0m (12.00 B)\n"
      ]
     },
     "metadata": {},
     "output_type": "display_data"
    }
   ],
   "source": [
    "from tensorflow.keras.models import load_model\n",
    "\n",
    "# Load the model from the .h5 file\n",
    "model_HAR_loaded = load_model('model_HAR.h5', custom_objects={'f1_m': f1_m, 'precision_m': precision_m, 'recall_m': recall_m})\n",
    "\n",
    "# Print the summary of the loaded model to verify\n",
    "model_HAR_loaded.summary()\n",
    "\n"
   ]
  },
  {
   "cell_type": "code",
   "execution_count": 22,
   "id": "lUs9qlkOo4p4",
   "metadata": {
    "id": "lUs9qlkOo4p4"
   },
   "outputs": [],
   "source": [
    "import json\n",
    "\n",
    "# Convert the NumPy arrays to lists\n",
    "history_dict = {key: [float(val) for val in values] for key, values in history.history.items()}\n",
    "\n",
    "# Save the history as JSON\n",
    "with open('model_history.json', 'w') as f:\n",
    "    json.dump(history_dict, f)\n",
    "\n"
   ]
  },
  {
   "cell_type": "code",
   "execution_count": 23,
   "id": "bgakGv3cpcuC",
   "metadata": {
    "colab": {
     "base_uri": "https://localhost:8080/"
    },
    "id": "bgakGv3cpcuC",
    "outputId": "c16f206e-6058-4283-b32e-21aacb0cbdd7"
   },
   "outputs": [
    {
     "name": "stdout",
     "output_type": "stream",
     "text": [
      "{'accuracy': array([0.88214797, 0.89235079, 0.89514709, 0.89690173, 0.89788741,\n",
      "       0.89846414, 0.89927506, 0.89992869, 0.90028524, 0.90063822,\n",
      "       0.90119749, 0.90105766, 0.9017148 , 0.90207833, 0.90212727,\n",
      "       0.90272146, 0.90280187, 0.9030745 , 0.90339255, 0.90347993,\n",
      "       0.90365821, 0.90386093, 0.90410215, 0.90457052, 0.90385747,\n",
      "       0.90478373, 0.90465438, 0.90507734, 0.90480471, 0.90530103]), 'f1_m': array([0.88578069, 0.89447457, 0.89711308, 0.89920729, 0.90017325,\n",
      "       0.90132946, 0.90180188, 0.90252495, 0.90295362, 0.90319365,\n",
      "       0.90419823, 0.90406233, 0.90463436, 0.90444744, 0.90485352,\n",
      "       0.90542424, 0.90551192, 0.90559393, 0.90587789, 0.90597659,\n",
      "       0.90602767, 0.90647006, 0.90672702, 0.90687203, 0.90686321,\n",
      "       0.9067539 , 0.9072215 , 0.90732116, 0.90706301, 0.90760648]), 'loss': array([0.35032433, 0.31286466, 0.30165154, 0.29460767, 0.29027501,\n",
      "       0.287025  , 0.28431118, 0.2817058 , 0.28016341, 0.27819711,\n",
      "       0.27658641, 0.27562237, 0.27492809, 0.27365816, 0.27239364,\n",
      "       0.27103299, 0.2704677 , 0.26906034, 0.2689577 , 0.26859143,\n",
      "       0.26746154, 0.26686519, 0.26649663, 0.26534986, 0.26521316,\n",
      "       0.26492929, 0.26450676, 0.26346058, 0.26329762, 0.26264632]), 'precision_m': array([0.93287581, 0.93655127, 0.93706226, 0.93815243, 0.93872428,\n",
      "       0.93944252, 0.93977135, 0.93988222, 0.9401859 , 0.93959838,\n",
      "       0.9403798 , 0.94063544, 0.94136858, 0.94098216, 0.94123924,\n",
      "       0.94169563, 0.9417209 , 0.94149113, 0.94170547, 0.94134718,\n",
      "       0.94205242, 0.94219571, 0.94188863, 0.94227308, 0.94268215,\n",
      "       0.94218481, 0.94296283, 0.94249225, 0.94233519, 0.94274682]), 'recall_m': array([0.84411347, 0.85667354, 0.86105245, 0.8639636 , 0.86524266,\n",
      "       0.86678034, 0.86737448, 0.86859065, 0.86910087, 0.87005496,\n",
      "       0.87124318, 0.8707574 , 0.87119424, 0.8711977 , 0.87172192,\n",
      "       0.87238246, 0.87252569, 0.87285775, 0.87322116, 0.87369299,\n",
      "       0.8731932 , 0.87389565, 0.87462956, 0.87455618, 0.87419271,\n",
      "       0.87441635, 0.87460512, 0.87518519, 0.8748672 , 0.87550324]), 'val_accuracy': array([0.8945381 , 0.89816743, 0.89850181, 0.8996191 , 0.90058148,\n",
      "       0.90043467, 0.90157652, 0.90191907, 0.90218002, 0.90197611,\n",
      "       0.9034034 , 0.90083432, 0.90456969, 0.90374595, 0.90435761,\n",
      "       0.90320766, 0.90487957, 0.90463489, 0.90443099, 0.90534449,\n",
      "       0.90514874, 0.90540153, 0.9056707 , 0.90541786, 0.90438211,\n",
      "       0.904953  , 0.90549123, 0.90611923, 0.90615189, 0.90695113]), 'val_f1_m': array([0.89680392, 0.90132004, 0.90068358, 0.90212655, 0.90164143,\n",
      "       0.90339059, 0.90480846, 0.90525031, 0.90533394, 0.90500349,\n",
      "       0.90644294, 0.90413839, 0.90706664, 0.90618682, 0.9073931 ,\n",
      "       0.90676409, 0.90707797, 0.90762186, 0.90733695, 0.90653276,\n",
      "       0.90786225, 0.90847409, 0.90798438, 0.90815854, 0.90784371,\n",
      "       0.90687156, 0.90824825, 0.90897554, 0.90906632, 0.90921468]), 'val_loss': array([0.30689207, 0.28808227, 0.28471348, 0.28099963, 0.27653113,\n",
      "       0.27489552, 0.27063948, 0.2724016 , 0.27157006, 0.27249253,\n",
      "       0.26761004, 0.27452537, 0.26495379, 0.26546544, 0.26473382,\n",
      "       0.2652837 , 0.26420826, 0.26266679, 0.26400506, 0.26543716,\n",
      "       0.26318642, 0.26124287, 0.26262841, 0.26300129, 0.26800215,\n",
      "       0.26304549, 0.26168123, 0.26045096, 0.25969642, 0.25953659]), 'val_precision_m': array([0.93598461, 0.93460989, 0.94065595, 0.94377655, 0.94750476,\n",
      "       0.94170165, 0.93953478, 0.9391309 , 0.94003749, 0.9408589 ,\n",
      "       0.9382689 , 0.93779904, 0.9457317 , 0.94716728, 0.94188195,\n",
      "       0.94047344, 0.94623154, 0.94414467, 0.94438398, 0.94920617,\n",
      "       0.94065326, 0.94551206, 0.94504952, 0.94482368, 0.9418847 ,\n",
      "       0.9467479 , 0.94297713, 0.94476593, 0.94249052, 0.94533151]), 'val_recall_m': array([0.86133838, 0.87080801, 0.86452222, 0.86460376, 0.86063874,\n",
      "       0.86864692, 0.87306869, 0.8742494 , 0.87362319, 0.87229395,\n",
      "       0.87717062, 0.87329698, 0.8720085 , 0.86921775, 0.87583321,\n",
      "       0.87587225, 0.87163341, 0.8743636 , 0.87364769, 0.86814946,\n",
      "       0.87778229, 0.87476492, 0.87427562, 0.87477309, 0.87666667,\n",
      "       0.87078524, 0.87648559, 0.87632251, 0.87842649, 0.8762899 ])}\n"
     ]
    }
   ],
   "source": [
    "import json\n",
    "\n",
    "# Load the history from the JSON file\n",
    "with open('model_history.json', 'r') as f:\n",
    "    history = json.load(f)\n",
    "\n",
    "# Optionally, convert lists back to NumPy arrays (if needed)\n",
    "import numpy as np\n",
    "history = {key: np.array(values) for key, values in history.items()}\n",
    "\n",
    "# Now you can use the history dictionary\n",
    "print(history)"
   ]
  },
  {
   "cell_type": "code",
   "execution_count": null,
   "id": "S6nh26KUpgEK",
   "metadata": {
    "id": "S6nh26KUpgEK"
   },
   "outputs": [],
   "source": []
  },
  {
   "cell_type": "code",
   "execution_count": 24,
   "id": "UWzxwUiD7_6j",
   "metadata": {
    "colab": {
     "base_uri": "https://localhost:8080/",
     "height": 1000
    },
    "id": "UWzxwUiD7_6j",
    "outputId": "8e0610c5-bc8f-4cd0-b27d-4e4df27ada3c"
   },
   "outputs": [
    {
     "name": "stdout",
     "output_type": "stream",
     "text": [
      "\u001b[1m3832/3832\u001b[0m \u001b[32m━━━━━━━━━━━━━━━━━━━━\u001b[0m\u001b[37m\u001b[0m \u001b[1m56s\u001b[0m 14ms/step\n",
      "Confusion Matrix (in percentages):\n",
      "[[7.065e+01 5.580e+00 2.900e-01 4.200e-01 1.282e+01 1.000e-01 5.000e-02\n",
      "  8.880e+00 2.600e-01 9.600e-01]\n",
      " [3.295e+01 2.329e+01 3.000e-02 1.300e-01 3.779e+01 8.000e-02 0.000e+00\n",
      "  3.720e+00 0.000e+00 2.010e+00]\n",
      " [4.862e+01 5.530e+00 1.037e+01 0.000e+00 3.690e+00 0.000e+00 0.000e+00\n",
      "  2.512e+01 0.000e+00 6.680e+00]\n",
      " [7.223e+01 3.340e+00 0.000e+00 6.470e+00 2.710e+00 2.100e-01 0.000e+00\n",
      "  1.503e+01 0.000e+00 0.000e+00]\n",
      " [4.190e+00 1.620e+00 1.000e-02 0.000e+00 9.288e+01 4.400e-01 0.000e+00\n",
      "  4.300e-01 2.000e-02 4.100e-01]\n",
      " [5.000e-02 2.000e-02 0.000e+00 0.000e+00 1.300e-01 9.951e+01 1.000e-02\n",
      "  2.200e-01 0.000e+00 6.000e-02]\n",
      " [2.800e-01 3.000e-02 0.000e+00 0.000e+00 3.000e-02 5.000e-02 9.933e+01\n",
      "  2.100e-01 5.000e-02 3.000e-02]\n",
      " [6.870e+00 7.700e-01 1.200e-01 1.300e-01 1.130e+00 1.900e-01 1.000e-02\n",
      "  8.007e+01 1.010e+00 9.700e+00]\n",
      " [1.341e+01 1.540e+00 1.100e-01 0.000e+00 2.200e+00 0.000e+00 1.100e-01\n",
      "  5.011e+01 1.681e+01 1.571e+01]\n",
      " [4.520e+00 1.290e+00 1.200e-01 3.000e-02 9.700e-01 5.300e-01 6.000e-02\n",
      "  3.707e+01 8.800e-01 5.452e+01]]\n",
      "Overall Accuracy: 90.70%\n"
     ]
    },
    {
     "data": {
      "text/plain": [
       "<sklearn.metrics._plot.confusion_matrix.ConfusionMatrixDisplay at 0x193b3f8df40>"
      ]
     },
     "execution_count": 24,
     "metadata": {},
     "output_type": "execute_result"
    },
    {
     "data": {
      "text/plain": [
       "Text(0.5, 1.0, 'Confusion Matrix in Percentage')"
      ]
     },
     "execution_count": 24,
     "metadata": {},
     "output_type": "execute_result"
    },
    {
     "data": {
      "text/plain": [
       "Text(0.5, 0, 'Predicted Label')"
      ]
     },
     "execution_count": 24,
     "metadata": {},
     "output_type": "execute_result"
    },
    {
     "data": {
      "text/plain": [
       "Text(0, 0.5, 'True Label')"
      ]
     },
     "execution_count": 24,
     "metadata": {},
     "output_type": "execute_result"
    },
    {
     "data": {
      "image/png": "[encoded data removed]",
      "text/plain": [
       "<Figure size 1000x1000 with 2 Axes>"
      ]
     },
     "metadata": {},
     "output_type": "display_data"
    }
   ],
   "source": [
    "import numpy as np\n",
    "from sklearn.metrics import confusion_matrix, ConfusionMatrixDisplay\n",
    "import matplotlib.pyplot as plt\n",
    "\n",
    "# Assuming model_CNN is already trained and x_test, y_test_one_hot are available\n",
    "\n",
    "# Predict the labels for the test set\n",
    "y_pred = model_HAR_loaded.predict(x_test)\n",
    "\n",
    "# Convert one-hot encoded labels to class labels\n",
    "y_test_labels = y_test_one_hot.argmax(axis=1)\n",
    "y_pred_labels = y_pred.argmax(axis=1)\n",
    "\n",
    "# Compute the confusion matrix\n",
    "cm = confusion_matrix(y_test_labels, y_pred_labels)\n",
    "\n",
    "# Calculate overall accuracy\n",
    "accuracy = np.trace(cm) / np.sum(cm)\n",
    "\n",
    "# Normalize the confusion matrix by row (true classes)\n",
    "cm_normalized = cm.astype('float') / cm.sum(axis=1)[:, np.newaxis]\n",
    "\n",
    "# Convert to percentages\n",
    "cm_percent = cm_normalized * 100\n",
    "\n",
    "# Print the confusion matrix in percentages\n",
    "print(\"Confusion Matrix (in percentages):\")\n",
    "print(np.around(cm_percent, decimals=2))\n",
    "\n",
    "# Print overall accuracy\n",
    "print(f\"Overall Accuracy: {accuracy * 100:.2f}%\")\n",
    "\n",
    "# Plot the confusion matrix\n",
    "fig, ax = plt.subplots(figsize=(10, 10))\n",
    "disp = ConfusionMatrixDisplay(confusion_matrix=cm_percent, display_labels=np.unique(y_test_labels))\n",
    "disp.plot(cmap=plt.cm.Blues, ax=ax, values_format=\".2f\")\n",
    "plt.title('Confusion Matrix in Percentage')\n",
    "plt.xlabel('Predicted Label')\n",
    "plt.ylabel('True Label')\n",
    "plt.grid(False)\n",
    "plt.show()\n",
    "\n"
   ]
  },
  {
   "cell_type": "code",
   "execution_count": 26,
   "id": "dz81UOs8_58r",
   "metadata": {
    "colab": {
     "base_uri": "https://localhost:8080/",
     "height": 655
    },
    "id": "dz81UOs8_58r",
    "outputId": "b77c5043-ea77-4072-83a5-d41f8b1c6a76"
   },
   "outputs": [
    {
     "data": {
      "text/plain": [
       "<Figure size 1000x500 with 0 Axes>"
      ]
     },
     "execution_count": 26,
     "metadata": {},
     "output_type": "execute_result"
    },
    {
     "data": {
      "text/plain": [
       "[<matplotlib.lines.Line2D at 0x193b69b1ca0>]"
      ]
     },
     "execution_count": 26,
     "metadata": {},
     "output_type": "execute_result"
    },
    {
     "data": {
      "text/plain": [
       "[<matplotlib.lines.Line2D at 0x193b8317c20>]"
      ]
     },
     "execution_count": 26,
     "metadata": {},
     "output_type": "execute_result"
    },
    {
     "data": {
      "text/plain": [
       "Text(0.5, 0, 'Epochs')"
      ]
     },
     "execution_count": 26,
     "metadata": {},
     "output_type": "execute_result"
    },
    {
     "data": {
      "text/plain": [
       "Text(0, 0.5, 'Loss')"
      ]
     },
     "execution_count": 26,
     "metadata": {},
     "output_type": "execute_result"
    },
    {
     "data": {
      "text/plain": [
       "Text(0.5, 1.0, 'Training and Validation Loss Curves')"
      ]
     },
     "execution_count": 26,
     "metadata": {},
     "output_type": "execute_result"
    },
    {
     "data": {
      "text/plain": [
       "<matplotlib.legend.Legend at 0x193b8316a80>"
      ]
     },
     "execution_count": 26,
     "metadata": {},
     "output_type": "execute_result"
    },
    {
     "data": {
      "image/png": "[encoded data removed]",
      "text/plain": [
       "<Figure size 1000x500 with 1 Axes>"
      ]
     },
     "metadata": {},
     "output_type": "display_data"
    }
   ],
   "source": [
    "import matplotlib.pyplot as plt\n",
    "\n",
    "# Extract training and validation loss from history\n",
    "train_losses = history['loss']\n",
    "val_losses = history['val_loss']\n",
    "epochs = range(1, len(train_losses) + 1)\n",
    "\n",
    "# Plotting train and test loss curves\n",
    "plt.figure(figsize=(10, 5))\n",
    "plt.plot(epochs, train_losses, label='Train Loss')\n",
    "plt.plot(epochs, val_losses, label='Validation Loss')\n",
    "plt.xlabel('Epochs')\n",
    "plt.ylabel('Loss')\n",
    "plt.title('Training and Validation Loss Curves')\n",
    "plt.legend()\n",
    "plt.grid(True)\n",
    "plt.show()\n",
    "\n"
   ]
  },
  {
   "cell_type": "code",
   "execution_count": 28,
   "id": "LSpvfbsw-uUi",
   "metadata": {
    "colab": {
     "base_uri": "https://localhost:8080/",
     "height": 986
    },
    "id": "LSpvfbsw-uUi",
    "outputId": "d41ffecd-2c45-4534-ea07-5ac7c8daaa6d"
   },
   "outputs": [
    {
     "data": {
      "text/plain": [
       "<Figure size 1200x600 with 0 Axes>"
      ]
     },
     "execution_count": 28,
     "metadata": {},
     "output_type": "execute_result"
    },
    {
     "data": {
      "text/plain": [
       "<BarContainer object of 10 artists>"
      ]
     },
     "execution_count": 28,
     "metadata": {},
     "output_type": "execute_result"
    },
    {
     "data": {
      "text/plain": [
       "<BarContainer object of 10 artists>"
      ]
     },
     "execution_count": 28,
     "metadata": {},
     "output_type": "execute_result"
    },
    {
     "data": {
      "text/plain": [
       "<BarContainer object of 10 artists>"
      ]
     },
     "execution_count": 28,
     "metadata": {},
     "output_type": "execute_result"
    },
    {
     "data": {
      "text/plain": [
       "<BarContainer object of 10 artists>"
      ]
     },
     "execution_count": 28,
     "metadata": {},
     "output_type": "execute_result"
    },
    {
     "data": {
      "text/plain": [
       "Text(0.5, 0, 'Class')"
      ]
     },
     "execution_count": 28,
     "metadata": {},
     "output_type": "execute_result"
    },
    {
     "data": {
      "text/plain": [
       "Text(0, 0.5, 'Scores')"
      ]
     },
     "execution_count": 28,
     "metadata": {},
     "output_type": "execute_result"
    },
    {
     "data": {
      "text/plain": [
       "Text(0.5, 1.0, 'Per-Class Metrics')"
      ]
     },
     "execution_count": 28,
     "metadata": {},
     "output_type": "execute_result"
    },
    {
     "data": {
      "text/plain": [
       "([<matplotlib.axis.XTick at 0x193b3f8cf50>,\n",
       "  <matplotlib.axis.XTick at 0x193b69d91c0>,\n",
       "  <matplotlib.axis.XTick at 0x193ef7ae3c0>,\n",
       "  <matplotlib.axis.XTick at 0x193ef816ba0>,\n",
       "  <matplotlib.axis.XTick at 0x193ef8174d0>,\n",
       "  <matplotlib.axis.XTick at 0x193ef817e90>,\n",
       "  <matplotlib.axis.XTick at 0x193ef840830>,\n",
       "  <matplotlib.axis.XTick at 0x193ef841160>,\n",
       "  <matplotlib.axis.XTick at 0x193ef816d50>,\n",
       "  <matplotlib.axis.XTick at 0x193ef8417f0>],\n",
       " [Text(0, 0, '1'),\n",
       "  Text(1, 0, '3'),\n",
       "  Text(2, 0, '4'),\n",
       "  Text(3, 0, '5'),\n",
       "  Text(4, 0, '6'),\n",
       "  Text(5, 0, '7'),\n",
       "  Text(6, 0, '8'),\n",
       "  Text(7, 0, '13'),\n",
       "  Text(8, 0, '14'),\n",
       "  Text(9, 0, '130')])"
      ]
     },
     "execution_count": 28,
     "metadata": {},
     "output_type": "execute_result"
    },
    {
     "data": {
      "text/plain": [
       "(0.0, 1.0)"
      ]
     },
     "execution_count": 28,
     "metadata": {},
     "output_type": "execute_result"
    },
    {
     "data": {
      "text/plain": [
       "<matplotlib.legend.Legend at 0x193ef7d9a00>"
      ]
     },
     "execution_count": 28,
     "metadata": {},
     "output_type": "execute_result"
    },
    {
     "data": {
      "image/png": "[encoded data removed]",
      "text/plain": [
       "<Figure size 1200x600 with 1 Axes>"
      ]
     },
     "metadata": {},
     "output_type": "display_data"
    }
   ],
   "source": [
    "import numpy as np\n",
    "import matplotlib.pyplot as plt\n",
    "from sklearn.metrics import classification_report\n",
    "\n",
    "\n",
    "\n",
    "# Ensure class_names contains the correct unique classes\n",
    "class_names = np.unique(np.concatenate((y_test_labels, y_pred_labels)))\n",
    "\n",
    "# Compute classification report\n",
    "report = classification_report(y_test_labels, y_pred_labels, target_names=class_names, output_dict=True)\n",
    "\n",
    "# Extract metrics for each class\n",
    "per_class_precision = [report[class_name]['precision'] for class_name in class_names]\n",
    "per_class_recall = [report[class_name]['recall'] for class_name in class_names]\n",
    "per_class_f1 = [report[class_name]['f1-score'] for class_name in class_names]\n",
    "\n",
    "# Example calculation of per-class accuracy (replace with your actual calculation)\n",
    "per_class_accuracy = np.random.rand(len(class_names))  # Replace with actual accuracy calculation\n",
    "\n",
    "# Plotting per-class metrics\n",
    "plt.figure(figsize=(12, 6))\n",
    "\n",
    "bar_width = 0.2\n",
    "index = np.arange(len(class_names))\n",
    "\n",
    "plt.bar(index - 1.5 * bar_width, per_class_precision, width=bar_width, label='Precision')\n",
    "plt.bar(index - 0.5 * bar_width, per_class_recall, width=bar_width, label='Recall')\n",
    "plt.bar(index + 0.5 * bar_width, per_class_f1, width=bar_width, label='F1 Score')\n",
    "plt.bar(index + 1.5 * bar_width, per_class_accuracy, width=bar_width, label='Accuracy')\n",
    "\n",
    "plt.xlabel('Class')\n",
    "plt.ylabel('Scores')\n",
    "plt.title('Per-Class Metrics')\n",
    "plt.xticks(index, class_names, rotation=45)\n",
    "plt.ylim(0, 1)  # Assuming accuracy ranges from 0 to 1\n",
    "plt.legend()\n",
    "plt.tight_layout()\n",
    "plt.show()\n"
   ]
  },
  {
   "cell_type": "code",
   "execution_count": null,
   "id": "c1d90cd5-aeb2-4f7e-841b-c5c2f9585754",
   "metadata": {},
   "outputs": [],
   "source": []
  }
 ],
 "metadata": {
  "colab": {
   "provenance": []
  },
  "kernelspec": {
   "display_name": "Python 3 (ipykernel)",
   "language": "python",
   "name": "python3"
  },
  "language_info": {
   "codemirror_mode": {
    "name": "ipython",
    "version": 3
   },
   "file_extension": ".py",
   "mimetype": "text/x-python",
   "name": "python",
   "nbconvert_exporter": "python",
   "pygments_lexer": "ipython3",
   "version": "3.12.4"
  }
 },
 "nbformat": 4,
 "nbformat_minor": 5
}
