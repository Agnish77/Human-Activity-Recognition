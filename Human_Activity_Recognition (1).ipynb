{
  "cells": [
    {
      "cell_type": "code",
      "execution_count": null,
      "id": "c3ebbaf2-1389-43a4-8616-6a6030a89244",
      "metadata": {
        "id": "c3ebbaf2-1389-43a4-8616-6a6030a89244"
      },
      "outputs": [],
      "source": [
        "import pandas as pd\n",
        "import numpy as np\n",
        "import matplotlib.pyplot as plt\n",
        "%matplotlib inline"
      ]
    },
    {
      "cell_type": "code",
      "execution_count": null,
      "id": "e4d67458-e4ac-4d29-99e3-f3d64bef0642",
      "metadata": {
        "id": "e4d67458-e4ac-4d29-99e3-f3d64bef0642",
        "outputId": "156d66f0-33c6-48f5-8a1b-8eb761e07c67"
      },
      "outputs": [
        {
          "data": {
            "text/html": [
              "<div>\n",
              "<style scoped>\n",
              "    .dataframe tbody tr th:only-of-type {\n",
              "        vertical-align: middle;\n",
              "    }\n",
              "\n",
              "    .dataframe tbody tr th {\n",
              "        vertical-align: top;\n",
              "    }\n",
              "\n",
              "    .dataframe thead th {\n",
              "        text-align: right;\n",
              "    }\n",
              "</style>\n",
              "<table border=\"1\" class=\"dataframe\">\n",
              "  <thead>\n",
              "    <tr style=\"text-align: right;\">\n",
              "      <th></th>\n",
              "      <th>alx</th>\n",
              "      <th>aly</th>\n",
              "      <th>alz</th>\n",
              "      <th>glx</th>\n",
              "      <th>gly</th>\n",
              "      <th>glz</th>\n",
              "      <th>arx</th>\n",
              "      <th>ary</th>\n",
              "      <th>arz</th>\n",
              "      <th>grx</th>\n",
              "      <th>gry</th>\n",
              "      <th>grz</th>\n",
              "      <th>Activity</th>\n",
              "      <th>subject</th>\n",
              "    </tr>\n",
              "  </thead>\n",
              "  <tbody>\n",
              "    <tr>\n",
              "      <th>0</th>\n",
              "      <td>2.1849</td>\n",
              "      <td>-9.6967</td>\n",
              "      <td>0.63077</td>\n",
              "      <td>0.103900</td>\n",
              "      <td>-0.84053</td>\n",
              "      <td>-0.68762</td>\n",
              "      <td>-8.6499</td>\n",
              "      <td>-4.5781</td>\n",
              "      <td>0.187760</td>\n",
              "      <td>-0.44902</td>\n",
              "      <td>-1.0103</td>\n",
              "      <td>0.034483</td>\n",
              "      <td>0</td>\n",
              "      <td>subject1</td>\n",
              "    </tr>\n",
              "    <tr>\n",
              "      <th>1</th>\n",
              "      <td>2.3876</td>\n",
              "      <td>-9.5080</td>\n",
              "      <td>0.68389</td>\n",
              "      <td>0.085343</td>\n",
              "      <td>-0.83865</td>\n",
              "      <td>-0.68369</td>\n",
              "      <td>-8.6275</td>\n",
              "      <td>-4.3198</td>\n",
              "      <td>0.023595</td>\n",
              "      <td>-0.44902</td>\n",
              "      <td>-1.0103</td>\n",
              "      <td>0.034483</td>\n",
              "      <td>0</td>\n",
              "      <td>subject1</td>\n",
              "    </tr>\n",
              "    <tr>\n",
              "      <th>2</th>\n",
              "      <td>2.4086</td>\n",
              "      <td>-9.5674</td>\n",
              "      <td>0.68113</td>\n",
              "      <td>0.085343</td>\n",
              "      <td>-0.83865</td>\n",
              "      <td>-0.68369</td>\n",
              "      <td>-8.5055</td>\n",
              "      <td>-4.2772</td>\n",
              "      <td>0.275720</td>\n",
              "      <td>-0.44902</td>\n",
              "      <td>-1.0103</td>\n",
              "      <td>0.034483</td>\n",
              "      <td>0</td>\n",
              "      <td>subject1</td>\n",
              "    </tr>\n",
              "    <tr>\n",
              "      <th>3</th>\n",
              "      <td>2.1814</td>\n",
              "      <td>-9.4301</td>\n",
              "      <td>0.55031</td>\n",
              "      <td>0.085343</td>\n",
              "      <td>-0.83865</td>\n",
              "      <td>-0.68369</td>\n",
              "      <td>-8.6279</td>\n",
              "      <td>-4.3163</td>\n",
              "      <td>0.367520</td>\n",
              "      <td>-0.45686</td>\n",
              "      <td>-1.0082</td>\n",
              "      <td>0.025862</td>\n",
              "      <td>0</td>\n",
              "      <td>subject1</td>\n",
              "    </tr>\n",
              "    <tr>\n",
              "      <th>4</th>\n",
              "      <td>2.4173</td>\n",
              "      <td>-9.3889</td>\n",
              "      <td>0.71098</td>\n",
              "      <td>0.085343</td>\n",
              "      <td>-0.83865</td>\n",
              "      <td>-0.68369</td>\n",
              "      <td>-8.7008</td>\n",
              "      <td>-4.1459</td>\n",
              "      <td>0.407290</td>\n",
              "      <td>-0.45686</td>\n",
              "      <td>-1.0082</td>\n",
              "      <td>0.025862</td>\n",
              "      <td>0</td>\n",
              "      <td>subject1</td>\n",
              "    </tr>\n",
              "  </tbody>\n",
              "</table>\n",
              "</div>"
            ],
            "text/plain": [
              "      alx     aly      alz       glx      gly      glz     arx     ary  \\\n",
              "0  2.1849 -9.6967  0.63077  0.103900 -0.84053 -0.68762 -8.6499 -4.5781   \n",
              "1  2.3876 -9.5080  0.68389  0.085343 -0.83865 -0.68369 -8.6275 -4.3198   \n",
              "2  2.4086 -9.5674  0.68113  0.085343 -0.83865 -0.68369 -8.5055 -4.2772   \n",
              "3  2.1814 -9.4301  0.55031  0.085343 -0.83865 -0.68369 -8.6279 -4.3163   \n",
              "4  2.4173 -9.3889  0.71098  0.085343 -0.83865 -0.68369 -8.7008 -4.1459   \n",
              "\n",
              "        arz      grx     gry       grz  Activity   subject  \n",
              "0  0.187760 -0.44902 -1.0103  0.034483         0  subject1  \n",
              "1  0.023595 -0.44902 -1.0103  0.034483         0  subject1  \n",
              "2  0.275720 -0.44902 -1.0103  0.034483         0  subject1  \n",
              "3  0.367520 -0.45686 -1.0082  0.025862         0  subject1  \n",
              "4  0.407290 -0.45686 -1.0082  0.025862         0  subject1  "
            ]
          },
          "execution_count": 2,
          "metadata": {},
          "output_type": "execute_result"
        }
      ],
      "source": [
        "df = pd.read_csv(\"mhealth_raw_data.csv\")\n",
        "df.head()"
      ]
    },
    {
      "cell_type": "code",
      "execution_count": null,
      "id": "8911a982-fd14-4136-9e67-1c4ec5273f61",
      "metadata": {
        "id": "8911a982-fd14-4136-9e67-1c4ec5273f61",
        "outputId": "f21d0812-08f7-4e76-cc33-abc30be767e7"
      },
      "outputs": [
        {
          "name": "stdout",
          "output_type": "stream",
          "text": [
            "Requirement already satisfied: pyts in c:\\users\\agnis\\downloads\\agnish\\lib\\site-packages (0.13.0)\n",
            "Requirement already satisfied: numpy>=1.22.4 in c:\\users\\agnis\\downloads\\agnish\\lib\\site-packages (from pyts) (1.26.4)\n",
            "Requirement already satisfied: scipy>=1.8.1 in c:\\users\\agnis\\downloads\\agnish\\lib\\site-packages (from pyts) (1.13.1)\n",
            "Requirement already satisfied: scikit-learn>=1.2.0 in c:\\users\\agnis\\downloads\\agnish\\lib\\site-packages (from pyts) (1.4.2)\n",
            "Requirement already satisfied: joblib>=1.1.1 in c:\\users\\agnis\\downloads\\agnish\\lib\\site-packages (from pyts) (1.4.2)\n",
            "Requirement already satisfied: numba>=0.55.2 in c:\\users\\agnis\\downloads\\agnish\\lib\\site-packages (from pyts) (0.59.1)\n",
            "Requirement already satisfied: llvmlite<0.43,>=0.42.0dev0 in c:\\users\\agnis\\downloads\\agnish\\lib\\site-packages (from numba>=0.55.2->pyts) (0.42.0)\n",
            "Requirement already satisfied: threadpoolctl>=2.0.0 in c:\\users\\agnis\\downloads\\agnish\\lib\\site-packages (from scikit-learn>=1.2.0->pyts) (2.2.0)\n"
          ]
        },
        {
          "name": "stderr",
          "output_type": "stream",
          "text": [
            "\n",
            "[notice] A new release of pip is available: 24.1.1 -> 24.1.2\n",
            "[notice] To update, run: python.exe -m pip install --upgrade pip\n"
          ]
        }
      ],
      "source": [
        "!pip install pyts\n",
        "\n",
        "from pyts.image import GramianAngularField\n"
      ]
    },
    {
      "cell_type": "markdown",
      "source": [
        "#DATASET PREPROCESSING START"
      ],
      "metadata": {
        "id": "qRjFLEYPDImV"
      },
      "id": "qRjFLEYPDImV"
    },
    {
      "cell_type": "code",
      "execution_count": null,
      "id": "c9a675fd-ce6d-4036-84ec-b5fbcf3334d5",
      "metadata": {
        "id": "c9a675fd-ce6d-4036-84ec-b5fbcf3334d5"
      },
      "outputs": [],
      "source": [
        "X = df.drop(['Activity', 'subject'], axis=1)\n",
        "y = df['Activity']\n"
      ]
    },
    {
      "cell_type": "code",
      "execution_count": null,
      "id": "0196b94f-5a28-4fe9-a93e-e4c384b269d2",
      "metadata": {
        "id": "0196b94f-5a28-4fe9-a93e-e4c384b269d2",
        "outputId": "58ec8ba9-4d8b-45e1-8930-945cb699cdd3"
      },
      "outputs": [
        {
          "data": {
            "text/plain": [
              "Activity\n",
              "0     872550\n",
              "1      30720\n",
              "2      30720\n",
              "3      30720\n",
              "4      30720\n",
              "9      30720\n",
              "10     30720\n",
              "11     30720\n",
              "5      30720\n",
              "7      29441\n",
              "8      29337\n",
              "6      28315\n",
              "12     10342\n",
              "Name: count, dtype: int64"
            ]
          },
          "execution_count": 5,
          "metadata": {},
          "output_type": "execute_result"
        }
      ],
      "source": [
        "unique_counts = y.value_counts()\n",
        "unique_counts"
      ]
    },
    {
      "cell_type": "code",
      "execution_count": null,
      "id": "7c96a9ed-3184-48bc-bab6-fae568d915e7",
      "metadata": {
        "id": "7c96a9ed-3184-48bc-bab6-fae568d915e7"
      },
      "outputs": [],
      "source": [
        "from sklearn.utils import resample"
      ]
    },
    {
      "cell_type": "code",
      "execution_count": null,
      "id": "84394400-9b10-410d-a626-019081f0f36d",
      "metadata": {
        "id": "84394400-9b10-410d-a626-019081f0f36d",
        "outputId": "03e7dd82-d4d1-4d28-b5ad-2f338bb51c40"
      },
      "outputs": [
        {
          "name": "stdout",
          "output_type": "stream",
          "text": [
            "Activity\n",
            "0     10342\n",
            "1     10342\n",
            "2     10342\n",
            "3     10342\n",
            "4     10342\n",
            "6     10342\n",
            "7     10342\n",
            "8     10342\n",
            "9     10342\n",
            "10    10342\n",
            "11    10342\n",
            "12    10342\n",
            "5     10342\n",
            "Name: count, dtype: int64\n"
          ]
        }
      ],
      "source": [
        "data = pd.concat([X, y], axis=1)\n",
        "\n",
        "# Get the minimum class count\n",
        "min_count = data['Activity'].value_counts().min()\n",
        "\n",
        "# Initialize an empty DataFrame for the balanced data\n",
        "balanced_data = pd.DataFrame()\n",
        "\n",
        "# Loop through each unique activity and resample the data\n",
        "for activity in data['Activity'].unique():\n",
        "    activity_data = data[data['Activity'] == activity]\n",
        "    activity_data_balanced = resample(activity_data,\n",
        "                                      replace=False,    # sample without replacement\n",
        "                                      n_samples=min_count,  # match the minority count\n",
        "                                      random_state=42)  # reproducible results\n",
        "    balanced_data = pd.concat([balanced_data, activity_data_balanced])\n",
        "\n",
        "# Separate the features and target again\n",
        "X_balanced = balanced_data.drop('Activity', axis=1)\n",
        "y_balanced = balanced_data['Activity']\n",
        "\n",
        "# Verify the balancing\n",
        "print(y_balanced.value_counts())"
      ]
    },
    {
      "cell_type": "code",
      "execution_count": null,
      "id": "96c5a1b0-26c7-47d6-b77c-95b05b0001d2",
      "metadata": {
        "id": "96c5a1b0-26c7-47d6-b77c-95b05b0001d2"
      },
      "outputs": [],
      "source": [
        "from sklearn.model_selection import train_test_split\n",
        "X_train, X_test, y_train, y_test = train_test_split(X_balanced, y_balanced, test_size = 0.30,random_state=42)"
      ]
    },
    {
      "cell_type": "code",
      "execution_count": null,
      "id": "419e79a2-859b-44c1-a40b-e63a3807a0c7",
      "metadata": {
        "id": "419e79a2-859b-44c1-a40b-e63a3807a0c7"
      },
      "outputs": [],
      "source": [
        "#not a part of dataset prepocessing\n",
        "import numpy as np\n",
        "import tensorflow as tf\n",
        "from tensorflow.keras.models import Sequential\n",
        "from tensorflow.keras.layers import Dense, Conv2D, BatchNormalization, MaxPooling2D, Dropout, GlobalMaxPooling2D\n",
        "from tensorflow.keras.optimizers import Adam\n",
        "from tensorflow.keras.callbacks import EarlyStopping, ReduceLROnPlateau\n",
        "from tensorflow.keras.utils import to_categorical\n",
        "from tensorflow.keras import backend as K\n",
        "from sklearn.metrics import f1_score\n",
        "\n",
        "# Define precision metric\n",
        "def precision_m(y_true, y_pred):\n",
        "    true_positives = K.sum(K.round(K.clip(y_true * y_pred, 0, 1)))\n",
        "    predicted_positives = K.sum(K.round(K.clip(y_pred, 0, 1)))\n",
        "    precision = true_positives / (predicted_positives + K.epsilon())\n",
        "    return precision\n",
        "\n",
        "# Define recall metric\n",
        "def recall_m(y_true, y_pred):\n",
        "    true_positives = K.sum(K.round(K.clip(y_true * y_pred, 0, 1)))\n",
        "    possible_positives = K.sum(K.round(K.clip(y_true, 0, 1)))\n",
        "    recall = true_positives / (possible_positives + K.epsilon())\n",
        "    return recall\n",
        "\n",
        "# Define f1 score metric\n",
        "def f1_m(y_true, y_pred):\n",
        "    precision = precision_m(y_true, y_pred)\n",
        "    recall = recall_m(y_true, y_pred)\n",
        "    return 2 * ((precision * recall) / (precision + recall + K.epsilon()))\n",
        "\n",
        "# Load and preprocess your data\n",
        "# Assuming x_train, y_train, x_test, y_test are your data and labels\n"
      ]
    },
    {
      "cell_type": "code",
      "execution_count": null,
      "id": "afdeebc6-01b5-438a-a19c-d1cabe4d656e",
      "metadata": {
        "id": "afdeebc6-01b5-438a-a19c-d1cabe4d656e"
      },
      "outputs": [],
      "source": [
        "gaf = GramianAngularField()"
      ]
    },
    {
      "cell_type": "code",
      "execution_count": null,
      "id": "8b279ac6-9946-430c-8800-c95f76806065",
      "metadata": {
        "id": "8b279ac6-9946-430c-8800-c95f76806065"
      },
      "outputs": [],
      "source": [
        "x_train = gaf.fit_transform(X_train)\n",
        "x_test= gaf.fit_transform(X_test)"
      ]
    },
    {
      "cell_type": "code",
      "execution_count": null,
      "id": "117ce98a-08b6-4226-9a55-ed5919410e61",
      "metadata": {
        "id": "117ce98a-08b6-4226-9a55-ed5919410e61",
        "outputId": "8f6eeadb-6bfd-4397-e6a8-4c77b460cd37"
      },
      "outputs": [
        {
          "data": {
            "text/plain": [
              "(94112, 12, 12)"
            ]
          },
          "execution_count": 12,
          "metadata": {},
          "output_type": "execute_result"
        }
      ],
      "source": [
        "x_train.shape"
      ]
    },
    {
      "cell_type": "code",
      "execution_count": null,
      "id": "dc959f12-0514-46bf-a9c4-4169cb0ac8d2",
      "metadata": {
        "id": "dc959f12-0514-46bf-a9c4-4169cb0ac8d2",
        "outputId": "bd271786-72d0-4579-dbe2-a2ffa1f744fb"
      },
      "outputs": [
        {
          "data": {
            "text/plain": [
              "(94112,)"
            ]
          },
          "execution_count": 13,
          "metadata": {},
          "output_type": "execute_result"
        }
      ],
      "source": [
        "y_train.shape"
      ]
    },
    {
      "cell_type": "code",
      "execution_count": null,
      "id": "cd7f1099-c825-403e-a398-f0514076b4fd",
      "metadata": {
        "id": "cd7f1099-c825-403e-a398-f0514076b4fd",
        "outputId": "40d6764f-dd95-4354-fbd1-83c7edef7870"
      },
      "outputs": [
        {
          "data": {
            "text/plain": [
              "832586     10\n",
              "1020810     0\n",
              "100969     11\n",
              "873615      3\n",
              "249946      0\n",
              "           ..\n",
              "525017     11\n",
              "1080424    12\n",
              "1201115    11\n",
              "740001      5\n",
              "377937     12\n",
              "Name: Activity, Length: 94112, dtype: int64"
            ]
          },
          "execution_count": 14,
          "metadata": {},
          "output_type": "execute_result"
        }
      ],
      "source": [
        "y_train"
      ]
    },
    {
      "cell_type": "code",
      "execution_count": null,
      "id": "68555934-6b6c-4446-8515-276410110611",
      "metadata": {
        "id": "68555934-6b6c-4446-8515-276410110611",
        "outputId": "4d4dc67a-1f31-4efc-d262-1a1968178335"
      },
      "outputs": [
        {
          "name": "stdout",
          "output_type": "stream",
          "text": [
            "Unique labels in y_train: [ 0  1  2  3  4  5  6  7  8  9 10 11 12]\n",
            "Unique labels in y_test: [ 0  1  2  3  4  5  6  7  8  9 10 11 12]\n",
            "Max label value: 12\n",
            "Number of classes: 13\n"
          ]
        }
      ],
      "source": [
        "# Check unique labels\n",
        "unique_labels_train = np.unique(y_train)\n",
        "unique_labels_test = np.unique(y_test)\n",
        "print(\"Unique labels in y_train:\", unique_labels_train)\n",
        "print(\"Unique labels in y_test:\", unique_labels_test)\n",
        "\n",
        "# Find the maximum label value\n",
        "max_label_value = max(unique_labels_train.max(), unique_labels_test.max())\n",
        "print(\"Max label value:\", max_label_value)\n",
        "\n",
        "# Set num_classes to the maximum label value plus one\n",
        "num_classes = int(max_label_value + 1)\n",
        "print(\"Number of classes:\", num_classes)\n"
      ]
    },
    {
      "cell_type": "markdown",
      "source": [
        "# DATAPREPROCESSING END"
      ],
      "metadata": {
        "id": "HHMpFjn7DaBL"
      },
      "id": "HHMpFjn7DaBL"
    },
    {
      "cell_type": "markdown",
      "source": [
        "MODEL ARCHITECTURE"
      ],
      "metadata": {
        "id": "RPjBUKCSDxl6"
      },
      "id": "RPjBUKCSDxl6"
    },
    {
      "cell_type": "code",
      "execution_count": null,
      "id": "52ccf58d-3950-4f0c-a047-a24e4f31c9a7",
      "metadata": {
        "id": "52ccf58d-3950-4f0c-a047-a24e4f31c9a7",
        "outputId": "3750b7f5-d7bb-4208-bbda-ba67c1d01b8f"
      },
      "outputs": [
        {
          "name": "stderr",
          "output_type": "stream",
          "text": [
            "C:\\Users\\agnis\\Downloads\\agnish\\Lib\\site-packages\\keras\\src\\layers\\convolutional\\base_conv.py:107: UserWarning: Do not pass an `input_shape`/`input_dim` argument to a layer. When using Sequential models, prefer using an `Input(shape)` object as the first layer in the model instead.\n",
            "  super().__init__(activity_regularizer=activity_regularizer, **kwargs)\n"
          ]
        },
        {
          "data": {
            "text/html": [
              "<pre style=\"white-space:pre;overflow-x:auto;line-height:normal;font-family:Menlo,'DejaVu Sans Mono',consolas,'Courier New',monospace\"><span style=\"font-weight: bold\">Model: \"sequential\"</span>\n",
              "</pre>\n"
            ],
            "text/plain": [
              "\u001b[1mModel: \"sequential\"\u001b[0m\n"
            ]
          },
          "metadata": {},
          "output_type": "display_data"
        },
        {
          "data": {
            "text/html": [
              "<pre style=\"white-space:pre;overflow-x:auto;line-height:normal;font-family:Menlo,'DejaVu Sans Mono',consolas,'Courier New',monospace\">┏━━━━━━━━━━━━━━━━━━━━━━━━━━━━━━━━━━━━━━┳━━━━━━━━━━━━━━━━━━━━━━━━━━━━━┳━━━━━━━━━━━━━━━━━┓\n",
              "┃<span style=\"font-weight: bold\"> Layer (type)                         </span>┃<span style=\"font-weight: bold\"> Output Shape                </span>┃<span style=\"font-weight: bold\">         Param # </span>┃\n",
              "┡━━━━━━━━━━━━━━━━━━━━━━━━━━━━━━━━━━━━━━╇━━━━━━━━━━━━━━━━━━━━━━━━━━━━━╇━━━━━━━━━━━━━━━━━┩\n",
              "│ conv2d (<span style=\"color: #0087ff; text-decoration-color: #0087ff\">Conv2D</span>)                      │ (<span style=\"color: #00d7ff; text-decoration-color: #00d7ff\">None</span>, <span style=\"color: #00af00; text-decoration-color: #00af00\">12</span>, <span style=\"color: #00af00; text-decoration-color: #00af00\">12</span>, <span style=\"color: #00af00; text-decoration-color: #00af00\">64</span>)          │             <span style=\"color: #00af00; text-decoration-color: #00af00\">640</span> │\n",
              "├──────────────────────────────────────┼─────────────────────────────┼─────────────────┤\n",
              "│ batch_normalization                  │ (<span style=\"color: #00d7ff; text-decoration-color: #00d7ff\">None</span>, <span style=\"color: #00af00; text-decoration-color: #00af00\">12</span>, <span style=\"color: #00af00; text-decoration-color: #00af00\">12</span>, <span style=\"color: #00af00; text-decoration-color: #00af00\">64</span>)          │             <span style=\"color: #00af00; text-decoration-color: #00af00\">256</span> │\n",
              "│ (<span style=\"color: #0087ff; text-decoration-color: #0087ff\">BatchNormalization</span>)                 │                             │                 │\n",
              "├──────────────────────────────────────┼─────────────────────────────┼─────────────────┤\n",
              "│ conv2d_1 (<span style=\"color: #0087ff; text-decoration-color: #0087ff\">Conv2D</span>)                    │ (<span style=\"color: #00d7ff; text-decoration-color: #00d7ff\">None</span>, <span style=\"color: #00af00; text-decoration-color: #00af00\">12</span>, <span style=\"color: #00af00; text-decoration-color: #00af00\">12</span>, <span style=\"color: #00af00; text-decoration-color: #00af00\">64</span>)          │          <span style=\"color: #00af00; text-decoration-color: #00af00\">36,928</span> │\n",
              "├──────────────────────────────────────┼─────────────────────────────┼─────────────────┤\n",
              "│ batch_normalization_1                │ (<span style=\"color: #00d7ff; text-decoration-color: #00d7ff\">None</span>, <span style=\"color: #00af00; text-decoration-color: #00af00\">12</span>, <span style=\"color: #00af00; text-decoration-color: #00af00\">12</span>, <span style=\"color: #00af00; text-decoration-color: #00af00\">64</span>)          │             <span style=\"color: #00af00; text-decoration-color: #00af00\">256</span> │\n",
              "│ (<span style=\"color: #0087ff; text-decoration-color: #0087ff\">BatchNormalization</span>)                 │                             │                 │\n",
              "├──────────────────────────────────────┼─────────────────────────────┼─────────────────┤\n",
              "│ max_pooling2d (<span style=\"color: #0087ff; text-decoration-color: #0087ff\">MaxPooling2D</span>)         │ (<span style=\"color: #00d7ff; text-decoration-color: #00d7ff\">None</span>, <span style=\"color: #00af00; text-decoration-color: #00af00\">6</span>, <span style=\"color: #00af00; text-decoration-color: #00af00\">6</span>, <span style=\"color: #00af00; text-decoration-color: #00af00\">64</span>)            │               <span style=\"color: #00af00; text-decoration-color: #00af00\">0</span> │\n",
              "├──────────────────────────────────────┼─────────────────────────────┼─────────────────┤\n",
              "│ dropout (<span style=\"color: #0087ff; text-decoration-color: #0087ff\">Dropout</span>)                    │ (<span style=\"color: #00d7ff; text-decoration-color: #00d7ff\">None</span>, <span style=\"color: #00af00; text-decoration-color: #00af00\">6</span>, <span style=\"color: #00af00; text-decoration-color: #00af00\">6</span>, <span style=\"color: #00af00; text-decoration-color: #00af00\">64</span>)            │               <span style=\"color: #00af00; text-decoration-color: #00af00\">0</span> │\n",
              "├──────────────────────────────────────┼─────────────────────────────┼─────────────────┤\n",
              "│ conv2d_2 (<span style=\"color: #0087ff; text-decoration-color: #0087ff\">Conv2D</span>)                    │ (<span style=\"color: #00d7ff; text-decoration-color: #00d7ff\">None</span>, <span style=\"color: #00af00; text-decoration-color: #00af00\">6</span>, <span style=\"color: #00af00; text-decoration-color: #00af00\">6</span>, <span style=\"color: #00af00; text-decoration-color: #00af00\">128</span>)           │          <span style=\"color: #00af00; text-decoration-color: #00af00\">73,856</span> │\n",
              "├──────────────────────────────────────┼─────────────────────────────┼─────────────────┤\n",
              "│ batch_normalization_2                │ (<span style=\"color: #00d7ff; text-decoration-color: #00d7ff\">None</span>, <span style=\"color: #00af00; text-decoration-color: #00af00\">6</span>, <span style=\"color: #00af00; text-decoration-color: #00af00\">6</span>, <span style=\"color: #00af00; text-decoration-color: #00af00\">128</span>)           │             <span style=\"color: #00af00; text-decoration-color: #00af00\">512</span> │\n",
              "│ (<span style=\"color: #0087ff; text-decoration-color: #0087ff\">BatchNormalization</span>)                 │                             │                 │\n",
              "├──────────────────────────────────────┼─────────────────────────────┼─────────────────┤\n",
              "│ conv2d_3 (<span style=\"color: #0087ff; text-decoration-color: #0087ff\">Conv2D</span>)                    │ (<span style=\"color: #00d7ff; text-decoration-color: #00d7ff\">None</span>, <span style=\"color: #00af00; text-decoration-color: #00af00\">6</span>, <span style=\"color: #00af00; text-decoration-color: #00af00\">6</span>, <span style=\"color: #00af00; text-decoration-color: #00af00\">128</span>)           │         <span style=\"color: #00af00; text-decoration-color: #00af00\">147,584</span> │\n",
              "├──────────────────────────────────────┼─────────────────────────────┼─────────────────┤\n",
              "│ batch_normalization_3                │ (<span style=\"color: #00d7ff; text-decoration-color: #00d7ff\">None</span>, <span style=\"color: #00af00; text-decoration-color: #00af00\">6</span>, <span style=\"color: #00af00; text-decoration-color: #00af00\">6</span>, <span style=\"color: #00af00; text-decoration-color: #00af00\">128</span>)           │             <span style=\"color: #00af00; text-decoration-color: #00af00\">512</span> │\n",
              "│ (<span style=\"color: #0087ff; text-decoration-color: #0087ff\">BatchNormalization</span>)                 │                             │                 │\n",
              "├──────────────────────────────────────┼─────────────────────────────┼─────────────────┤\n",
              "│ max_pooling2d_1 (<span style=\"color: #0087ff; text-decoration-color: #0087ff\">MaxPooling2D</span>)       │ (<span style=\"color: #00d7ff; text-decoration-color: #00d7ff\">None</span>, <span style=\"color: #00af00; text-decoration-color: #00af00\">3</span>, <span style=\"color: #00af00; text-decoration-color: #00af00\">3</span>, <span style=\"color: #00af00; text-decoration-color: #00af00\">128</span>)           │               <span style=\"color: #00af00; text-decoration-color: #00af00\">0</span> │\n",
              "├──────────────────────────────────────┼─────────────────────────────┼─────────────────┤\n",
              "│ global_max_pooling2d                 │ (<span style=\"color: #00d7ff; text-decoration-color: #00d7ff\">None</span>, <span style=\"color: #00af00; text-decoration-color: #00af00\">128</span>)                 │               <span style=\"color: #00af00; text-decoration-color: #00af00\">0</span> │\n",
              "│ (<span style=\"color: #0087ff; text-decoration-color: #0087ff\">GlobalMaxPooling2D</span>)                 │                             │                 │\n",
              "├──────────────────────────────────────┼─────────────────────────────┼─────────────────┤\n",
              "│ dense (<span style=\"color: #0087ff; text-decoration-color: #0087ff\">Dense</span>)                        │ (<span style=\"color: #00d7ff; text-decoration-color: #00d7ff\">None</span>, <span style=\"color: #00af00; text-decoration-color: #00af00\">512</span>)                 │          <span style=\"color: #00af00; text-decoration-color: #00af00\">66,048</span> │\n",
              "├──────────────────────────────────────┼─────────────────────────────┼─────────────────┤\n",
              "│ dense_1 (<span style=\"color: #0087ff; text-decoration-color: #0087ff\">Dense</span>)                      │ (<span style=\"color: #00d7ff; text-decoration-color: #00d7ff\">None</span>, <span style=\"color: #00af00; text-decoration-color: #00af00\">13</span>)                  │           <span style=\"color: #00af00; text-decoration-color: #00af00\">6,669</span> │\n",
              "└──────────────────────────────────────┴─────────────────────────────┴─────────────────┘\n",
              "</pre>\n"
            ],
            "text/plain": [
              "┏━━━━━━━━━━━━━━━━━━━━━━━━━━━━━━━━━━━━━━┳━━━━━━━━━━━━━━━━━━━━━━━━━━━━━┳━━━━━━━━━━━━━━━━━┓\n",
              "┃\u001b[1m \u001b[0m\u001b[1mLayer (type)                        \u001b[0m\u001b[1m \u001b[0m┃\u001b[1m \u001b[0m\u001b[1mOutput Shape               \u001b[0m\u001b[1m \u001b[0m┃\u001b[1m \u001b[0m\u001b[1m        Param #\u001b[0m\u001b[1m \u001b[0m┃\n",
              "┡━━━━━━━━━━━━━━━━━━━━━━━━━━━━━━━━━━━━━━╇━━━━━━━━━━━━━━━━━━━━━━━━━━━━━╇━━━━━━━━━━━━━━━━━┩\n",
              "│ conv2d (\u001b[38;5;33mConv2D\u001b[0m)                      │ (\u001b[38;5;45mNone\u001b[0m, \u001b[38;5;34m12\u001b[0m, \u001b[38;5;34m12\u001b[0m, \u001b[38;5;34m64\u001b[0m)          │             \u001b[38;5;34m640\u001b[0m │\n",
              "├──────────────────────────────────────┼─────────────────────────────┼─────────────────┤\n",
              "│ batch_normalization                  │ (\u001b[38;5;45mNone\u001b[0m, \u001b[38;5;34m12\u001b[0m, \u001b[38;5;34m12\u001b[0m, \u001b[38;5;34m64\u001b[0m)          │             \u001b[38;5;34m256\u001b[0m │\n",
              "│ (\u001b[38;5;33mBatchNormalization\u001b[0m)                 │                             │                 │\n",
              "├──────────────────────────────────────┼─────────────────────────────┼─────────────────┤\n",
              "│ conv2d_1 (\u001b[38;5;33mConv2D\u001b[0m)                    │ (\u001b[38;5;45mNone\u001b[0m, \u001b[38;5;34m12\u001b[0m, \u001b[38;5;34m12\u001b[0m, \u001b[38;5;34m64\u001b[0m)          │          \u001b[38;5;34m36,928\u001b[0m │\n",
              "├──────────────────────────────────────┼─────────────────────────────┼─────────────────┤\n",
              "│ batch_normalization_1                │ (\u001b[38;5;45mNone\u001b[0m, \u001b[38;5;34m12\u001b[0m, \u001b[38;5;34m12\u001b[0m, \u001b[38;5;34m64\u001b[0m)          │             \u001b[38;5;34m256\u001b[0m │\n",
              "│ (\u001b[38;5;33mBatchNormalization\u001b[0m)                 │                             │                 │\n",
              "├──────────────────────────────────────┼─────────────────────────────┼─────────────────┤\n",
              "│ max_pooling2d (\u001b[38;5;33mMaxPooling2D\u001b[0m)         │ (\u001b[38;5;45mNone\u001b[0m, \u001b[38;5;34m6\u001b[0m, \u001b[38;5;34m6\u001b[0m, \u001b[38;5;34m64\u001b[0m)            │               \u001b[38;5;34m0\u001b[0m │\n",
              "├──────────────────────────────────────┼─────────────────────────────┼─────────────────┤\n",
              "│ dropout (\u001b[38;5;33mDropout\u001b[0m)                    │ (\u001b[38;5;45mNone\u001b[0m, \u001b[38;5;34m6\u001b[0m, \u001b[38;5;34m6\u001b[0m, \u001b[38;5;34m64\u001b[0m)            │               \u001b[38;5;34m0\u001b[0m │\n",
              "├──────────────────────────────────────┼─────────────────────────────┼─────────────────┤\n",
              "│ conv2d_2 (\u001b[38;5;33mConv2D\u001b[0m)                    │ (\u001b[38;5;45mNone\u001b[0m, \u001b[38;5;34m6\u001b[0m, \u001b[38;5;34m6\u001b[0m, \u001b[38;5;34m128\u001b[0m)           │          \u001b[38;5;34m73,856\u001b[0m │\n",
              "├──────────────────────────────────────┼─────────────────────────────┼─────────────────┤\n",
              "│ batch_normalization_2                │ (\u001b[38;5;45mNone\u001b[0m, \u001b[38;5;34m6\u001b[0m, \u001b[38;5;34m6\u001b[0m, \u001b[38;5;34m128\u001b[0m)           │             \u001b[38;5;34m512\u001b[0m │\n",
              "│ (\u001b[38;5;33mBatchNormalization\u001b[0m)                 │                             │                 │\n",
              "├──────────────────────────────────────┼─────────────────────────────┼─────────────────┤\n",
              "│ conv2d_3 (\u001b[38;5;33mConv2D\u001b[0m)                    │ (\u001b[38;5;45mNone\u001b[0m, \u001b[38;5;34m6\u001b[0m, \u001b[38;5;34m6\u001b[0m, \u001b[38;5;34m128\u001b[0m)           │         \u001b[38;5;34m147,584\u001b[0m │\n",
              "├──────────────────────────────────────┼─────────────────────────────┼─────────────────┤\n",
              "│ batch_normalization_3                │ (\u001b[38;5;45mNone\u001b[0m, \u001b[38;5;34m6\u001b[0m, \u001b[38;5;34m6\u001b[0m, \u001b[38;5;34m128\u001b[0m)           │             \u001b[38;5;34m512\u001b[0m │\n",
              "│ (\u001b[38;5;33mBatchNormalization\u001b[0m)                 │                             │                 │\n",
              "├──────────────────────────────────────┼─────────────────────────────┼─────────────────┤\n",
              "│ max_pooling2d_1 (\u001b[38;5;33mMaxPooling2D\u001b[0m)       │ (\u001b[38;5;45mNone\u001b[0m, \u001b[38;5;34m3\u001b[0m, \u001b[38;5;34m3\u001b[0m, \u001b[38;5;34m128\u001b[0m)           │               \u001b[38;5;34m0\u001b[0m │\n",
              "├──────────────────────────────────────┼─────────────────────────────┼─────────────────┤\n",
              "│ global_max_pooling2d                 │ (\u001b[38;5;45mNone\u001b[0m, \u001b[38;5;34m128\u001b[0m)                 │               \u001b[38;5;34m0\u001b[0m │\n",
              "│ (\u001b[38;5;33mGlobalMaxPooling2D\u001b[0m)                 │                             │                 │\n",
              "├──────────────────────────────────────┼─────────────────────────────┼─────────────────┤\n",
              "│ dense (\u001b[38;5;33mDense\u001b[0m)                        │ (\u001b[38;5;45mNone\u001b[0m, \u001b[38;5;34m512\u001b[0m)                 │          \u001b[38;5;34m66,048\u001b[0m │\n",
              "├──────────────────────────────────────┼─────────────────────────────┼─────────────────┤\n",
              "│ dense_1 (\u001b[38;5;33mDense\u001b[0m)                      │ (\u001b[38;5;45mNone\u001b[0m, \u001b[38;5;34m13\u001b[0m)                  │           \u001b[38;5;34m6,669\u001b[0m │\n",
              "└──────────────────────────────────────┴─────────────────────────────┴─────────────────┘\n"
            ]
          },
          "metadata": {},
          "output_type": "display_data"
        },
        {
          "data": {
            "text/html": [
              "<pre style=\"white-space:pre;overflow-x:auto;line-height:normal;font-family:Menlo,'DejaVu Sans Mono',consolas,'Courier New',monospace\"><span style=\"font-weight: bold\"> Total params: </span><span style=\"color: #00af00; text-decoration-color: #00af00\">333,261</span> (1.27 MB)\n",
              "</pre>\n"
            ],
            "text/plain": [
              "\u001b[1m Total params: \u001b[0m\u001b[38;5;34m333,261\u001b[0m (1.27 MB)\n"
            ]
          },
          "metadata": {},
          "output_type": "display_data"
        },
        {
          "data": {
            "text/html": [
              "<pre style=\"white-space:pre;overflow-x:auto;line-height:normal;font-family:Menlo,'DejaVu Sans Mono',consolas,'Courier New',monospace\"><span style=\"font-weight: bold\"> Trainable params: </span><span style=\"color: #00af00; text-decoration-color: #00af00\">332,493</span> (1.27 MB)\n",
              "</pre>\n"
            ],
            "text/plain": [
              "\u001b[1m Trainable params: \u001b[0m\u001b[38;5;34m332,493\u001b[0m (1.27 MB)\n"
            ]
          },
          "metadata": {},
          "output_type": "display_data"
        },
        {
          "data": {
            "text/html": [
              "<pre style=\"white-space:pre;overflow-x:auto;line-height:normal;font-family:Menlo,'DejaVu Sans Mono',consolas,'Courier New',monospace\"><span style=\"font-weight: bold\"> Non-trainable params: </span><span style=\"color: #00af00; text-decoration-color: #00af00\">768</span> (3.00 KB)\n",
              "</pre>\n"
            ],
            "text/plain": [
              "\u001b[1m Non-trainable params: \u001b[0m\u001b[38;5;34m768\u001b[0m (3.00 KB)\n"
            ]
          },
          "metadata": {},
          "output_type": "display_data"
        }
      ],
      "source": [
        "from tensorflow.keras.models import Sequential\n",
        "from tensorflow.keras.layers import Conv2D, BatchNormalization, MaxPooling2D, Dropout, GlobalMaxPooling2D, Dense\n",
        "\n",
        "# Define the input shape of the data\n",
        "input_shape = (12, 12, 1)\n",
        "\n",
        "\n",
        "num_classes = 13\n",
        "\n",
        "# Build the model\n",
        "model = Sequential([\n",
        "    Conv2D(64, (3, 3), activation='relu', input_shape=input_shape, padding='same'),\n",
        "    BatchNormalization(),\n",
        "    Conv2D(64, (3, 3), activation='relu', padding='same'),\n",
        "    BatchNormalization(),\n",
        "    MaxPooling2D(pool_size=(2, 2)),\n",
        "    Dropout(0.3),\n",
        "\n",
        "    Conv2D(128, (3, 3), activation='relu', padding='same'),\n",
        "    BatchNormalization(),\n",
        "    Conv2D(128, (3, 3), activation='relu', padding='same'),\n",
        "    BatchNormalization(),\n",
        "    MaxPooling2D(pool_size=(2, 2)),\n",
        "\n",
        "\n",
        "    GlobalMaxPooling2D(),\n",
        "\n",
        "    Dense(512, activation='relu'),\n",
        "\n",
        "    Dense(num_classes, activation='softmax')  # Number of classes\n",
        "])\n",
        "\n",
        "# Print the model summary\n",
        "model.summary()\n"
      ]
    },
    {
      "cell_type": "code",
      "execution_count": null,
      "id": "4b132031-3e20-4655-8df0-fc17afa3508f",
      "metadata": {
        "id": "4b132031-3e20-4655-8df0-fc17afa3508f"
      },
      "outputs": [],
      "source": [
        "optimizer = Adam(learning_rate=0.001)\n",
        "model.compile(optimizer=optimizer,\n",
        "              loss='categorical_crossentropy',\n",
        "              metrics=['accuracy', precision_m, recall_m, f1_m])"
      ]
    },
    {
      "cell_type": "code",
      "execution_count": null,
      "id": "d762d748-a84f-435b-8f3b-784e3515d63e",
      "metadata": {
        "id": "d762d748-a84f-435b-8f3b-784e3515d63e"
      },
      "outputs": [],
      "source": [
        "x_train = x_train.reshape(x_train.shape[0], 12, 12, 1)\n",
        "x_train = x_train.astype('float32')\n"
      ]
    },
    {
      "cell_type": "code",
      "execution_count": null,
      "id": "2745395a-00fc-42fa-b19f-f9e88d66f7be",
      "metadata": {
        "id": "2745395a-00fc-42fa-b19f-f9e88d66f7be"
      },
      "outputs": [],
      "source": [
        "from keras.utils import to_categorical\n",
        "\n",
        "y_train_one_hot = to_categorical(y_train, num_classes=13)\n",
        "y_test_one_hot = to_categorical(y_test, num_classes=13)\n"
      ]
    },
    {
      "cell_type": "code",
      "execution_count": null,
      "id": "b34649e6-e3f6-4d8b-b472-359d59539f9f",
      "metadata": {
        "id": "b34649e6-e3f6-4d8b-b472-359d59539f9f",
        "outputId": "93ea9b55-63c1-4db7-8703-c49db3d59f60"
      },
      "outputs": [
        {
          "name": "stdout",
          "output_type": "stream",
          "text": [
            "Epoch 1/30\n",
            "\u001b[1m1471/1471\u001b[0m \u001b[32m━━━━━━━━━━━━━━━━━━━━\u001b[0m\u001b[37m\u001b[0m \u001b[1m150s\u001b[0m 91ms/step - accuracy: 0.5979 - f1_m: 0.5603 - loss: 1.1755 - precision_m: 0.7291 - recall_m: 0.4681 - val_accuracy: 0.7387 - val_f1_m: 0.7365 - val_loss: 0.7589 - val_precision_m: 0.7999 - val_recall_m: 0.6832\n",
            "Epoch 2/30\n",
            "\u001b[1m1471/1471\u001b[0m \u001b[32m━━━━━━━━━━━━━━━━━━━━\u001b[0m\u001b[37m\u001b[0m \u001b[1m122s\u001b[0m 83ms/step - accuracy: 0.7506 - f1_m: 0.7443 - loss: 0.7081 - precision_m: 0.8257 - recall_m: 0.6788 - val_accuracy: 0.7989 - val_f1_m: 0.7980 - val_loss: 0.5798 - val_precision_m: 0.8482 - val_recall_m: 0.7541\n",
            "Epoch 3/30\n",
            "\u001b[1m1471/1471\u001b[0m \u001b[32m━━━━━━━━━━━━━━━━━━━━\u001b[0m\u001b[37m\u001b[0m \u001b[1m140s\u001b[0m 82ms/step - accuracy: 0.7925 - f1_m: 0.7886 - loss: 0.5937 - precision_m: 0.8473 - recall_m: 0.7385 - val_accuracy: 0.8103 - val_f1_m: 0.8088 - val_loss: 0.5490 - val_precision_m: 0.8475 - val_recall_m: 0.7740\n",
            "Epoch 4/30\n",
            "\u001b[1m1471/1471\u001b[0m \u001b[32m━━━━━━━━━━━━━━━━━━━━\u001b[0m\u001b[37m\u001b[0m \u001b[1m145s\u001b[0m 98ms/step - accuracy: 0.8311 - f1_m: 0.8294 - loss: 0.4869 - precision_m: 0.8707 - recall_m: 0.7925 - val_accuracy: 0.8418 - val_f1_m: 0.8412 - val_loss: 0.4831 - val_precision_m: 0.8717 - val_recall_m: 0.8133\n",
            "Epoch 6/30\n",
            "\u001b[1m1471/1471\u001b[0m \u001b[32m━━━━━━━━━━━━━━━━━━━━\u001b[0m\u001b[37m\u001b[0m \u001b[1m125s\u001b[0m 85ms/step - accuracy: 0.8439 - f1_m: 0.8446 - loss: 0.4513 - precision_m: 0.8809 - recall_m: 0.8118 - val_accuracy: 0.8563 - val_f1_m: 0.8563 - val_loss: 0.4247 - val_precision_m: 0.8847 - val_recall_m: 0.8301\n",
            "Epoch 7/30\n",
            "\u001b[1m1471/1471\u001b[0m \u001b[32m━━━━━━━━━━━━━━━━━━━━\u001b[0m\u001b[37m\u001b[0m \u001b[1m138s\u001b[0m 94ms/step - accuracy: 0.8549 - f1_m: 0.8539 - loss: 0.4262 - precision_m: 0.8856 - recall_m: 0.8250 - val_accuracy: 0.8622 - val_f1_m: 0.8629 - val_loss: 0.4332 - val_precision_m: 0.8834 - val_recall_m: 0.8436\n",
            "Epoch 8/30\n",
            "\u001b[1m1471/1471\u001b[0m \u001b[32m━━━━━━━━━━━━━━━━━━━━\u001b[0m\u001b[37m\u001b[0m \u001b[1m131s\u001b[0m 89ms/step - accuracy: 0.8622 - f1_m: 0.8614 - loss: 0.4047 - precision_m: 0.8906 - recall_m: 0.8346 - val_accuracy: 0.8616 - val_f1_m: 0.8637 - val_loss: 0.4122 - val_precision_m: 0.8843 - val_recall_m: 0.8443\n",
            "Epoch 9/30\n",
            "\u001b[1m1471/1471\u001b[0m \u001b[32m━━━━━━━━━━━━━━━━━━━━\u001b[0m\u001b[37m\u001b[0m \u001b[1m129s\u001b[0m 88ms/step - accuracy: 0.8677 - f1_m: 0.8675 - loss: 0.3885 - precision_m: 0.8939 - recall_m: 0.8430 - val_accuracy: 0.8692 - val_f1_m: 0.8702 - val_loss: 0.3972 - val_precision_m: 0.8900 - val_recall_m: 0.8515\n",
            "Epoch 10/30\n",
            "\u001b[1m1471/1471\u001b[0m \u001b[32m━━━━━━━━━━━━━━━━━━━━\u001b[0m\u001b[37m\u001b[0m \u001b[1m108s\u001b[0m 74ms/step - accuracy: 0.8736 - f1_m: 0.8738 - loss: 0.3665 - precision_m: 0.8980 - recall_m: 0.8513 - val_accuracy: 0.8776 - val_f1_m: 0.8779 - val_loss: 0.3811 - val_precision_m: 0.8950 - val_recall_m: 0.8616\n",
            "Epoch 11/30\n",
            "\u001b[1m1471/1471\u001b[0m \u001b[32m━━━━━━━━━━━━━━━━━━━━\u001b[0m\u001b[37m\u001b[0m \u001b[1m100s\u001b[0m 68ms/step - accuracy: 0.8815 - f1_m: 0.8807 - loss: 0.3520 - precision_m: 0.9025 - recall_m: 0.8603 - val_accuracy: 0.8779 - val_f1_m: 0.8780 - val_loss: 0.3664 - val_precision_m: 0.8978 - val_recall_m: 0.8594\n",
            "Epoch 12/30\n",
            "\u001b[1m1471/1471\u001b[0m \u001b[32m━━━━━━━━━━━━━━━━━━━━\u001b[0m\u001b[37m\u001b[0m \u001b[1m118s\u001b[0m 80ms/step - accuracy: 0.8856 - f1_m: 0.8854 - loss: 0.3365 - precision_m: 0.9062 - recall_m: 0.8659 - val_accuracy: 0.8830 - val_f1_m: 0.8841 - val_loss: 0.3638 - val_precision_m: 0.8989 - val_recall_m: 0.8700\n",
            "Epoch 13/30\n",
            "\u001b[1m1471/1471\u001b[0m \u001b[32m━━━━━━━━━━━━━━━━━━━━\u001b[0m\u001b[37m\u001b[0m \u001b[1m111s\u001b[0m 76ms/step - accuracy: 0.8865 - f1_m: 0.8867 - loss: 0.3320 - precision_m: 0.9064 - recall_m: 0.8682 - val_accuracy: 0.8803 - val_f1_m: 0.8814 - val_loss: 0.3682 - val_precision_m: 0.8963 - val_recall_m: 0.8671\n",
            "Epoch 14/30\n",
            "\u001b[1m1471/1471\u001b[0m \u001b[32m━━━━━━━━━━━━━━━━━━━━\u001b[0m\u001b[37m\u001b[0m \u001b[1m106s\u001b[0m 72ms/step - accuracy: 0.8913 - f1_m: 0.8910 - loss: 0.3202 - precision_m: 0.9095 - recall_m: 0.8735 - val_accuracy: 0.8863 - val_f1_m: 0.8868 - val_loss: 0.3468 - val_precision_m: 0.9010 - val_recall_m: 0.8733\n",
            "Epoch 15/30\n",
            "\u001b[1m1471/1471\u001b[0m \u001b[32m━━━━━━━━━━━━━━━━━━━━\u001b[0m\u001b[37m\u001b[0m \u001b[1m113s\u001b[0m 77ms/step - accuracy: 0.8948 - f1_m: 0.8952 - loss: 0.3101 - precision_m: 0.9120 - recall_m: 0.8792 - val_accuracy: 0.8833 - val_f1_m: 0.8844 - val_loss: 0.3635 - val_precision_m: 0.8977 - val_recall_m: 0.8716\n",
            "Epoch 16/30\n",
            "\u001b[1m1471/1471\u001b[0m \u001b[32m━━━━━━━━━━━━━━━━━━━━\u001b[0m\u001b[37m\u001b[0m \u001b[1m114s\u001b[0m 78ms/step - accuracy: 0.8974 - f1_m: 0.8980 - loss: 0.3022 - precision_m: 0.9143 - recall_m: 0.8826 - val_accuracy: 0.8878 - val_f1_m: 0.8883 - val_loss: 0.3538 - val_precision_m: 0.9008 - val_recall_m: 0.8763\n",
            "Epoch 17/30\n",
            "\u001b[1m1471/1471\u001b[0m \u001b[32m━━━━━━━━━━━━━━━━━━━━\u001b[0m\u001b[37m\u001b[0m \u001b[1m116s\u001b[0m 79ms/step - accuracy: 0.9016 - f1_m: 0.9006 - loss: 0.2936 - precision_m: 0.9167 - recall_m: 0.8852 - val_accuracy: 0.8862 - val_f1_m: 0.8865 - val_loss: 0.3612 - val_precision_m: 0.8986 - val_recall_m: 0.8748\n",
            "Epoch 18/30\n",
            "\u001b[1m1471/1471\u001b[0m \u001b[32m━━━━━━━━━━━━━━━━━━━━\u001b[0m\u001b[37m\u001b[0m \u001b[1m135s\u001b[0m 92ms/step - accuracy: 0.9044 - f1_m: 0.9049 - loss: 0.2839 - precision_m: 0.9195 - recall_m: 0.8910 - val_accuracy: 0.8950 - val_f1_m: 0.8949 - val_loss: 0.3387 - val_precision_m: 0.9056 - val_recall_m: 0.8846\n",
            "Epoch 19/30\n",
            "\u001b[1m1471/1471\u001b[0m \u001b[32m━━━━━━━━━━━━━━━━━━━━\u001b[0m\u001b[37m\u001b[0m \u001b[1m129s\u001b[0m 88ms/step - accuracy: 0.9040 - f1_m: 0.9045 - loss: 0.2812 - precision_m: 0.9195 - recall_m: 0.8901 - val_accuracy: 0.8982 - val_f1_m: 0.8995 - val_loss: 0.3218 - val_precision_m: 0.9116 - val_recall_m: 0.8879\n",
            "Epoch 20/30\n",
            "\u001b[1m1471/1471\u001b[0m \u001b[32m━━━━━━━━━━━━━━━━━━━━\u001b[0m\u001b[37m\u001b[0m \u001b[1m122s\u001b[0m 83ms/step - accuracy: 0.9088 - f1_m: 0.9089 - loss: 0.2697 - precision_m: 0.9224 - recall_m: 0.8960 - val_accuracy: 0.8945 - val_f1_m: 0.8951 - val_loss: 0.3310 - val_precision_m: 0.9083 - val_recall_m: 0.8825\n",
            "Epoch 21/30\n",
            "\u001b[1m1471/1471\u001b[0m \u001b[32m━━━━━━━━━━━━━━━━━━━━\u001b[0m\u001b[37m\u001b[0m \u001b[1m123s\u001b[0m 84ms/step - accuracy: 0.9081 - f1_m: 0.9086 - loss: 0.2681 - precision_m: 0.9216 - recall_m: 0.8962 - val_accuracy: 0.8994 - val_f1_m: 0.9001 - val_loss: 0.3255 - val_precision_m: 0.9106 - val_recall_m: 0.8901\n",
            "Epoch 22/30\n",
            "\u001b[1m 459/1471\u001b[0m \u001b[32m━━━━━━\u001b[0m\u001b[37m━━━━━━━━━━━━━━\u001b[0m \u001b[1m1:23\u001b[0m 82ms/step - accuracy: 0.9125 - f1_m: 0.9115 - loss: 0.2597 - precision_m: 0.9224 - recall_m: 0.9010"
          ]
        }
      ],
      "source": [
        "history = model.fit(\n",
        "    x_train, y_train_one_hot,\n",
        "    validation_data=(x_test, y_test_one_hot),\n",
        "    epochs=30,\n",
        "    batch_size=64\n",
        ")\n",
        "\n"
      ]
    },
    {
      "cell_type": "code",
      "execution_count": null,
      "id": "31fec854-8479-495d-af6b-1a8ea3082d5c",
      "metadata": {
        "id": "31fec854-8479-495d-af6b-1a8ea3082d5c"
      },
      "outputs": [],
      "source": [
        "# Predict on the test set\n",
        "y_pred_prob = model.predict(x_test)\n",
        "y_pred = np.argmax(y_pred_prob, axis=1)\n",
        "y_true = np.argmax(y_test_one_hot, axis=1)\n",
        "\n",
        "# Calculate the weighted F1 score\n",
        "weighted_f1 = f1_score(y_true, y_pred, average='weighted')\n",
        "print(\"Weighted F1 Score:\", weighted_f1)"
      ]
    },
    {
      "cell_type": "code",
      "execution_count": null,
      "id": "076b7e16-58a0-4a93-b890-0762f0ee4ea6",
      "metadata": {
        "id": "076b7e16-58a0-4a93-b890-0762f0ee4ea6"
      },
      "outputs": [],
      "source": [
        "model.save('my_model.keras')"
      ]
    },
    {
      "cell_type": "code",
      "execution_count": null,
      "id": "e7002a9d-cb0b-492d-b675-90893f3a9152",
      "metadata": {
        "id": "e7002a9d-cb0b-492d-b675-90893f3a9152"
      },
      "outputs": [],
      "source": [
        "from tensorflow.keras.models import load_model\n",
        "\n",
        "# Load the model from the .h5 file\n",
        "model_HAR_loaded = load_model('my_model.keras', custom_objects={'f1_m': f1_m, 'precision_m': precision_m, 'recall_m': recall_m})\n",
        "\n",
        "# Print the summary of the loaded model to verify\n",
        "model_HAR_loaded.summary()"
      ]
    },
    {
      "cell_type": "code",
      "execution_count": null,
      "id": "acd02289-f944-4fac-ae58-ed596561b321",
      "metadata": {
        "id": "acd02289-f944-4fac-ae58-ed596561b321"
      },
      "outputs": [],
      "source": [
        "import json\n",
        "\n",
        "# Convert the NumPy arrays to lists\n",
        "history_dict = {key: [float(val) for val in values] for key, values in history.history.items()}\n",
        "\n",
        "# Save the history as JSON\n",
        "with open('model_history.json', 'w') as f:\n",
        "    json.dump(history_dict, f)"
      ]
    },
    {
      "cell_type": "code",
      "execution_count": null,
      "id": "9c86d8e8-d49f-4578-9a60-a4e5b37b699d",
      "metadata": {
        "id": "9c86d8e8-d49f-4578-9a60-a4e5b37b699d"
      },
      "outputs": [],
      "source": [
        "import json\n",
        "\n",
        "# Load the history from the JSON file\n",
        "with open('model_history.json', 'r') as f:\n",
        "    history = json.load(f)\n",
        "\n",
        "# Optionally, convert lists back to NumPy arrays (if needed)\n",
        "import numpy as np\n",
        "history = {key: np.array(values) for key, values in history.items()}\n",
        "\n",
        "# Now you can use the history dictionary\n",
        "print(history)"
      ]
    },
    {
      "cell_type": "code",
      "execution_count": null,
      "id": "4a09af1a-a072-44e1-bb4a-4e2cdd9a7a19",
      "metadata": {
        "id": "4a09af1a-a072-44e1-bb4a-4e2cdd9a7a19"
      },
      "outputs": [],
      "source": [
        "\n",
        "import numpy as np\n",
        "from sklearn.metrics import confusion_matrix, ConfusionMatrixDisplay\n",
        "import matplotlib.pyplot as plt\n",
        "\n",
        "# Assuming model_CNN is already trained and x_test, y_test_one_hot are available\n",
        "\n",
        "# Predict the labels for the test set\n",
        "y_pred = model.predict(x_test)\n",
        "\n",
        "# Convert one-hot encoded labels to class labels\n",
        "y_test_labels = y_test_one_hot.argmax(axis=1)\n",
        "y_pred_labels = y_pred.argmax(axis=1)\n",
        "\n",
        "# Compute the confusion matrix\n",
        "cm = confusion_matrix(y_test_labels, y_pred_labels)\n",
        "\n",
        "# Calculate overall accuracy\n",
        "accuracy = np.trace(cm) / np.sum(cm)\n",
        "\n",
        "# Normalize the confusion matrix by row (true classes)\n",
        "cm_normalized = cm.astype('float') / cm.sum(axis=1)[:, np.newaxis]\n",
        "\n",
        "# Convert to percentages\n",
        "cm_percent = cm_normalized * 100\n",
        "\n",
        "# Print the confusion matrix in percentages\n",
        "print(\"Confusion Matrix (in percentages):\")\n",
        "print(np.around(cm_percent, decimals=2))\n",
        "\n",
        "# Print overall accuracy\n",
        "print(f\"Overall Accuracy: {accuracy * 100:.2f}%\")\n",
        "\n",
        "# Plot the confusion matrix\n",
        "fig, ax = plt.subplots(figsize=(10, 10))\n",
        "disp = ConfusionMatrixDisplay(confusion_matrix=cm_percent, display_labels=np.unique(y_test_labels))\n",
        "disp.plot(cmap=plt.cm.Blues, ax=ax, values_format=\".2f\")\n",
        "plt.title('Confusion Matrix in Percentage')\n",
        "plt.xlabel('Predicted Label')\n",
        "plt.ylabel('True Label')\n",
        "plt.grid(False)\n",
        "plt.show()\n"
      ]
    },
    {
      "cell_type": "code",
      "execution_count": null,
      "id": "e0daf6f1-01b5-458e-9fe5-b7891b71e118",
      "metadata": {
        "id": "e0daf6f1-01b5-458e-9fe5-b7891b71e118"
      },
      "outputs": [],
      "source": [
        "# Extract training and validation loss from history\n",
        "train_losses = history['loss']\n",
        "val_losses = history['val_loss']\n",
        "epochs = range(1, len(train_losses) + 1)\n",
        "\n",
        "# Plotting train and test loss curves\n",
        "plt.figure(figsize=(10, 5))\n",
        "plt.plot(epochs, train_losses, label='Train Loss')\n",
        "plt.plot(epochs, val_losses, label='Validation Loss')\n",
        "plt.xlabel('Epochs')\n",
        "plt.ylabel('Loss')\n",
        "plt.title('Training and Validation Loss Curves')\n",
        "plt.legend()\n",
        "plt.grid(True)\n",
        "plt.show()\n"
      ]
    },
    {
      "cell_type": "code",
      "execution_count": null,
      "id": "de61d060-db3a-41e5-8119-a2efbcf44f0a",
      "metadata": {
        "id": "de61d060-db3a-41e5-8119-a2efbcf44f0a"
      },
      "outputs": [],
      "source": [
        "import numpy as np\n",
        "import matplotlib.pyplot as plt\n",
        "from sklearn.metrics import classification_report\n",
        "\n",
        "\n",
        "\n",
        "# Ensure class_names contains the correct unique classes\n",
        "class_names = np.unique(np.concatenate((y_test_labels, y_pred_labels)))\n",
        "\n",
        "# Compute classification report\n",
        "report = classification_report(y_test_labels, y_pred_labels, target_names=class_names, output_dict=True)\n",
        "\n",
        "# Extract metrics for each class\n",
        "per_class_precision = [report[class_name]['precision'] for class_name in class_names]\n",
        "per_class_recall = [report[class_name]['recall'] for class_name in class_names]\n",
        "per_class_f1 = [report[class_name]['f1-score'] for class_name in class_names]\n",
        "\n",
        "# Example calculation of per-class accuracy (replace with your actual calculation)\n",
        "per_class_accuracy = np.random.rand(len(class_names))  # Replace with actual accuracy calculation\n",
        "\n",
        "# Plotting per-class metrics\n",
        "plt.figure(figsize=(12, 6))\n",
        "\n",
        "bar_width = 0.2\n",
        "index = np.arange(len(class_names))\n",
        "\n",
        "plt.bar(index - 1.5 * bar_width, per_class_precision, width=bar_width, label='Precision')\n",
        "plt.bar(index - 0.5 * bar_width, per_class_recall, width=bar_width, label='Recall')\n",
        "plt.bar(index + 0.5 * bar_width, per_class_f1, width=bar_width, label='F1 Score')\n",
        "plt.bar(index + 1.5 * bar_width, per_class_accuracy, width=bar_width, label='Accuracy')\n",
        "\n",
        "plt.xlabel('Class')\n",
        "plt.ylabel('Scores')\n",
        "plt.title('Per-Class Metrics')\n",
        "plt.xticks(index, class_names, rotation=45)\n",
        "plt.ylim(0, 1)  # Assuming accuracy ranges from 0 to 1\n",
        "plt.legend()\n",
        "plt.tight_layout()\n",
        "plt.show()\n"
      ]
    },
    {
      "cell_type": "code",
      "execution_count": null,
      "id": "b2bb805b-1235-444c-be0d-47a28c20f242",
      "metadata": {
        "id": "b2bb805b-1235-444c-be0d-47a28c20f242"
      },
      "outputs": [],
      "source": []
    }
  ],
  "metadata": {
    "kernelspec": {
      "display_name": "Python 3 (ipykernel)",
      "language": "python",
      "name": "python3"
    },
    "language_info": {
      "codemirror_mode": {
        "name": "ipython",
        "version": 3
      },
      "file_extension": ".py",
      "mimetype": "text/x-python",
      "name": "python",
      "nbconvert_exporter": "python",
      "pygments_lexer": "ipython3",
      "version": "3.12.4"
    },
    "colab": {
      "provenance": []
    }
  },
  "nbformat": 4,
  "nbformat_minor": 5
}